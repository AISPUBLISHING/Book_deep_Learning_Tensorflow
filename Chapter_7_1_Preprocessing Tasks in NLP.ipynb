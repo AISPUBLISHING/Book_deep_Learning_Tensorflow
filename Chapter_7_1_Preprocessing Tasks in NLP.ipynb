{
 "cells": [
  {
   "cell_type": "markdown",
   "metadata": {},
   "source": [
    "### Tokenization"
   ]
  },
  {
   "cell_type": "code",
   "execution_count": 2,
   "metadata": {},
   "outputs": [
    {
     "name": "stdout",
     "output_type": "stream",
     "text": [
      "['Hello', ',', 'this', 'is', 'a', 'very', 'useful', 'book', 'for', 'deep', 'learning']\n"
     ]
    }
   ],
   "source": [
    "import nltk\n",
    "text = \"Hello, this is a very useful book for deep learning\"\n",
    "tokens = nltk.word_tokenize(text)\n",
    "print(tokens)"
   ]
  },
  {
   "cell_type": "markdown",
   "metadata": {},
   "source": [
    "### Stemming and Lemmatization"
   ]
  },
  {
   "cell_type": "code",
   "execution_count": 10,
   "metadata": {},
   "outputs": [
    {
     "name": "stdout",
     "output_type": "stream",
     "text": [
      "comput\n",
      "comput\n",
      "comput\n",
      "comput\n",
      "comput\n"
     ]
    }
   ],
   "source": [
    "from nltk.stem import PorterStemmer\n",
    "words = [\"Compute\", \"Computer\", \"Computing\", \"Computed\", \"Computes\"]\n",
    "ps =PorterStemmer()\n",
    "for word in words :\n",
    "    stem=ps.stem(word)\n",
    "    print(stem)"
   ]
  },
  {
   "cell_type": "code",
   "execution_count": 26,
   "metadata": {},
   "outputs": [
    {
     "name": "stdout",
     "output_type": "stream",
     "text": [
      "act\n",
      "acted\n",
      "smile\n",
      "smile\n"
     ]
    }
   ],
   "source": [
    "import nltk\n",
    "from nltk.stem import \tWordNetLemmatizer\n",
    "wordnet_lemmatizer = WordNetLemmatizer()\n",
    "words = [\"acts\",\"acted\", \"smiles\", \"smile\"]\n",
    "\n",
    "for word in words :\n",
    "    lemma = wordnet_lemmatizer.lemmatize(word)\n",
    "    print(lemma)"
   ]
  },
  {
   "cell_type": "markdown",
   "metadata": {},
   "source": [
    "### Stopword Removal"
   ]
  },
  {
   "cell_type": "code",
   "execution_count": 30,
   "metadata": {},
   "outputs": [
    {
     "name": "stdout",
     "output_type": "stream",
     "text": [
      "Hello , useful book deep learning\n"
     ]
    },
    {
     "name": "stderr",
     "output_type": "stream",
     "text": [
      "[nltk_data] Downloading package stopwords to\n",
      "[nltk_data]     C:\\Users\\usman\\AppData\\Roaming\\nltk_data...\n",
      "[nltk_data]   Package stopwords is already up-to-date!\n"
     ]
    }
   ],
   "source": [
    "from nltk.corpus import stopwords\n",
    "nltk.download('stopwords')\n",
    "from nltk.tokenize import word_tokenize\n",
    "\n",
    "text = \"Hello, this is a very useful book for deep learning\"\n",
    "word_tokens = word_tokenize(text)\n",
    "\n",
    "text_without_stopwords = [word for word in word_tokens if not word in stopwords.words()]\n",
    "\n",
    "print(\" \".join(text_without_stopwords))"
   ]
  },
  {
   "cell_type": "markdown",
   "metadata": {},
   "source": [
    "### POS Tagging"
   ]
  },
  {
   "cell_type": "code",
   "execution_count": 40,
   "metadata": {},
   "outputs": [
    {
     "data": {
      "text/plain": [
       "[('Hello', 'NNP'),\n",
       " (',', ','),\n",
       " ('this', 'DT'),\n",
       " ('is', 'VBZ'),\n",
       " ('a', 'DT'),\n",
       " ('very', 'RB'),\n",
       " ('useful', 'JJ'),\n",
       " ('book', 'NN'),\n",
       " ('for', 'IN'),\n",
       " ('deep', 'JJ'),\n",
       " ('learning', 'NN')]"
      ]
     },
     "execution_count": 40,
     "metadata": {},
     "output_type": "execute_result"
    }
   ],
   "source": [
    "import nltk\n",
    "text = \"Hello, this is a very useful book for deep learning\"\n",
    "tokens = nltk.word_tokenize(text)\n",
    "nltk.pos_tag(tokens)"
   ]
  },
  {
   "cell_type": "markdown",
   "metadata": {},
   "source": [
    "### Text Cleaning "
   ]
  },
  {
   "cell_type": "code",
   "execution_count": 57,
   "metadata": {},
   "outputs": [
    {
     "name": "stdout",
     "output_type": "stream",
     "text": [
      "Hello  my cell number is          and my email is  abc xyz\n",
      "Hello my cell number is and my email is abc xyz\n"
     ]
    }
   ],
   "source": [
    "import re\n",
    "\n",
    "## remove numbers and special characters\n",
    "text = \"Hello, my cell number is 12121121 and my email is: abc@xyz\"\n",
    "cleaned_text = re.sub('[^a-zA-Z]', ' ', text)\n",
    "print(cleaned_text)\n",
    "\n",
    "## replace multiple spaces by a single space\n",
    "cleaned_text2  = re.sub(r'\\s+', ' ', cleaned_text)\n",
    "print(cleaned_text2)\n"
   ]
  },
  {
   "cell_type": "code",
   "execution_count": null,
   "metadata": {},
   "outputs": [],
   "source": []
  }
 ],
 "metadata": {
  "kernelspec": {
   "display_name": "Python 3",
   "language": "python",
   "name": "python3"
  },
  "language_info": {
   "codemirror_mode": {
    "name": "ipython",
    "version": 3
   },
   "file_extension": ".py",
   "mimetype": "text/x-python",
   "name": "python",
   "nbconvert_exporter": "python",
   "pygments_lexer": "ipython3",
   "version": "3.7.4"
  }
 },
 "nbformat": 4,
 "nbformat_minor": 2
}
