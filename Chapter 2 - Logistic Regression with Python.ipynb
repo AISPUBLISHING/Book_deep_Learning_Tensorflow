{
 "cells": [
  {
   "cell_type": "markdown",
   "metadata": {},
   "source": [
    "## Section 2.2"
   ]
  },
  {
   "cell_type": "code",
   "execution_count": 1,
   "metadata": {},
   "outputs": [
    {
     "name": "stdout",
     "output_type": "stream",
     "text": [
      "0.39079665797943763\n",
      "0.2222334940410439\n",
      "0.11984361094462588\n",
      "0.08798181906919457\n",
      "0.07426986105697198\n",
      "0.06584523035229246\n",
      "0.05981809584178409\n",
      "0.055167437141959944\n",
      "0.0514084781327243\n",
      "0.048271767704097676\n",
      "0.04559253370969552\n",
      "0.043263101650851184\n",
      "0.041209485592238373\n",
      "0.039378781021005255\n",
      "0.03773190587768858\n",
      "0.03623919496089323\n",
      "0.03487760808098697\n",
      "0.03362889539749175\n",
      "0.03247835370272752\n",
      "0.03141396029104727\n",
      "0.030425755397169435\n",
      "0.029505392616344904\n",
      "0.028645805510371963\n",
      "0.02784095625297655\n",
      "0.02708564328695312\n",
      "0.026375352143770823\n",
      "0.02570613831411776\n",
      "0.02507453424805227\n",
      "0.024477474751043792\n",
      "0.02391223656745818\n",
      "0.023376389022841945\n",
      "0.0228677533715714\n",
      "0.022384369060206372\n",
      "0.021924465531811987\n",
      "0.02148643850528243\n",
      "0.0210688298958485\n",
      "0.02067031071916968\n",
      "0.020289666456378752\n",
      "0.019925784461689713\n",
      "0.01957764307532914\n"
     ]
    }
   ],
   "source": [
    "import pandas as pd\n",
    "import numpy as np\n",
    "import matplotlib.pyplot as plt\n",
    "import numpy as np\n",
    "\n",
    "dataset = pd.read_csv(\"https://raw.githubusercontent.com/Kuntal-G/Machine-Learning/master/R-machine-learning/data/banknote-authentication.csv\")\n",
    "\n",
    "\n",
    "X = dataset.drop(['class'], axis=1).values\n",
    "\n",
    "y = dataset['class'].values\n",
    "\n",
    "y = y.reshape(y.shape[0],1)\n",
    "\n",
    "def define_parameters(n_weights):\n",
    "    w = np.random.randn( n_weights, 1)\n",
    "    b = np.random.randn()\n",
    "    \n",
    "    return w, b\n",
    "\n",
    "def sigmoid(x):\n",
    "    return 1/(1+np.exp(-x))\n",
    "\n",
    "def sigmoid_der(x):\n",
    "    return sigmoid(x)*(1-sigmoid(x))\n",
    "\n",
    "def predictions(w, b, X):\n",
    "    XW = np.dot(X,w) + b\n",
    "    z = sigmoid(XW)\n",
    "    return z\n",
    "\n",
    "def find_cost(z,y):\n",
    "    m = y.shape[0]\n",
    "    total_cost = (1/m) * np.sum(np.square(z - y))\n",
    "    return total_cost\n",
    "\n",
    "def find_derivatives(X,y,z):\n",
    "    m = y.shape[0]\n",
    "    dcost_dpred = (1/m)*(z-y)\n",
    "    dpred_dz = sigmoid_der(z)\n",
    "    z_delta = dcost_dpred * dpred_dz\n",
    "    dz_dw = X.T\n",
    "    dw = np.dot( dz_dw , z_delta)\n",
    "    db = np.sum(z_delta)\n",
    "    \n",
    "    return dw, db\n",
    "\n",
    "\n",
    "def update_weights(w,b,dw,db,lr):\n",
    "    w = w - lr * dw\n",
    "    b = b - lr * db\n",
    "    \n",
    "    return w, b\n",
    "\n",
    "def multi_logistic_regression(X, y, lr, epochs):\n",
    "    error_list = []\n",
    "    lenw = X.shape[1]\n",
    "    w,b = define_parameters(lenw)\n",
    "    for i in range(epochs):\n",
    "        z = predictions(w, b, X)\n",
    "        cost = find_cost(z, y)\n",
    "        error_list.append(cost)\n",
    "        dw, db = find_derivatives (X,y,z)\n",
    "        w, b = update_weights(w, b, dw, db,  lr )\n",
    "        if i % 50 == 0 :\n",
    "            print(cost)\n",
    "\n",
    "            \n",
    "    return w, b, error_list\n",
    "\n",
    "\n",
    "\n",
    "lr = 0.05\n",
    "epochs = 2000\n",
    "w, b, error_list = multi_logistic_regression(X,y,lr,epochs)\n",
    "\n",
    "\n"
   ]
  },
  {
   "cell_type": "code",
   "execution_count": 2,
   "metadata": {},
   "outputs": [
    {
     "data": {
      "text/plain": [
       "[<matplotlib.lines.Line2D at 0x1edb38af3c8>]"
      ]
     },
     "execution_count": 2,
     "metadata": {},
     "output_type": "execute_result"
    },
    {
     "data": {
      "image/png": "[encoded data removed]",
      "text/plain": [
       "<Figure size 432x288 with 1 Axes>"
      ]
     },
     "metadata": {
      "needs_background": "light"
     },
     "output_type": "display_data"
    }
   ],
   "source": [
    "plt.plot(error_list)\n",
    "\n"
   ]
  },
  {
   "cell_type": "code",
   "execution_count": 3,
   "metadata": {},
   "outputs": [
    {
     "name": "stdout",
     "output_type": "stream",
     "text": [
      "Accuracy: 100.0\n"
     ]
    }
   ],
   "source": [
    "z = predictions(w, b, X)\n",
    "\n",
    "y_pred = []\n",
    "for i in z:\n",
    "    if i > 5.0:\n",
    "        y_pred.append(1)\n",
    "    else:\n",
    "        y_pred.append(0)\n",
    "    \n",
    "y_true = sum(y.tolist() , [])   \n",
    "\n",
    "correct = 0\n",
    "for i in y_true :\n",
    "    if y[i] == y_pred[i]:\n",
    "        correct = correct + 1\n",
    "\n",
    "print(\"Accuracy: \" + str(correct/len(y_true) * 100))"
   ]
  },
  {
   "cell_type": "code",
   "execution_count": null,
   "metadata": {},
   "outputs": [],
   "source": []
  }
 ],
 "metadata": {
  "kernelspec": {
   "display_name": "Python 3",
   "language": "python",
   "name": "python3"
  },
  "language_info": {
   "codemirror_mode": {
    "name": "ipython",
    "version": 3
   },
   "file_extension": ".py",
   "mimetype": "text/x-python",
   "name": "python",
   "nbconvert_exporter": "python",
   "pygments_lexer": "ipython3",
   "version": "3.7.4"
  }
 },
 "nbformat": 4,
 "nbformat_minor": 2
}
