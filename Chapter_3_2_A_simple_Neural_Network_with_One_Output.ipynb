{
  "nbformat": 4,
  "nbformat_minor": 0,
  "metadata": {
    "colab": {
      "name": "Chapter 3.2 - A simple Neural Network with One Output.ipynb",
      "provenance": [],
      "collapsed_sections": []
    },
    "kernelspec": {
      "name": "python3",
      "display_name": "Python 3"
    }
  },
  "cells": [
    {
      "cell_type": "code",
      "metadata": {
        "id": "1r-JF_aBR2Ks",
        "colab_type": "code",
        "colab": {
          "base_uri": "https://localhost:8080/",
          "height": 446
        },
        "outputId": "91cf5728-7890-4e31-b4e1-4bc1afb6730b"
      },
      "source": [
        "from sklearn import datasets\n",
        "import numpy as np\n",
        "import matplotlib.pyplot as plt\n",
        "%matplotlib inline\n",
        "\n",
        "np.random.seed(0)\n",
        "X, y = datasets.make_moons(100, noise=0.10)\n",
        "x1 = X[:,0]\n",
        "x2 = X[:,1]\n",
        "\n",
        "plt.figure(figsize=(10,7))\n",
        "plt.scatter(x1, x2, c= y, cmap=plt.cm.coolwarm)"
      ],
      "execution_count": 1,
      "outputs": [
        {
          "output_type": "execute_result",
          "data": {
            "text/plain": [
              "<matplotlib.collections.PathCollection at 0x7f8e0c622cc0>"
            ]
          },
          "metadata": {
            "tags": []
          },
          "execution_count": 1
        },
        {
          "output_type": "display_data",
          "data": {
            "image/png": "[encoded data removed]",
            "text/plain": [
              "<Figure size 720x504 with 1 Axes>"
            ]
          },
          "metadata": {
            "tags": [],
            "needs_background": "light"
          }
        }
      ]
    },
    {
      "cell_type": "code",
      "metadata": {
        "id": "2HYD6LDZUVP3",
        "colab_type": "code",
        "colab": {}
      },
      "source": [
        "y = y.reshape(y.shape[0],1)"
      ],
      "execution_count": 0,
      "outputs": []
    },
    {
      "cell_type": "code",
      "metadata": {
        "id": "y2gAo_WXTdWb",
        "colab_type": "code",
        "colab": {
          "base_uri": "https://localhost:8080/",
          "height": 54
        },
        "outputId": "3d5171f0-f3fc-45b8-c0d6-5a40ab83e495"
      },
      "source": [
        "print(X.shape)\n",
        "print(y.shape)\n"
      ],
      "execution_count": 4,
      "outputs": [
        {
          "output_type": "stream",
          "text": [
            "(100, 2)\n",
            "(100, 1)\n"
          ],
          "name": "stdout"
        }
      ]
    },
    {
      "cell_type": "code",
      "metadata": {
        "id": "SI8pRvKZURt3",
        "colab_type": "code",
        "colab": {}
      },
      "source": [
        "def define_parameters(weights):\n",
        "    weight_list = []\n",
        "    bias_list = []\n",
        "    for i in range(len(weights) - 1):\n",
        "        \n",
        "        w = np.random.randn(weights[i], weights[i+1])\n",
        "        b = np.random.randn()\n",
        "\n",
        "        weight_list.append(w)\n",
        "        bias_list.append(b)\n",
        "    \n",
        "    return weight_list, bias_list"
      ],
      "execution_count": 0,
      "outputs": []
    },
    {
      "cell_type": "code",
      "metadata": {
        "id": "dDooTlmUUZhS",
        "colab_type": "code",
        "colab": {}
      },
      "source": [
        "def sigmoid(x):\n",
        "    return 1/(1+np.exp(-x))\n"
      ],
      "execution_count": 0,
      "outputs": []
    },
    {
      "cell_type": "code",
      "metadata": {
        "id": "JwRENbUWUiBR",
        "colab_type": "code",
        "colab": {}
      },
      "source": [
        "def sigmoid_der(x):\n",
        "    return sigmoid(x)*(1-sigmoid(x))\n"
      ],
      "execution_count": 0,
      "outputs": []
    },
    {
      "cell_type": "code",
      "metadata": {
        "id": "RNhU7zTrUjSE",
        "colab_type": "code",
        "colab": {}
      },
      "source": [
        "def predictions(w, b, X):\n",
        "    zh = np.dot(X,w[0]) + b[0]\n",
        "    ah = sigmoid(zh)\n",
        "\n",
        "    zo = np.dot(ah, w[1]) + b[1]\n",
        "    ao = sigmoid(zo)\n",
        "    return ao\n"
      ],
      "execution_count": 0,
      "outputs": []
    },
    {
      "cell_type": "code",
      "metadata": {
        "id": "Gpr3IiFwUk4L",
        "colab_type": "code",
        "colab": {}
      },
      "source": [
        "def find_cost(ao,y):\n",
        "    m = y.shape[0]\n",
        "    total_cost = (1/m) * np.sum(np.square(ao - y))\n",
        "    return total_cost\n"
      ],
      "execution_count": 0,
      "outputs": []
    },
    {
      "cell_type": "code",
      "metadata": {
        "id": "_KBhC0orUqfu",
        "colab_type": "code",
        "colab": {}
      },
      "source": [
        "def find_derivatives(w, b, X):\n",
        "\n",
        "    zh = np.dot(X,w[0]) + b[0]\n",
        "    ah = sigmoid(zh)\n",
        "\n",
        "    zo = np.dot(ah, w[1]) + b[1]\n",
        "    ao = sigmoid(zo)\n",
        "\n",
        "    # Back propagation phase 1\n",
        "    m = y.shape[0]\n",
        "    dcost_dao = (1/m)*(ao-y)\n",
        "    dao_dzo = sigmoid_der(zo)\n",
        "    dzo_dwo = ah.T\n",
        "   \n",
        "    dwo =  np.dot(dzo_dwo, dcost_dao * dao_dzo)\n",
        "    dbo = np.sum(dcost_dao * dao_dzo)\n",
        "    \n",
        "    # Back propagation phase 2\n",
        "    \n",
        "    # dcost_wh = dcost_dah * dah_dzh * dzh_dwh\n",
        "    # dcost_dah = dcost_dzo * dzo_dah\n",
        "\n",
        "    dcost_dzo = dcost_dao * dao_dzo\n",
        "    dzo_dah = w[1].T\n",
        "\n",
        "    dcost_dah = np.dot(dcost_dzo ,  dzo_dah)\n",
        "\n",
        "    dah_dzh = sigmoid_der(zh) \n",
        "    dzh_dwh = X.T\n",
        "    dwh = np.dot(dzh_dwh, dah_dzh * dcost_dah)\n",
        "    dbh = np.sum(dah_dzh * dcost_dah)\n",
        "\n",
        "    return dwh, dbh, dwo, dbo\n"
      ],
      "execution_count": 0,
      "outputs": []
    },
    {
      "cell_type": "code",
      "metadata": {
        "id": "uGxpjbOOdoKz",
        "colab_type": "code",
        "colab": {}
      },
      "source": [
        "def update_weights(w,b,dwh, dbh, dwo, dbo, lr):\n",
        "    w[0] = w[0] - lr * dwh\n",
        "    w[1] = w[1] - lr * dwo\n",
        "\n",
        "    b[0] = b[0] - lr * dbh\n",
        "    b[1] = b[1] - lr * dbo\n",
        "\n",
        "    return w, b"
      ],
      "execution_count": 0,
      "outputs": []
    },
    {
      "cell_type": "code",
      "metadata": {
        "id": "LCCyTi3beDCy",
        "colab_type": "code",
        "colab": {}
      },
      "source": [
        "def my_neural_network(X, y, lr, epochs):\n",
        "    error_list = []\n",
        "    input_len = X.shape[1]\n",
        "    output_len = y.shape[1]\n",
        "    w,b = define_parameters([input_len, 4, output_len])\n",
        "\n",
        "    for i in range(epochs):\n",
        "        ao = predictions(w, b, X)\n",
        "        cost = find_cost(ao, y)\n",
        "        error_list.append(cost)\n",
        "        dwh, dbh, dwo, dbo = find_derivatives (w, b, X)\n",
        "        w, b = update_weights(w, b, dwh, dbh, dwo, dbo,  lr )\n",
        "        if i % 50 == 0 :\n",
        "            print(cost)\n",
        "            \n",
        "    return w, b, error_list\n"
      ],
      "execution_count": 0,
      "outputs": []
    },
    {
      "cell_type": "code",
      "metadata": {
        "id": "rgLcDtGEecNC",
        "colab_type": "code",
        "colab": {
          "base_uri": "https://localhost:8080/",
          "height": 745
        },
        "outputId": "79ba0c28-fc76-43d3-fc8c-366d8cd05738"
      },
      "source": [
        "lr = 0.5\n",
        "epochs = 2000\n",
        "w, b, error_list = my_neural_network(X,y,lr,epochs)\n"
      ],
      "execution_count": 48,
      "outputs": [
        {
          "output_type": "stream",
          "text": [
            "0.1980211046202944\n",
            "0.14097327813016874\n",
            "0.1199356196746553\n",
            "0.10996149384567079\n",
            "0.1046354602995857\n",
            "0.10125014770369335\n",
            "0.09877988582294377\n",
            "0.09681954900387213\n",
            "0.09519153134310644\n",
            "0.09380667924462933\n",
            "0.09261322597192048\n",
            "0.09157694024355723\n",
            "0.09067287831113126\n",
            "0.0898816633148205\n",
            "0.08918762513676567\n",
            "0.08857775866745798\n",
            "0.0880410781190082\n",
            "0.08756818639880107\n",
            "0.08715097414153263\n",
            "0.08678240229725143\n",
            "0.08645634002244419\n",
            "0.08616743928189777\n",
            "0.08591103380363199\n",
            "0.08568305442008338\n",
            "0.0854799559120146\n",
            "0.08529865252129894\n",
            "0.08513646055443663\n",
            "0.08499104719247362\n",
            "0.08486038495701591\n",
            "0.08474271141085092\n",
            "0.08463649370001301\n",
            "0.08454039753494193\n",
            "0.08445326019470517\n",
            "0.08437406713419247\n",
            "0.08430193178325884\n",
            "0.08423607814745766\n",
            "0.0841758258488823\n",
            "0.08412057727921075\n",
            "0.08406980657236514\n",
            "0.08402305013908634\n"
          ],
          "name": "stdout"
        }
      ]
    },
    {
      "cell_type": "code",
      "metadata": {
        "id": "YsdZSlFqVLXh",
        "colab_type": "code",
        "colab": {
          "base_uri": "https://localhost:8080/",
          "height": 283
        },
        "outputId": "57648b60-2fab-4764-e523-8fdc2b745d4e"
      },
      "source": [
        "plt.plot(error_list)"
      ],
      "execution_count": 49,
      "outputs": [
        {
          "output_type": "execute_result",
          "data": {
            "text/plain": [
              "[<matplotlib.lines.Line2D at 0x7f8e094b94e0>]"
            ]
          },
          "metadata": {
            "tags": []
          },
          "execution_count": 49
        },
        {
          "output_type": "display_data",
          "data": {
            "image/png": "[encoded data removed]",
            "text/plain": [
              "<Figure size 432x288 with 1 Axes>"
            ]
          },
          "metadata": {
            "tags": [],
            "needs_background": "light"
          }
        }
      ]
    },
    {
      "cell_type": "code",
      "metadata": {
        "id": "uc1J4qm0WiQZ",
        "colab_type": "code",
        "colab": {
          "base_uri": "https://localhost:8080/",
          "height": 54
        },
        "outputId": "bd6ec828-2e04-4e73-d404-7d635a1686c8"
      },
      "source": [
        "print(X[50])\n",
        "print(y[50])"
      ],
      "execution_count": 56,
      "outputs": [
        {
          "output_type": "stream",
          "text": [
            "[1.71571634 0.00383596]\n",
            "[1]\n"
          ],
          "name": "stdout"
        }
      ]
    },
    {
      "cell_type": "code",
      "metadata": {
        "id": "SFyMCR3SWxUO",
        "colab_type": "code",
        "colab": {
          "base_uri": "https://localhost:8080/",
          "height": 35
        },
        "outputId": "2c1f409e-d94d-40c7-85c5-ff0b1f8ec8c3"
      },
      "source": [
        "single_point = np.array([1.71571634, 0.00383596])\n",
        "result = predictions(w, b, single_point)\n",
        "\n",
        "print(result)"
      ],
      "execution_count": 57,
      "outputs": [
        {
          "output_type": "stream",
          "text": [
            "[0.9206903]\n"
          ],
          "name": "stdout"
        }
      ]
    },
    {
      "cell_type": "code",
      "metadata": {
        "id": "Os6rPlmKW7ja",
        "colab_type": "code",
        "colab": {}
      },
      "source": [
        ""
      ],
      "execution_count": 0,
      "outputs": []
    }
  ]
}