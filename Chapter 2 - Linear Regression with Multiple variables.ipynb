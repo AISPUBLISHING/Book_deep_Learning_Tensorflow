{
 "cells": [
  {
   "cell_type": "markdown",
   "metadata": {},
   "source": [
    "## Section 2.1.2"
   ]
  },
  {
   "cell_type": "code",
   "execution_count": 1,
   "metadata": {},
   "outputs": [],
   "source": [
    "# -*- coding: utf-8 -*-\n",
    "\"\"\"\n",
    "Created on Fri Apr 10 15:47:40 2020\n",
    "\n",
    "@author: usman\n",
    "\"\"\"\n",
    "\n",
    "from sklearn.datasets import make_regression\n",
    "import matplotlib.pyplot as plt\n",
    "import numpy as np\n",
    "\n",
    "X, y= make_regression(n_samples=100, n_features=3, noise=1.0, bias=50)\n",
    "\n",
    "y = y.reshape(y.shape[0],1)\n"
   ]
  },
  {
   "cell_type": "code",
   "execution_count": 2,
   "metadata": {},
   "outputs": [],
   "source": [
    "def define_parameters(n_weights):\n",
    "    w = np.random.randn( n_weights, 1)\n",
    "    b = np.random.randn()\n",
    "    \n",
    "    return w, b"
   ]
  },
  {
   "cell_type": "code",
   "execution_count": 3,
   "metadata": {},
   "outputs": [],
   "source": [
    "\n",
    "def predictions(w, b, X):\n",
    "    z = np.dot(X,w) + b\n",
    "    return z"
   ]
  },
  {
   "cell_type": "code",
   "execution_count": 4,
   "metadata": {},
   "outputs": [],
   "source": [
    "def find_cost(z,y):\n",
    "    m = y.shape[0]\n",
    "    total_cost = (1/m) * np.sum(np.square(z - y))\n",
    "    return total_cost"
   ]
  },
  {
   "cell_type": "code",
   "execution_count": 5,
   "metadata": {},
   "outputs": [],
   "source": [
    "def find_derivatives(X,y,z):\n",
    "    m = y.shape[0]\n",
    "    dz = (1/m)*(z-y)\n",
    "    dw = np.dot(X.T, dz)\n",
    "    db = np.sum(dz)\n",
    "    \n",
    "    return dw, db"
   ]
  },
  {
   "cell_type": "code",
   "execution_count": 6,
   "metadata": {},
   "outputs": [],
   "source": [
    "def update_weights(w,b,dw,db,lr):\n",
    "    w = w - lr * dw\n",
    "    b = b - lr * db\n",
    "    \n",
    "    return w, b"
   ]
  },
  {
   "cell_type": "code",
   "execution_count": 7,
   "metadata": {},
   "outputs": [],
   "source": [
    "\n",
    "def multi_linear_regression(X, y, lr, epochs):\n",
    "    error_list = []\n",
    "    lenw = X.shape[1]\n",
    "    w,b = define_parameters(lenw)\n",
    "    for i in range(epochs):\n",
    "        z = predictions(w, b, X)\n",
    "        cost = find_cost(z, y)\n",
    "        error_list.append(cost)\n",
    "        dw, db = find_derivatives (X,y,z)\n",
    "        w, b = update_weights(w, b, dw, db,  lr )\n",
    "        if i % 50 == 0 :\n",
    "            print(cost)\n",
    "            \n",
    "    return error_list"
   ]
  },
  {
   "cell_type": "code",
   "execution_count": 8,
   "metadata": {},
   "outputs": [
    {
     "name": "stdout",
     "output_type": "stream",
     "text": [
      "6553.427343627495\n",
      "98.0525267778438\n",
      "3.2671459249960004\n",
      "1.0822570178449145\n",
      "1.0269759775627785\n",
      "1.0255058750919854\n",
      "1.025465707677947\n",
      "1.0254645947632826\n",
      "1.0254645637118254\n",
      "1.0254645628424728\n",
      "1.0254645628180916\n",
      "1.0254645628174064\n",
      "1.025464562817389\n",
      "1.0254645628173884\n",
      "1.0254645628173886\n",
      "1.0254645628173877\n",
      "1.0254645628173895\n",
      "1.0254645628173893\n",
      "1.025464562817391\n",
      "1.0254645628173895\n",
      "1.025464562817387\n",
      "1.025464562817387\n",
      "1.025464562817387\n",
      "1.025464562817387\n",
      "1.025464562817387\n",
      "1.025464562817387\n",
      "1.025464562817387\n",
      "1.025464562817387\n",
      "1.025464562817387\n",
      "1.025464562817387\n",
      "1.025464562817387\n",
      "1.025464562817387\n",
      "1.025464562817387\n",
      "1.025464562817387\n",
      "1.025464562817387\n",
      "1.025464562817387\n",
      "1.025464562817387\n",
      "1.025464562817387\n",
      "1.025464562817387\n",
      "1.025464562817387\n"
     ]
    }
   ],
   "source": [
    "\n",
    "lr = 0.05\n",
    "epochs = 2000\n",
    "error_list = multi_linear_regression(X,y,lr,epochs)"
   ]
  },
  {
   "cell_type": "code",
   "execution_count": 9,
   "metadata": {},
   "outputs": [
    {
     "data": {
      "text/plain": [
       "[<matplotlib.lines.Line2D at 0x22e53c01b88>]"
      ]
     },
     "execution_count": 9,
     "metadata": {},
     "output_type": "execute_result"
    },
    {
     "data": {
      "image/png": "[encoded data removed]",
      "text/plain": [
       "<Figure size 432x288 with 1 Axes>"
      ]
     },
     "metadata": {
      "needs_background": "light"
     },
     "output_type": "display_data"
    }
   ],
   "source": [
    "plt.plot(error_list)"
   ]
  },
  {
   "cell_type": "code",
   "execution_count": null,
   "metadata": {},
   "outputs": [],
   "source": []
  }
 ],
 "metadata": {
  "kernelspec": {
   "display_name": "Python 3",
   "language": "python",
   "name": "python3"
  },
  "language_info": {
   "codemirror_mode": {
    "name": "ipython",
    "version": 3
   },
   "file_extension": ".py",
   "mimetype": "text/x-python",
   "name": "python",
   "nbconvert_exporter": "python",
   "pygments_lexer": "ipython3",
   "version": "3.7.4"
  }
 },
 "nbformat": 4,
 "nbformat_minor": 2
}
