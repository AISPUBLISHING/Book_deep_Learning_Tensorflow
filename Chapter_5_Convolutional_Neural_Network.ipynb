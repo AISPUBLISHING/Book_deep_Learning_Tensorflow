{
  "nbformat": 4,
  "nbformat_minor": 0,
  "metadata": {
    "colab": {
      "name": "Chapter 5 - Convolutional Neural Network.ipynb",
      "provenance": [],
      "collapsed_sections": []
    },
    "kernelspec": {
      "name": "python3",
      "display_name": "Python 3"
    },
    "accelerator": "GPU"
  },
  "cells": [
    {
      "cell_type": "code",
      "metadata": {
        "id": "26XDXHZQ7C1e",
        "colab_type": "code",
        "outputId": "ef7d3ddc-0ae3-473f-eba5-1859b6cca645",
        "colab": {
          "base_uri": "https://localhost:8080/",
          "height": 608
        }
      },
      "source": [
        "pip install --upgrade tensorflow"
      ],
      "execution_count": 0,
      "outputs": [
        {
          "output_type": "stream",
          "text": [
            "Requirement already up-to-date: tensorflow in /usr/local/lib/python3.6/dist-packages (2.2.0rc1)\n",
            "Requirement already satisfied, skipping upgrade: numpy<2.0,>=1.16.0 in /usr/local/lib/python3.6/dist-packages (from tensorflow) (1.18.2)\n",
            "Requirement already satisfied, skipping upgrade: six>=1.12.0 in /usr/local/lib/python3.6/dist-packages (from tensorflow) (1.12.0)\n",
            "Requirement already satisfied, skipping upgrade: protobuf>=3.8.0 in /usr/local/lib/python3.6/dist-packages (from tensorflow) (3.10.0)\n",
            "Requirement already satisfied, skipping upgrade: keras-preprocessing>=1.1.0 in /usr/local/lib/python3.6/dist-packages (from tensorflow) (1.1.0)\n",
            "Requirement already satisfied, skipping upgrade: scipy==1.4.1; python_version >= \"3\" in /usr/local/lib/python3.6/dist-packages (from tensorflow) (1.4.1)\n",
            "Requirement already satisfied, skipping upgrade: wheel>=0.26; python_version >= \"3\" in /usr/local/lib/python3.6/dist-packages (from tensorflow) (0.34.2)\n",
            "Requirement already satisfied, skipping upgrade: absl-py>=0.7.0 in /usr/local/lib/python3.6/dist-packages (from tensorflow) (0.9.0)\n",
            "Requirement already satisfied, skipping upgrade: gast==0.3.3 in /usr/local/lib/python3.6/dist-packages (from tensorflow) (0.3.3)\n",
            "Requirement already satisfied, skipping upgrade: tensorflow-estimator<2.3.0,>=2.2.0rc0 in /usr/local/lib/python3.6/dist-packages (from tensorflow) (2.2.0rc0)\n",
            "Requirement already satisfied, skipping upgrade: astunparse==1.6.3 in /usr/local/lib/python3.6/dist-packages (from tensorflow) (1.6.3)\n",
            "Requirement already satisfied, skipping upgrade: tensorboard<2.2.0,>=2.1.0 in /usr/local/lib/python3.6/dist-packages (from tensorflow) (2.1.1)\n",
            "Requirement already satisfied, skipping upgrade: opt-einsum>=2.3.2 in /usr/local/lib/python3.6/dist-packages (from tensorflow) (3.2.0)\n",
            "Requirement already satisfied, skipping upgrade: wrapt>=1.11.1 in /usr/local/lib/python3.6/dist-packages (from tensorflow) (1.12.1)\n",
            "Requirement already satisfied, skipping upgrade: h5py<2.11.0,>=2.10.0 in /usr/local/lib/python3.6/dist-packages (from tensorflow) (2.10.0)\n",
            "Requirement already satisfied, skipping upgrade: grpcio>=1.8.6 in /usr/local/lib/python3.6/dist-packages (from tensorflow) (1.27.2)\n",
            "Requirement already satisfied, skipping upgrade: termcolor>=1.1.0 in /usr/local/lib/python3.6/dist-packages (from tensorflow) (1.1.0)\n",
            "Requirement already satisfied, skipping upgrade: google-pasta>=0.1.8 in /usr/local/lib/python3.6/dist-packages (from tensorflow) (0.2.0)\n",
            "Requirement already satisfied, skipping upgrade: setuptools in /usr/local/lib/python3.6/dist-packages (from protobuf>=3.8.0->tensorflow) (46.0.0)\n",
            "Requirement already satisfied, skipping upgrade: markdown>=2.6.8 in /usr/local/lib/python3.6/dist-packages (from tensorboard<2.2.0,>=2.1.0->tensorflow) (3.2.1)\n",
            "Requirement already satisfied, skipping upgrade: google-auth<2,>=1.6.3 in /usr/local/lib/python3.6/dist-packages (from tensorboard<2.2.0,>=2.1.0->tensorflow) (1.7.2)\n",
            "Requirement already satisfied, skipping upgrade: werkzeug>=0.11.15 in /usr/local/lib/python3.6/dist-packages (from tensorboard<2.2.0,>=2.1.0->tensorflow) (1.0.0)\n",
            "Requirement already satisfied, skipping upgrade: google-auth-oauthlib<0.5,>=0.4.1 in /usr/local/lib/python3.6/dist-packages (from tensorboard<2.2.0,>=2.1.0->tensorflow) (0.4.1)\n",
            "Requirement already satisfied, skipping upgrade: requests<3,>=2.21.0 in /usr/local/lib/python3.6/dist-packages (from tensorboard<2.2.0,>=2.1.0->tensorflow) (2.21.0)\n",
            "Requirement already satisfied, skipping upgrade: rsa<4.1,>=3.1.4 in /usr/local/lib/python3.6/dist-packages (from google-auth<2,>=1.6.3->tensorboard<2.2.0,>=2.1.0->tensorflow) (4.0)\n",
            "Requirement already satisfied, skipping upgrade: cachetools<3.2,>=2.0.0 in /usr/local/lib/python3.6/dist-packages (from google-auth<2,>=1.6.3->tensorboard<2.2.0,>=2.1.0->tensorflow) (3.1.1)\n",
            "Requirement already satisfied, skipping upgrade: pyasn1-modules>=0.2.1 in /usr/local/lib/python3.6/dist-packages (from google-auth<2,>=1.6.3->tensorboard<2.2.0,>=2.1.0->tensorflow) (0.2.8)\n",
            "Requirement already satisfied, skipping upgrade: requests-oauthlib>=0.7.0 in /usr/local/lib/python3.6/dist-packages (from google-auth-oauthlib<0.5,>=0.4.1->tensorboard<2.2.0,>=2.1.0->tensorflow) (1.3.0)\n",
            "Requirement already satisfied, skipping upgrade: urllib3<1.25,>=1.21.1 in /usr/local/lib/python3.6/dist-packages (from requests<3,>=2.21.0->tensorboard<2.2.0,>=2.1.0->tensorflow) (1.24.3)\n",
            "Requirement already satisfied, skipping upgrade: idna<2.9,>=2.5 in /usr/local/lib/python3.6/dist-packages (from requests<3,>=2.21.0->tensorboard<2.2.0,>=2.1.0->tensorflow) (2.8)\n",
            "Requirement already satisfied, skipping upgrade: certifi>=2017.4.17 in /usr/local/lib/python3.6/dist-packages (from requests<3,>=2.21.0->tensorboard<2.2.0,>=2.1.0->tensorflow) (2019.11.28)\n",
            "Requirement already satisfied, skipping upgrade: chardet<3.1.0,>=3.0.2 in /usr/local/lib/python3.6/dist-packages (from requests<3,>=2.21.0->tensorboard<2.2.0,>=2.1.0->tensorflow) (3.0.4)\n",
            "Requirement already satisfied, skipping upgrade: pyasn1>=0.1.3 in /usr/local/lib/python3.6/dist-packages (from rsa<4.1,>=3.1.4->google-auth<2,>=1.6.3->tensorboard<2.2.0,>=2.1.0->tensorflow) (0.4.8)\n",
            "Requirement already satisfied, skipping upgrade: oauthlib>=3.0.0 in /usr/local/lib/python3.6/dist-packages (from requests-oauthlib>=0.7.0->google-auth-oauthlib<0.5,>=0.4.1->tensorboard<2.2.0,>=2.1.0->tensorflow) (3.1.0)\n"
          ],
          "name": "stdout"
        }
      ]
    },
    {
      "cell_type": "code",
      "metadata": {
        "id": "iOykUOJgmIDc",
        "colab_type": "code",
        "outputId": "f5b56de1-aa97-4f12-c3d9-51846c48924a",
        "colab": {
          "base_uri": "https://localhost:8080/",
          "height": 34
        }
      },
      "source": [
        "import tensorflow as tf\n",
        "print(tf.__version__)"
      ],
      "execution_count": 0,
      "outputs": [
        {
          "output_type": "stream",
          "text": [
            "2.2.0-rc1\n"
          ],
          "name": "stdout"
        }
      ]
    },
    {
      "cell_type": "code",
      "metadata": {
        "id": "LQ_eOtptmJyx",
        "colab_type": "code",
        "colab": {}
      },
      "source": [
        "import numpy as np\n",
        "import matplotlib.pyplot as plt\n",
        "from tensorflow.keras.layers import Input, Conv2D, Dense, Flatten, Dropout, MaxPool2D\n",
        "from tensorflow.keras.models import Model"
      ],
      "execution_count": 0,
      "outputs": []
    },
    {
      "cell_type": "code",
      "metadata": {
        "id": "cEZF_GwvmoNq",
        "colab_type": "code",
        "colab": {}
      },
      "source": [
        "mnist_data = tf.keras.datasets.fashion_mnist\n",
        "\n",
        "(training_images, training_labels), (test_images, test_labels) = mnist_data .load_data()\n"
      ],
      "execution_count": 0,
      "outputs": []
    },
    {
      "cell_type": "code",
      "metadata": {
        "id": "95nQL4Gem4Cq",
        "colab_type": "code",
        "colab": {}
      },
      "source": [
        "training_images, test_images = training_images/255.0, test_images/255.0"
      ],
      "execution_count": 0,
      "outputs": []
    },
    {
      "cell_type": "code",
      "metadata": {
        "id": "c4yQzJjhnla0",
        "colab_type": "code",
        "outputId": "05520aef-a402-49c9-8a61-95a2b469f3be",
        "colab": {
          "base_uri": "https://localhost:8080/",
          "height": 34
        }
      },
      "source": [
        "print(training_images.shape)"
      ],
      "execution_count": 0,
      "outputs": [
        {
          "output_type": "stream",
          "text": [
            "(60000, 28, 28)\n"
          ],
          "name": "stdout"
        }
      ]
    },
    {
      "cell_type": "code",
      "metadata": {
        "id": "b_Gr3AtOnnlk",
        "colab_type": "code",
        "outputId": "06fd56a6-0792-40ad-b956-d6e42811ff32",
        "colab": {
          "base_uri": "https://localhost:8080/",
          "height": 269
        }
      },
      "source": [
        "plt.figure()\n",
        "plt.imshow(test_images[9])\n",
        "plt.colorbar()\n",
        "plt.grid(False)\n",
        "plt.show()"
      ],
      "execution_count": 0,
      "outputs": [
        {
          "output_type": "display_data",
          "data": {
            "image/png": "[encoded data removed]",
            "text/plain": [
              "<Figure size 432x288 with 2 Axes>"
            ]
          },
          "metadata": {
            "tags": []
          }
        }
      ]
    },
    {
      "cell_type": "markdown",
      "metadata": {
        "id": "YjYw6wJzy0Ym",
        "colab_type": "text"
      },
      "source": [
        "0: T-shirt\\top \n",
        "\n",
        "1: Trouser\n",
        "\n",
        "2: Pullover \n",
        "\n",
        "3: Dress \n",
        "\n",
        "4: Coat \n",
        "\n",
        "5: Sandal \n",
        "\n",
        "6: Shirt \n",
        "\n",
        "7: Sneaker \n",
        "\n",
        "8: Bag \n",
        "\n",
        "9: Ankle boot "
      ]
    },
    {
      "cell_type": "code",
      "metadata": {
        "id": "A1NArVLCo5Mn",
        "colab_type": "code",
        "outputId": "85a53d8d-8918-4056-fafc-75750e59537a",
        "colab": {
          "base_uri": "https://localhost:8080/",
          "height": 34
        }
      },
      "source": [
        "training_images = np.expand_dims(training_images, -1)\n",
        "test_images = np.expand_dims(test_images, -1)\n",
        "print(training_images.shape)"
      ],
      "execution_count": 0,
      "outputs": [
        {
          "output_type": "stream",
          "text": [
            "(60000, 28, 28, 1)\n"
          ],
          "name": "stdout"
        }
      ]
    },
    {
      "cell_type": "code",
      "metadata": {
        "id": "Tadx35fmpRip",
        "colab_type": "code",
        "outputId": "3aef8791-a4fb-43b2-ff94-64bebe747638",
        "colab": {
          "base_uri": "https://localhost:8080/",
          "height": 34
        }
      },
      "source": [
        "output_classes = len(set(training_labels))\n",
        "print(\"Number of output classes is: \", output_classes)"
      ],
      "execution_count": 0,
      "outputs": [
        {
          "output_type": "stream",
          "text": [
            "Number of output classes is:  10\n"
          ],
          "name": "stdout"
        }
      ]
    },
    {
      "cell_type": "code",
      "metadata": {
        "id": "BpyK-398pvg9",
        "colab_type": "code",
        "outputId": "81d9f42d-bc90-4d22-d4d7-d44cbf93eef5",
        "colab": {
          "base_uri": "https://localhost:8080/",
          "height": 34
        }
      },
      "source": [
        "training_images[0].shape"
      ],
      "execution_count": 0,
      "outputs": [
        {
          "output_type": "execute_result",
          "data": {
            "text/plain": [
              "(28, 28, 1)"
            ]
          },
          "metadata": {
            "tags": []
          },
          "execution_count": 10
        }
      ]
    },
    {
      "cell_type": "code",
      "metadata": {
        "id": "YUmlI6fdp3Hu",
        "colab_type": "code",
        "colab": {}
      },
      "source": [
        "input_layer = Input(shape = training_images[0].shape )\n",
        "conv1 = Conv2D(32, (3,3), strides = 2, activation= 'relu')(input_layer)\n",
        "maxpool1 = MaxPool2D(2, 2)(conv1)\n",
        "conv2 = Conv2D(64, (3,3), strides = 2, activation= 'relu')(maxpool1)\n",
        "#conv3 = Conv2D(128, (3,3), strides = 2, activation= 'relu')(conv2)\n",
        "flat1 = Flatten()(conv2)\n",
        "drop1 = Dropout(0.2)(flat1)\n",
        "dense1 = Dense(512, activation = 'relu')(drop1)\n",
        "drop2  = Dropout(0.2)(dense1)\n",
        "output_layer = Dense(output_classes, activation= 'softmax')(drop2)\n",
        "\n",
        "model = Model(input_layer, output_layer)"
      ],
      "execution_count": 0,
      "outputs": []
    },
    {
      "cell_type": "code",
      "metadata": {
        "id": "8P_ip1oKrD0y",
        "colab_type": "code",
        "colab": {}
      },
      "source": [
        "model.compile(optimizer = 'adam', loss= 'sparse_categorical_crossentropy', metrics =['accuracy'])\n"
      ],
      "execution_count": 0,
      "outputs": []
    },
    {
      "cell_type": "code",
      "metadata": {
        "id": "YN6P3QFyraV1",
        "colab_type": "code",
        "outputId": "1ab68f17-198a-4390-c29f-c3d068325da5",
        "colab": {
          "base_uri": "https://localhost:8080/",
          "height": 976
        }
      },
      "source": [
        "from tensorflow.keras.utils import plot_model\n",
        "plot_model(model, to_file='model_plot1.png', show_shapes=True, show_layer_names=True)"
      ],
      "execution_count": 0,
      "outputs": [
        {
          "output_type": "execute_result",
          "data": {
            "image/png": "[encoded data removed]",
            "text/plain": [
              "<IPython.core.display.Image object>"
            ]
          },
          "metadata": {
            "tags": []
          },
          "execution_count": 13
        }
      ]
    },
    {
      "cell_type": "code",
      "metadata": {
        "id": "8beGmK_FsQra",
        "colab_type": "code",
        "outputId": "cc0bd0c0-20c5-4622-cb51-1f2876aeb134",
        "colab": {
          "base_uri": "https://localhost:8080/",
          "height": 689
        }
      },
      "source": [
        "model_history = model.fit(training_images, training_labels, epochs=20, validation_data=(test_images, test_labels), verbose=1)"
      ],
      "execution_count": 0,
      "outputs": [
        {
          "output_type": "stream",
          "text": [
            "Epoch 1/20\n",
            "1875/1875 [==============================] - 5s 2ms/step - loss: 0.5819 - accuracy: 0.7875 - val_loss: 0.4506 - val_accuracy: 0.8272\n",
            "Epoch 2/20\n",
            "1875/1875 [==============================] - 5s 2ms/step - loss: 0.4188 - accuracy: 0.8456 - val_loss: 0.3923 - val_accuracy: 0.8542\n",
            "Epoch 3/20\n",
            "1875/1875 [==============================] - 4s 2ms/step - loss: 0.3776 - accuracy: 0.8585 - val_loss: 0.3900 - val_accuracy: 0.8529\n",
            "Epoch 4/20\n",
            "1875/1875 [==============================] - 4s 2ms/step - loss: 0.3522 - accuracy: 0.8681 - val_loss: 0.3724 - val_accuracy: 0.8629\n",
            "Epoch 5/20\n",
            "1875/1875 [==============================] - 4s 2ms/step - loss: 0.3325 - accuracy: 0.8773 - val_loss: 0.3465 - val_accuracy: 0.8721\n",
            "Epoch 6/20\n",
            "1875/1875 [==============================] - 4s 2ms/step - loss: 0.3201 - accuracy: 0.8807 - val_loss: 0.3423 - val_accuracy: 0.8778\n",
            "Epoch 7/20\n",
            "1875/1875 [==============================] - 4s 2ms/step - loss: 0.3059 - accuracy: 0.8844 - val_loss: 0.3258 - val_accuracy: 0.8826\n",
            "Epoch 8/20\n",
            "1875/1875 [==============================] - 4s 2ms/step - loss: 0.2953 - accuracy: 0.8876 - val_loss: 0.3306 - val_accuracy: 0.8802\n",
            "Epoch 9/20\n",
            "1875/1875 [==============================] - 4s 2ms/step - loss: 0.2842 - accuracy: 0.8918 - val_loss: 0.3184 - val_accuracy: 0.8840\n",
            "Epoch 10/20\n",
            "1875/1875 [==============================] - 4s 2ms/step - loss: 0.2743 - accuracy: 0.8957 - val_loss: 0.3251 - val_accuracy: 0.8789\n",
            "Epoch 11/20\n",
            "1875/1875 [==============================] - 4s 2ms/step - loss: 0.2670 - accuracy: 0.8983 - val_loss: 0.3189 - val_accuracy: 0.8850\n",
            "Epoch 12/20\n",
            "1875/1875 [==============================] - 4s 2ms/step - loss: 0.2566 - accuracy: 0.9017 - val_loss: 0.3212 - val_accuracy: 0.8833\n",
            "Epoch 13/20\n",
            "1875/1875 [==============================] - 4s 2ms/step - loss: 0.2532 - accuracy: 0.9039 - val_loss: 0.3180 - val_accuracy: 0.8882\n",
            "Epoch 14/20\n",
            "1875/1875 [==============================] - 4s 2ms/step - loss: 0.2439 - accuracy: 0.9071 - val_loss: 0.3217 - val_accuracy: 0.8872\n",
            "Epoch 15/20\n",
            "1875/1875 [==============================] - 4s 2ms/step - loss: 0.2391 - accuracy: 0.9093 - val_loss: 0.3215 - val_accuracy: 0.8868\n",
            "Epoch 16/20\n",
            "1875/1875 [==============================] - 5s 2ms/step - loss: 0.2318 - accuracy: 0.9107 - val_loss: 0.3217 - val_accuracy: 0.8843\n",
            "Epoch 17/20\n",
            "1875/1875 [==============================] - 4s 2ms/step - loss: 0.2269 - accuracy: 0.9129 - val_loss: 0.3268 - val_accuracy: 0.8870\n",
            "Epoch 18/20\n",
            "1875/1875 [==============================] - 4s 2ms/step - loss: 0.2224 - accuracy: 0.9147 - val_loss: 0.3379 - val_accuracy: 0.8814\n",
            "Epoch 19/20\n",
            "1875/1875 [==============================] - 4s 2ms/step - loss: 0.2164 - accuracy: 0.9174 - val_loss: 0.3279 - val_accuracy: 0.8846\n",
            "Epoch 20/20\n",
            "1875/1875 [==============================] - 4s 2ms/step - loss: 0.2112 - accuracy: 0.9192 - val_loss: 0.3277 - val_accuracy: 0.8882\n"
          ],
          "name": "stdout"
        }
      ]
    },
    {
      "cell_type": "code",
      "metadata": {
        "id": "t-K_5Sf9sgYP",
        "colab_type": "code",
        "outputId": "c0956af6-38df-48fa-d85d-15497f8d2ce3",
        "colab": {
          "base_uri": "https://localhost:8080/",
          "height": 282
        }
      },
      "source": [
        "import matplotlib.pyplot as plt\n",
        "\n",
        "plt.plot(model_history.history['accuracy'], label = 'accuracy')\n",
        "plt.plot(model_history.history['val_accuracy'], label = 'val_accuracy')\n",
        "plt.legend(['train','test'], loc='lower left')"
      ],
      "execution_count": 0,
      "outputs": [
        {
          "output_type": "execute_result",
          "data": {
            "text/plain": [
              "<matplotlib.legend.Legend at 0x7feb3006b4e0>"
            ]
          },
          "metadata": {
            "tags": []
          },
          "execution_count": 15
        },
        {
          "output_type": "display_data",
          "data": {
            "image/png": "[encoded data removed]",
            "text/plain": [
              "<Figure size 432x288 with 1 Axes>"
            ]
          },
          "metadata": {
            "tags": []
          }
        }
      ]
    },
    {
      "cell_type": "code",
      "metadata": {
        "id": "kTs_7GeLtUh0",
        "colab_type": "code",
        "outputId": "fe6c6965-02c5-42b2-a580-d2c2e314fc30",
        "colab": {
          "base_uri": "https://localhost:8080/",
          "height": 286
        }
      },
      "source": [
        "\n",
        "plt.plot(model_history.history['loss'], label = 'loss')\n",
        "plt.plot(model_history.history['val_loss'], label = 'val_loss')\n",
        "plt.legend(['train','test'], loc='upper left')"
      ],
      "execution_count": 0,
      "outputs": [
        {
          "output_type": "execute_result",
          "data": {
            "text/plain": [
              "<matplotlib.legend.Legend at 0x7feb30036cf8>"
            ]
          },
          "metadata": {
            "tags": []
          },
          "execution_count": 16
        },
        {
          "output_type": "display_data",
          "data": {
            "image/png": "[encoded data removed]",
            "text/plain": [
              "<Figure size 432x288 with 1 Axes>"
            ]
          },
          "metadata": {
            "tags": []
          }
        }
      ]
    },
    {
      "cell_type": "code",
      "metadata": {
        "id": "FJLZGaZ9wJtV",
        "colab_type": "code",
        "outputId": "04ac5f39-dd20-45f8-d9ba-29eb45010591",
        "colab": {
          "base_uri": "https://localhost:8080/",
          "height": 34
        }
      },
      "source": [
        "output = model.predict(test_images)\n",
        "prediction = np.argmax(output[9])\n",
        "print(prediction)"
      ],
      "execution_count": 0,
      "outputs": [
        {
          "output_type": "stream",
          "text": [
            "7\n"
          ],
          "name": "stdout"
        }
      ]
    },
    {
      "cell_type": "markdown",
      "metadata": {
        "id": "Z5betMWCtXyv",
        "colab_type": "text"
      },
      "source": [
        "## Exercise 5.1 \n",
        "\n",
        "### Question 1\n",
        "\n",
        "What should be the input shape of the input image to the  convolutional neural network?\n",
        "\n",
        "1.  Width, Height \\\n",
        "2. Height, Width \\\n",
        "3. Channels, Width, Height \\\n",
        "4. Width, Height, Channels \\\n",
        "\n",
        "Answer: 4\n",
        "\n",
        "### Question 2\n",
        "\n",
        "The pooling layer is used to pick correct features even if:\n",
        "\n",
        "1. Image is Invereted \\\n",
        "2. Image is distorted \\\n",
        "3. Image is compressed \\\n",
        "4. All of the above \\\n",
        "\n",
        "Answer: 4\n",
        "\n",
        "\n",
        "### Question 3\n",
        "\n",
        "The relu activation function is used to introduce:\n",
        "\n",
        "1. Linearity \\\n",
        "2. Non-linearity \\\n",
        "3. Quadraticity \\\n",
        "4. None of the above\n",
        "\n",
        "Answer: 2\n",
        "\n",
        "\n"
      ]
    },
    {
      "cell_type": "markdown",
      "metadata": {
        "id": "XNRQql3bvxEQ",
        "colab_type": "text"
      },
      "source": [
        "## Exercise 5.2\n",
        "\n",
        "Using the CFAR 10 image dataset, perform image classification to recognize"
      ]
    },
    {
      "cell_type": "code",
      "metadata": {
        "id": "fpNag9HWzIql",
        "colab_type": "code",
        "colab": {}
      },
      "source": [
        "cifar_dataset = tf.keras.datasets.cifar10"
      ],
      "execution_count": 0,
      "outputs": []
    },
    {
      "cell_type": "markdown",
      "metadata": {
        "id": "7d-_DUgyzcSz",
        "colab_type": "text"
      },
      "source": [
        "### Solution"
      ]
    },
    {
      "cell_type": "code",
      "metadata": {
        "id": "ACcgb1CUzgoL",
        "colab_type": "code",
        "colab": {}
      },
      "source": [
        "(training_images, training_labels), (test_images, test_labels) = cifar_dataset.load_data()\n"
      ],
      "execution_count": 0,
      "outputs": []
    },
    {
      "cell_type": "code",
      "metadata": {
        "id": "OIdy6tIGzmVc",
        "colab_type": "code",
        "outputId": "46ab3ea7-27d8-4fd0-d48f-595e5dbbf45c",
        "colab": {
          "base_uri": "https://localhost:8080/",
          "height": 50
        }
      },
      "source": [
        "training_images, test_images = training_images/255.0, test_images/255.0\n",
        "\n",
        "training_labels, test_labels = training_labels.flatten(), test_labels.flatten()\n",
        "print(training_labels.shape)\n",
        "print(training_images.shape)"
      ],
      "execution_count": 0,
      "outputs": [
        {
          "output_type": "stream",
          "text": [
            "(50000,)\n",
            "(50000, 32, 32, 3)\n"
          ],
          "name": "stdout"
        }
      ]
    },
    {
      "cell_type": "code",
      "metadata": {
        "id": "gMSbsj-Mz9kz",
        "colab_type": "code",
        "outputId": "593fd11c-d010-49fd-a408-49593bc0010a",
        "colab": {
          "base_uri": "https://localhost:8080/",
          "height": 34
        }
      },
      "source": [
        "output_classes = len(set(training_labels))\n",
        "print(\"Number of output classes is: \", output_classes)"
      ],
      "execution_count": 0,
      "outputs": [
        {
          "output_type": "stream",
          "text": [
            "Number of output classes is:  10\n"
          ],
          "name": "stdout"
        }
      ]
    },
    {
      "cell_type": "code",
      "metadata": {
        "id": "sJcZ8VSk0EG8",
        "colab_type": "code",
        "colab": {}
      },
      "source": [
        "input_layer = Input(shape = training_images[0].shape )\n",
        "conv1 = Conv2D(32, (3,3), strides = 2, activation= 'relu')(input_layer)\n",
        "maxpool1 = MaxPool2D(2, 2)(conv1)\n",
        "conv2 = Conv2D(64, (3,3), strides = 2, activation= 'relu')(maxpool1)\n",
        "#conv3 = Conv2D(128, (3,3), strides = 2, activation= 'relu')(conv2)\n",
        "flat1 = Flatten()(conv2)\n",
        "drop1 = Dropout(0.2)(flat1)\n",
        "dense1 = Dense(512, activation = 'relu')(drop1)\n",
        "drop2  = Dropout(0.2)(dense1)\n",
        "output_layer = Dense(output_classes, activation= 'softmax')(drop2)\n",
        "\n",
        "model = Model(input_layer, output_layer)"
      ],
      "execution_count": 0,
      "outputs": []
    },
    {
      "cell_type": "code",
      "metadata": {
        "id": "31bFncRF0H1A",
        "colab_type": "code",
        "outputId": "d9d0e08b-e23f-42b7-b27d-482ffa714d05",
        "colab": {
          "base_uri": "https://localhost:8080/",
          "height": 689
        }
      },
      "source": [
        "model.compile(optimizer = 'adam', loss= 'sparse_categorical_crossentropy', metrics =['accuracy'])\n",
        "model_history = model.fit(training_images, training_labels, epochs=20, validation_data=(test_images, test_labels), verbose=1)"
      ],
      "execution_count": 0,
      "outputs": [
        {
          "output_type": "stream",
          "text": [
            "Epoch 1/20\n",
            "1563/1563 [==============================] - 5s 3ms/step - loss: 1.5639 - accuracy: 0.4323 - val_loss: 1.3733 - val_accuracy: 0.5095\n",
            "Epoch 2/20\n",
            "1563/1563 [==============================] - 5s 3ms/step - loss: 1.2854 - accuracy: 0.5433 - val_loss: 1.1476 - val_accuracy: 0.5905\n",
            "Epoch 3/20\n",
            "1563/1563 [==============================] - 5s 3ms/step - loss: 1.1595 - accuracy: 0.5869 - val_loss: 1.0499 - val_accuracy: 0.6373\n",
            "Epoch 4/20\n",
            "1563/1563 [==============================] - 5s 3ms/step - loss: 1.0665 - accuracy: 0.6250 - val_loss: 0.9789 - val_accuracy: 0.6572\n",
            "Epoch 5/20\n",
            "1563/1563 [==============================] - 5s 3ms/step - loss: 0.9920 - accuracy: 0.6516 - val_loss: 1.0040 - val_accuracy: 0.6478\n",
            "Epoch 6/20\n",
            "1563/1563 [==============================] - 5s 3ms/step - loss: 0.9311 - accuracy: 0.6730 - val_loss: 0.9331 - val_accuracy: 0.6714\n",
            "Epoch 7/20\n",
            "1563/1563 [==============================] - 5s 3ms/step - loss: 0.8705 - accuracy: 0.6932 - val_loss: 0.9139 - val_accuracy: 0.6829\n",
            "Epoch 8/20\n",
            "1563/1563 [==============================] - 5s 3ms/step - loss: 0.8266 - accuracy: 0.7092 - val_loss: 0.9023 - val_accuracy: 0.6853\n",
            "Epoch 9/20\n",
            "1563/1563 [==============================] - 5s 3ms/step - loss: 0.7860 - accuracy: 0.7224 - val_loss: 0.8867 - val_accuracy: 0.6915\n",
            "Epoch 10/20\n",
            "1563/1563 [==============================] - 5s 3ms/step - loss: 0.7449 - accuracy: 0.7353 - val_loss: 0.8793 - val_accuracy: 0.6979\n",
            "Epoch 11/20\n",
            "1563/1563 [==============================] - 5s 3ms/step - loss: 0.7155 - accuracy: 0.7464 - val_loss: 0.8858 - val_accuracy: 0.6946\n",
            "Epoch 12/20\n",
            "1563/1563 [==============================] - 5s 3ms/step - loss: 0.6773 - accuracy: 0.7601 - val_loss: 0.8846 - val_accuracy: 0.7026\n",
            "Epoch 13/20\n",
            "1563/1563 [==============================] - 5s 3ms/step - loss: 0.6467 - accuracy: 0.7689 - val_loss: 0.8970 - val_accuracy: 0.6974\n",
            "Epoch 14/20\n",
            "1563/1563 [==============================] - 5s 3ms/step - loss: 0.6281 - accuracy: 0.7756 - val_loss: 0.8967 - val_accuracy: 0.6940\n",
            "Epoch 15/20\n",
            "1563/1563 [==============================] - 5s 3ms/step - loss: 0.5963 - accuracy: 0.7881 - val_loss: 0.8967 - val_accuracy: 0.6979\n",
            "Epoch 16/20\n",
            "1563/1563 [==============================] - 5s 3ms/step - loss: 0.5797 - accuracy: 0.7929 - val_loss: 0.8909 - val_accuracy: 0.7013\n",
            "Epoch 17/20\n",
            "1563/1563 [==============================] - 5s 3ms/step - loss: 0.5495 - accuracy: 0.8047 - val_loss: 0.9087 - val_accuracy: 0.6943\n",
            "Epoch 18/20\n",
            "1563/1563 [==============================] - 5s 3ms/step - loss: 0.5406 - accuracy: 0.8067 - val_loss: 0.9059 - val_accuracy: 0.7000\n",
            "Epoch 19/20\n",
            "1563/1563 [==============================] - 5s 3ms/step - loss: 0.5228 - accuracy: 0.8130 - val_loss: 0.9053 - val_accuracy: 0.7004\n",
            "Epoch 20/20\n",
            "1563/1563 [==============================] - 5s 3ms/step - loss: 0.5066 - accuracy: 0.8173 - val_loss: 0.9550 - val_accuracy: 0.6963\n"
          ],
          "name": "stdout"
        }
      ]
    },
    {
      "cell_type": "code",
      "metadata": {
        "id": "nxAVZ3oq0OqA",
        "colab_type": "code",
        "colab": {}
      },
      "source": [
        ""
      ],
      "execution_count": 0,
      "outputs": []
    }
  ]
}