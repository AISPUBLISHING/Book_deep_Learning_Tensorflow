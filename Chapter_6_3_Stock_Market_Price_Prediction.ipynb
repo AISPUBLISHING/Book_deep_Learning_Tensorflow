{
  "nbformat": 4,
  "nbformat_minor": 0,
  "metadata": {
    "colab": {
      "name": "Chapter 6.3 - Stock Market Price Prediction.ipynb",
      "provenance": [],
      "collapsed_sections": []
    },
    "kernelspec": {
      "name": "python3",
      "display_name": "Python 3"
    },
    "accelerator": "GPU"
  },
  "cells": [
    {
      "cell_type": "code",
      "metadata": {
        "id": "7CsQO027BprW",
        "colab_type": "code",
        "outputId": "56dbc5eb-7913-40ad-ddb9-0583885b10c1",
        "colab": {
          "base_uri": "https://localhost:8080/",
          "height": 632
        }
      },
      "source": [
        "pip install --upgrade tensorflow"
      ],
      "execution_count": 1,
      "outputs": [
        {
          "output_type": "stream",
          "text": [
            "Requirement already up-to-date: tensorflow in /usr/local/lib/python3.6/dist-packages (2.2.0rc3)\n",
            "Requirement already satisfied, skipping upgrade: wheel>=0.26; python_version >= \"3\" in /usr/local/lib/python3.6/dist-packages (from tensorflow) (0.34.2)\n",
            "Requirement already satisfied, skipping upgrade: keras-preprocessing>=1.1.0 in /usr/local/lib/python3.6/dist-packages (from tensorflow) (1.1.0)\n",
            "Requirement already satisfied, skipping upgrade: protobuf>=3.8.0 in /usr/local/lib/python3.6/dist-packages (from tensorflow) (3.10.0)\n",
            "Requirement already satisfied, skipping upgrade: grpcio>=1.8.6 in /usr/local/lib/python3.6/dist-packages (from tensorflow) (1.28.1)\n",
            "Requirement already satisfied, skipping upgrade: termcolor>=1.1.0 in /usr/local/lib/python3.6/dist-packages (from tensorflow) (1.1.0)\n",
            "Requirement already satisfied, skipping upgrade: h5py<2.11.0,>=2.10.0 in /usr/local/lib/python3.6/dist-packages (from tensorflow) (2.10.0)\n",
            "Requirement already satisfied, skipping upgrade: google-pasta>=0.1.8 in /usr/local/lib/python3.6/dist-packages (from tensorflow) (0.2.0)\n",
            "Requirement already satisfied, skipping upgrade: absl-py>=0.7.0 in /usr/local/lib/python3.6/dist-packages (from tensorflow) (0.9.0)\n",
            "Requirement already satisfied, skipping upgrade: six>=1.12.0 in /usr/local/lib/python3.6/dist-packages (from tensorflow) (1.12.0)\n",
            "Requirement already satisfied, skipping upgrade: tensorboard<2.3.0,>=2.2.0 in /usr/local/lib/python3.6/dist-packages (from tensorflow) (2.2.1)\n",
            "Requirement already satisfied, skipping upgrade: gast==0.3.3 in /usr/local/lib/python3.6/dist-packages (from tensorflow) (0.3.3)\n",
            "Requirement already satisfied, skipping upgrade: astunparse==1.6.3 in /usr/local/lib/python3.6/dist-packages (from tensorflow) (1.6.3)\n",
            "Requirement already satisfied, skipping upgrade: opt-einsum>=2.3.2 in /usr/local/lib/python3.6/dist-packages (from tensorflow) (3.2.1)\n",
            "Requirement already satisfied, skipping upgrade: scipy==1.4.1; python_version >= \"3\" in /usr/local/lib/python3.6/dist-packages (from tensorflow) (1.4.1)\n",
            "Requirement already satisfied, skipping upgrade: tensorflow-estimator<2.3.0,>=2.2.0rc0 in /usr/local/lib/python3.6/dist-packages (from tensorflow) (2.2.0)\n",
            "Requirement already satisfied, skipping upgrade: wrapt>=1.11.1 in /usr/local/lib/python3.6/dist-packages (from tensorflow) (1.12.1)\n",
            "Requirement already satisfied, skipping upgrade: numpy<2.0,>=1.16.0 in /usr/local/lib/python3.6/dist-packages (from tensorflow) (1.18.3)\n",
            "Requirement already satisfied, skipping upgrade: setuptools in /usr/local/lib/python3.6/dist-packages (from protobuf>=3.8.0->tensorflow) (46.1.3)\n",
            "Requirement already satisfied, skipping upgrade: tensorboard-plugin-wit>=1.6.0 in /usr/local/lib/python3.6/dist-packages (from tensorboard<2.3.0,>=2.2.0->tensorflow) (1.6.0.post3)\n",
            "Requirement already satisfied, skipping upgrade: requests<3,>=2.21.0 in /usr/local/lib/python3.6/dist-packages (from tensorboard<2.3.0,>=2.2.0->tensorflow) (2.21.0)\n",
            "Requirement already satisfied, skipping upgrade: werkzeug>=0.11.15 in /usr/local/lib/python3.6/dist-packages (from tensorboard<2.3.0,>=2.2.0->tensorflow) (1.0.1)\n",
            "Requirement already satisfied, skipping upgrade: google-auth<2,>=1.6.3 in /usr/local/lib/python3.6/dist-packages (from tensorboard<2.3.0,>=2.2.0->tensorflow) (1.7.2)\n",
            "Requirement already satisfied, skipping upgrade: google-auth-oauthlib<0.5,>=0.4.1 in /usr/local/lib/python3.6/dist-packages (from tensorboard<2.3.0,>=2.2.0->tensorflow) (0.4.1)\n",
            "Requirement already satisfied, skipping upgrade: markdown>=2.6.8 in /usr/local/lib/python3.6/dist-packages (from tensorboard<2.3.0,>=2.2.0->tensorflow) (3.2.1)\n",
            "Requirement already satisfied, skipping upgrade: idna<2.9,>=2.5 in /usr/local/lib/python3.6/dist-packages (from requests<3,>=2.21.0->tensorboard<2.3.0,>=2.2.0->tensorflow) (2.8)\n",
            "Requirement already satisfied, skipping upgrade: certifi>=2017.4.17 in /usr/local/lib/python3.6/dist-packages (from requests<3,>=2.21.0->tensorboard<2.3.0,>=2.2.0->tensorflow) (2020.4.5.1)\n",
            "Requirement already satisfied, skipping upgrade: chardet<3.1.0,>=3.0.2 in /usr/local/lib/python3.6/dist-packages (from requests<3,>=2.21.0->tensorboard<2.3.0,>=2.2.0->tensorflow) (3.0.4)\n",
            "Requirement already satisfied, skipping upgrade: urllib3<1.25,>=1.21.1 in /usr/local/lib/python3.6/dist-packages (from requests<3,>=2.21.0->tensorboard<2.3.0,>=2.2.0->tensorflow) (1.24.3)\n",
            "Requirement already satisfied, skipping upgrade: cachetools<3.2,>=2.0.0 in /usr/local/lib/python3.6/dist-packages (from google-auth<2,>=1.6.3->tensorboard<2.3.0,>=2.2.0->tensorflow) (3.1.1)\n",
            "Requirement already satisfied, skipping upgrade: rsa<4.1,>=3.1.4 in /usr/local/lib/python3.6/dist-packages (from google-auth<2,>=1.6.3->tensorboard<2.3.0,>=2.2.0->tensorflow) (4.0)\n",
            "Requirement already satisfied, skipping upgrade: pyasn1-modules>=0.2.1 in /usr/local/lib/python3.6/dist-packages (from google-auth<2,>=1.6.3->tensorboard<2.3.0,>=2.2.0->tensorflow) (0.2.8)\n",
            "Requirement already satisfied, skipping upgrade: requests-oauthlib>=0.7.0 in /usr/local/lib/python3.6/dist-packages (from google-auth-oauthlib<0.5,>=0.4.1->tensorboard<2.3.0,>=2.2.0->tensorflow) (1.3.0)\n",
            "Requirement already satisfied, skipping upgrade: pyasn1>=0.1.3 in /usr/local/lib/python3.6/dist-packages (from rsa<4.1,>=3.1.4->google-auth<2,>=1.6.3->tensorboard<2.3.0,>=2.2.0->tensorflow) (0.4.8)\n",
            "Requirement already satisfied, skipping upgrade: oauthlib>=3.0.0 in /usr/local/lib/python3.6/dist-packages (from requests-oauthlib>=0.7.0->google-auth-oauthlib<0.5,>=0.4.1->tensorboard<2.3.0,>=2.2.0->tensorflow) (3.1.0)\n"
          ],
          "name": "stdout"
        }
      ]
    },
    {
      "cell_type": "code",
      "metadata": {
        "id": "iq8hIGBpB1o_",
        "colab_type": "code",
        "outputId": "c5190df4-545a-4333-9ef5-8aa9c58c66ab",
        "colab": {
          "base_uri": "https://localhost:8080/",
          "height": 34
        }
      },
      "source": [
        "import tensorflow as tf\n",
        "print(tf.__version__)"
      ],
      "execution_count": 2,
      "outputs": [
        {
          "output_type": "stream",
          "text": [
            "2.2.0-rc3\n"
          ],
          "name": "stdout"
        }
      ]
    },
    {
      "cell_type": "code",
      "metadata": {
        "id": "pR8qYy47B4bQ",
        "colab_type": "code",
        "outputId": "e986adaa-8727-4603-a8d4-89d0a94973be",
        "colab": {
          "base_uri": "https://localhost:8080/",
          "height": 51
        }
      },
      "source": [
        "from google.colab import drive\n",
        "drive.mount('/gdrive')\n",
        "%cd /gdrive"
      ],
      "execution_count": 3,
      "outputs": [
        {
          "output_type": "stream",
          "text": [
            "Mounted at /gdrive\n",
            "/gdrive\n"
          ],
          "name": "stdout"
        }
      ]
    },
    {
      "cell_type": "code",
      "metadata": {
        "id": "zTvvDnF7E6rs",
        "colab_type": "code",
        "colab": {}
      },
      "source": [
        "import pandas as pd\n",
        "import numpy as np\n",
        "fb_complete_data = pd.read_csv(\"/content/fb_train.csv\")"
      ],
      "execution_count": 0,
      "outputs": []
    },
    {
      "cell_type": "code",
      "metadata": {
        "id": "pD7_fnsvFh0f",
        "colab_type": "code",
        "outputId": "a7e91510-44b6-41b9-b887-de2ced480331",
        "colab": {
          "base_uri": "https://localhost:8080/",
          "height": 204
        }
      },
      "source": [
        "fb_complete_data.head()"
      ],
      "execution_count": 5,
      "outputs": [
        {
          "output_type": "execute_result",
          "data": {
            "text/html": [
              "<div>\n",
              "<style scoped>\n",
              "    .dataframe tbody tr th:only-of-type {\n",
              "        vertical-align: middle;\n",
              "    }\n",
              "\n",
              "    .dataframe tbody tr th {\n",
              "        vertical-align: top;\n",
              "    }\n",
              "\n",
              "    .dataframe thead th {\n",
              "        text-align: right;\n",
              "    }\n",
              "</style>\n",
              "<table border=\"1\" class=\"dataframe\">\n",
              "  <thead>\n",
              "    <tr style=\"text-align: right;\">\n",
              "      <th></th>\n",
              "      <th>Date</th>\n",
              "      <th>Open</th>\n",
              "      <th>High</th>\n",
              "      <th>Low</th>\n",
              "      <th>Close</th>\n",
              "      <th>Adj Close</th>\n",
              "      <th>Volume</th>\n",
              "    </tr>\n",
              "  </thead>\n",
              "  <tbody>\n",
              "    <tr>\n",
              "      <th>0</th>\n",
              "      <td>2015-01-02</td>\n",
              "      <td>78.580002</td>\n",
              "      <td>78.930000</td>\n",
              "      <td>77.699997</td>\n",
              "      <td>78.449997</td>\n",
              "      <td>78.449997</td>\n",
              "      <td>18177500</td>\n",
              "    </tr>\n",
              "    <tr>\n",
              "      <th>1</th>\n",
              "      <td>2015-01-05</td>\n",
              "      <td>77.980003</td>\n",
              "      <td>79.250000</td>\n",
              "      <td>76.860001</td>\n",
              "      <td>77.190002</td>\n",
              "      <td>77.190002</td>\n",
              "      <td>26452200</td>\n",
              "    </tr>\n",
              "    <tr>\n",
              "      <th>2</th>\n",
              "      <td>2015-01-06</td>\n",
              "      <td>77.230003</td>\n",
              "      <td>77.589996</td>\n",
              "      <td>75.360001</td>\n",
              "      <td>76.150002</td>\n",
              "      <td>76.150002</td>\n",
              "      <td>27399300</td>\n",
              "    </tr>\n",
              "    <tr>\n",
              "      <th>3</th>\n",
              "      <td>2015-01-07</td>\n",
              "      <td>76.760002</td>\n",
              "      <td>77.360001</td>\n",
              "      <td>75.820000</td>\n",
              "      <td>76.150002</td>\n",
              "      <td>76.150002</td>\n",
              "      <td>22045300</td>\n",
              "    </tr>\n",
              "    <tr>\n",
              "      <th>4</th>\n",
              "      <td>2015-01-08</td>\n",
              "      <td>76.739998</td>\n",
              "      <td>78.230003</td>\n",
              "      <td>76.080002</td>\n",
              "      <td>78.180000</td>\n",
              "      <td>78.180000</td>\n",
              "      <td>23961000</td>\n",
              "    </tr>\n",
              "  </tbody>\n",
              "</table>\n",
              "</div>"
            ],
            "text/plain": [
              "         Date       Open       High        Low      Close  Adj Close    Volume\n",
              "0  2015-01-02  78.580002  78.930000  77.699997  78.449997  78.449997  18177500\n",
              "1  2015-01-05  77.980003  79.250000  76.860001  77.190002  77.190002  26452200\n",
              "2  2015-01-06  77.230003  77.589996  75.360001  76.150002  76.150002  27399300\n",
              "3  2015-01-07  76.760002  77.360001  75.820000  76.150002  76.150002  22045300\n",
              "4  2015-01-08  76.739998  78.230003  76.080002  78.180000  78.180000  23961000"
            ]
          },
          "metadata": {
            "tags": []
          },
          "execution_count": 5
        }
      ]
    },
    {
      "cell_type": "code",
      "metadata": {
        "id": "OqB1Az97Fkkw",
        "colab_type": "code",
        "colab": {}
      },
      "source": [
        "fb_training_processed = fb_complete_data[['Open']].values"
      ],
      "execution_count": 0,
      "outputs": []
    },
    {
      "cell_type": "code",
      "metadata": {
        "id": "MAnrnM1XFxZ7",
        "colab_type": "code",
        "colab": {}
      },
      "source": [
        "from sklearn.preprocessing import MinMaxScaler\n",
        "scaler = MinMaxScaler(feature_range = (0, 1))\n",
        "\n",
        "fb_training_scaled = scaler.fit_transform(fb_training_processed)"
      ],
      "execution_count": 0,
      "outputs": []
    },
    {
      "cell_type": "code",
      "metadata": {
        "id": "93sga1IyF2vC",
        "colab_type": "code",
        "outputId": "fd8ca8a0-635f-4578-a821-089f1bea2be0",
        "colab": {
          "base_uri": "https://localhost:8080/",
          "height": 34
        }
      },
      "source": [
        "len(fb_training_scaled)"
      ],
      "execution_count": 8,
      "outputs": [
        {
          "output_type": "execute_result",
          "data": {
            "text/plain": [
              "1257"
            ]
          },
          "metadata": {
            "tags": []
          },
          "execution_count": 8
        }
      ]
    },
    {
      "cell_type": "code",
      "metadata": {
        "id": "zBWfetp1GKBb",
        "colab_type": "code",
        "colab": {}
      },
      "source": [
        "fb_training_features= []\n",
        "fb_training_labels = []\n",
        "for i in range(60, len(fb_training_scaled)):\n",
        "    fb_training_features.append(fb_training_scaled[i-60:i, 0])\n",
        "    fb_training_labels.append(fb_training_scaled[i, 0])"
      ],
      "execution_count": 0,
      "outputs": []
    },
    {
      "cell_type": "code",
      "metadata": {
        "id": "PmlXLCJDGe3k",
        "colab_type": "code",
        "colab": {}
      },
      "source": [
        "X_train = np.array(fb_training_features)\n",
        "y_train = np.array(fb_training_labels)"
      ],
      "execution_count": 0,
      "outputs": []
    },
    {
      "cell_type": "code",
      "metadata": {
        "id": "ihzFf_TuNbtR",
        "colab_type": "code",
        "outputId": "d911250d-4e7b-4558-8423-5ff2b4a3095e",
        "colab": {
          "base_uri": "https://localhost:8080/",
          "height": 51
        }
      },
      "source": [
        "print(X_train.shape)\n",
        "print(y_train.shape)"
      ],
      "execution_count": 11,
      "outputs": [
        {
          "output_type": "stream",
          "text": [
            "(1197, 60)\n",
            "(1197,)\n"
          ],
          "name": "stdout"
        }
      ]
    },
    {
      "cell_type": "code",
      "metadata": {
        "id": "LwVOyiqUG8uh",
        "colab_type": "code",
        "colab": {}
      },
      "source": [
        "X_train = np.reshape(X_train, (X_train.shape[0], X_train.shape[1], 1))"
      ],
      "execution_count": 0,
      "outputs": []
    },
    {
      "cell_type": "code",
      "metadata": {
        "id": "tS20_rION7BY",
        "colab_type": "code",
        "colab": {}
      },
      "source": [
        "import numpy as np\n",
        "import matplotlib.pyplot as plt\n",
        "from tensorflow.keras.layers import Input, Activation, Dense, Flatten, Dropout,  Flatten, LSTM\n",
        "from tensorflow.keras.models import Model"
      ],
      "execution_count": 0,
      "outputs": []
    },
    {
      "cell_type": "code",
      "metadata": {
        "id": "bbJjA8F2ZGej",
        "colab_type": "code",
        "outputId": "a540134b-8e68-4732-9d51-99c1da2c4221",
        "colab": {
          "base_uri": "https://localhost:8080/",
          "height": 85
        }
      },
      "source": [
        "input_layer = Input(shape = (X_train.shape[1], 1))\n",
        "lstm1 = LSTM(100, activation='relu', return_sequences=True)(input_layer)\n",
        "do1 = Dropout(0.2)(lstm1)\n",
        "lstm2 = LSTM(100, activation='relu', return_sequences=True)(do1)\n",
        "do2 = Dropout(0.2)(lstm2)\n",
        "lstm3 = LSTM(100, activation='relu', return_sequences=True)(do2)\n",
        "do3 = Dropout(0.2)(lstm3)\n",
        "lstm4 = LSTM(100, activation='relu')(do3)\n",
        "do4 = Dropout(0.2)(lstm4)\n",
        "\n",
        "output_layer = Dense(1)(do4)\n",
        "model = Model(input_layer, output_layer)\n",
        "model.compile(optimizer='adam', loss='mse')"
      ],
      "execution_count": 14,
      "outputs": [
        {
          "output_type": "stream",
          "text": [
            "WARNING:tensorflow:Layer lstm will not use cuDNN kernel since it doesn't meet the cuDNN kernel criteria. It will use generic GPU kernel as fallback when running on GPU\n",
            "WARNING:tensorflow:Layer lstm_1 will not use cuDNN kernel since it doesn't meet the cuDNN kernel criteria. It will use generic GPU kernel as fallback when running on GPU\n",
            "WARNING:tensorflow:Layer lstm_2 will not use cuDNN kernel since it doesn't meet the cuDNN kernel criteria. It will use generic GPU kernel as fallback when running on GPU\n",
            "WARNING:tensorflow:Layer lstm_3 will not use cuDNN kernel since it doesn't meet the cuDNN kernel criteria. It will use generic GPU kernel as fallback when running on GPU\n"
          ],
          "name": "stdout"
        }
      ]
    },
    {
      "cell_type": "code",
      "metadata": {
        "id": "ADybUeEKNQg8",
        "colab_type": "code",
        "outputId": "5a4915bf-8d58-4f55-b0bf-fe7c45a05b9e",
        "colab": {
          "base_uri": "https://localhost:8080/",
          "height": 1000
        }
      },
      "source": [
        "from tensorflow.keras.utils import plot_model\n",
        "plot_model(model, to_file='/content/model_plot1.png', show_shapes=True, show_layer_names=True)"
      ],
      "execution_count": 15,
      "outputs": [
        {
          "output_type": "execute_result",
          "data": {
            "image/png": "[encoded data removed]",
            "text/plain": [
              "<IPython.core.display.Image object>"
            ]
          },
          "metadata": {
            "tags": []
          },
          "execution_count": 15
        }
      ]
    },
    {
      "cell_type": "code",
      "metadata": {
        "id": "-Q7b9CAZvb0Z",
        "colab_type": "code",
        "outputId": "f163385f-a80e-4714-f211-c098b34c7852",
        "colab": {
          "base_uri": "https://localhost:8080/",
          "height": 68
        }
      },
      "source": [
        "print(X_train.shape)\n",
        "print(y_train.shape)\n",
        "y_train= y_train.reshape(-1,1)\n",
        "print(y_train.shape)"
      ],
      "execution_count": 16,
      "outputs": [
        {
          "output_type": "stream",
          "text": [
            "(1197, 60, 1)\n",
            "(1197,)\n",
            "(1197, 1)\n"
          ],
          "name": "stdout"
        }
      ]
    },
    {
      "cell_type": "code",
      "metadata": {
        "id": "twsWEX2IOBxe",
        "colab_type": "code",
        "outputId": "2655c3eb-1960-49cd-f1a9-7cc5fd7c1604",
        "colab": {
          "base_uri": "https://localhost:8080/",
          "height": 1000
        }
      },
      "source": [
        "model_history = model.fit(X_train, y_train, epochs=100, verbose=1, batch_size = 32)"
      ],
      "execution_count": 17,
      "outputs": [
        {
          "output_type": "stream",
          "text": [
            "Epoch 1/100\n",
            "38/38 [==============================] - 11s 292ms/step - loss: 0.0835\n",
            "Epoch 2/100\n",
            "38/38 [==============================] - 11s 295ms/step - loss: 0.0081\n",
            "Epoch 3/100\n",
            "38/38 [==============================] - 11s 291ms/step - loss: 0.0064\n",
            "Epoch 4/100\n",
            "38/38 [==============================] - 11s 295ms/step - loss: 0.0071\n",
            "Epoch 5/100\n",
            "38/38 [==============================] - 11s 296ms/step - loss: 0.0058\n",
            "Epoch 6/100\n",
            "38/38 [==============================] - 11s 296ms/step - loss: 0.0068\n",
            "Epoch 7/100\n",
            "38/38 [==============================] - 11s 296ms/step - loss: 0.0054\n",
            "Epoch 8/100\n",
            "38/38 [==============================] - 11s 296ms/step - loss: 0.0053\n",
            "Epoch 9/100\n",
            "38/38 [==============================] - 11s 297ms/step - loss: 0.0056\n",
            "Epoch 10/100\n",
            "38/38 [==============================] - 11s 297ms/step - loss: 0.0052\n",
            "Epoch 11/100\n",
            "38/38 [==============================] - 11s 297ms/step - loss: 0.0056\n",
            "Epoch 12/100\n",
            "38/38 [==============================] - 11s 294ms/step - loss: 0.0049\n",
            "Epoch 13/100\n",
            "38/38 [==============================] - 11s 294ms/step - loss: 0.0050\n",
            "Epoch 14/100\n",
            "38/38 [==============================] - 11s 292ms/step - loss: 0.0047\n",
            "Epoch 15/100\n",
            "38/38 [==============================] - 11s 296ms/step - loss: 0.0043\n",
            "Epoch 16/100\n",
            "38/38 [==============================] - 11s 300ms/step - loss: 0.0050\n",
            "Epoch 17/100\n",
            "38/38 [==============================] - 11s 302ms/step - loss: 0.0045\n",
            "Epoch 18/100\n",
            "38/38 [==============================] - 11s 300ms/step - loss: 0.0052\n",
            "Epoch 19/100\n",
            "38/38 [==============================] - 11s 297ms/step - loss: 0.0040\n",
            "Epoch 20/100\n",
            "38/38 [==============================] - 11s 297ms/step - loss: 0.0045\n",
            "Epoch 21/100\n",
            "38/38 [==============================] - 11s 297ms/step - loss: 0.0044\n",
            "Epoch 22/100\n",
            "38/38 [==============================] - 11s 299ms/step - loss: 0.0039\n",
            "Epoch 23/100\n",
            "38/38 [==============================] - 12s 304ms/step - loss: 0.0043\n",
            "Epoch 24/100\n",
            "38/38 [==============================] - 12s 304ms/step - loss: 0.0041\n",
            "Epoch 25/100\n",
            "38/38 [==============================] - 11s 299ms/step - loss: 0.0039\n",
            "Epoch 26/100\n",
            "38/38 [==============================] - 11s 300ms/step - loss: 0.0040\n",
            "Epoch 27/100\n",
            "38/38 [==============================] - 11s 302ms/step - loss: 0.0037\n",
            "Epoch 28/100\n",
            "38/38 [==============================] - 11s 298ms/step - loss: 0.0038\n",
            "Epoch 29/100\n",
            "38/38 [==============================] - 11s 301ms/step - loss: 0.0040\n",
            "Epoch 30/100\n",
            "38/38 [==============================] - 11s 295ms/step - loss: 0.0035\n",
            "Epoch 31/100\n",
            "38/38 [==============================] - 11s 296ms/step - loss: 0.0039\n",
            "Epoch 32/100\n",
            "38/38 [==============================] - 11s 297ms/step - loss: 0.0035\n",
            "Epoch 33/100\n",
            "38/38 [==============================] - 11s 299ms/step - loss: 0.0034\n",
            "Epoch 34/100\n",
            "38/38 [==============================] - 11s 298ms/step - loss: 0.0032\n",
            "Epoch 35/100\n",
            "38/38 [==============================] - 11s 298ms/step - loss: 0.0033\n",
            "Epoch 36/100\n",
            "38/38 [==============================] - 11s 299ms/step - loss: 0.0038\n",
            "Epoch 37/100\n",
            "38/38 [==============================] - 11s 300ms/step - loss: 0.0035\n",
            "Epoch 38/100\n",
            "38/38 [==============================] - 11s 295ms/step - loss: 0.0049\n",
            "Epoch 39/100\n",
            "38/38 [==============================] - 11s 300ms/step - loss: 0.0039\n",
            "Epoch 40/100\n",
            "38/38 [==============================] - 11s 298ms/step - loss: 0.0033\n",
            "Epoch 41/100\n",
            "38/38 [==============================] - 11s 293ms/step - loss: 0.0036\n",
            "Epoch 42/100\n",
            "38/38 [==============================] - 11s 299ms/step - loss: 0.0032\n",
            "Epoch 43/100\n",
            "38/38 [==============================] - 11s 295ms/step - loss: 0.0031\n",
            "Epoch 44/100\n",
            "38/38 [==============================] - 11s 300ms/step - loss: 0.0031\n",
            "Epoch 45/100\n",
            "38/38 [==============================] - 11s 298ms/step - loss: 0.0030\n",
            "Epoch 46/100\n",
            "38/38 [==============================] - 11s 300ms/step - loss: 0.0030\n",
            "Epoch 47/100\n",
            "38/38 [==============================] - 11s 294ms/step - loss: 0.0032\n",
            "Epoch 48/100\n",
            "38/38 [==============================] - 11s 299ms/step - loss: 0.0029\n",
            "Epoch 49/100\n",
            "38/38 [==============================] - 11s 296ms/step - loss: 0.0030\n",
            "Epoch 50/100\n",
            "38/38 [==============================] - 12s 308ms/step - loss: 0.0029\n",
            "Epoch 51/100\n",
            "38/38 [==============================] - 11s 300ms/step - loss: 0.0029\n",
            "Epoch 52/100\n",
            "38/38 [==============================] - 11s 298ms/step - loss: 0.0032\n",
            "Epoch 53/100\n",
            "38/38 [==============================] - 12s 304ms/step - loss: 0.0027\n",
            "Epoch 54/100\n",
            "38/38 [==============================] - 11s 298ms/step - loss: 0.0030\n",
            "Epoch 55/100\n",
            "38/38 [==============================] - 11s 299ms/step - loss: 0.0033\n",
            "Epoch 56/100\n",
            "38/38 [==============================] - 11s 296ms/step - loss: 0.0029\n",
            "Epoch 57/100\n",
            "38/38 [==============================] - 11s 299ms/step - loss: 0.0029\n",
            "Epoch 58/100\n",
            "38/38 [==============================] - 11s 303ms/step - loss: 0.0026\n",
            "Epoch 59/100\n",
            "38/38 [==============================] - 11s 295ms/step - loss: 0.0028\n",
            "Epoch 60/100\n",
            "38/38 [==============================] - 11s 299ms/step - loss: 0.0029\n",
            "Epoch 61/100\n",
            "38/38 [==============================] - 11s 298ms/step - loss: 0.0024\n",
            "Epoch 62/100\n",
            "38/38 [==============================] - 11s 297ms/step - loss: 0.0027\n",
            "Epoch 63/100\n",
            "38/38 [==============================] - 11s 299ms/step - loss: 0.0027\n",
            "Epoch 64/100\n",
            "38/38 [==============================] - 11s 299ms/step - loss: 0.0025\n",
            "Epoch 65/100\n",
            "38/38 [==============================] - 11s 297ms/step - loss: 0.0023\n",
            "Epoch 66/100\n",
            "38/38 [==============================] - 11s 299ms/step - loss: 0.0025\n",
            "Epoch 67/100\n",
            "38/38 [==============================] - 11s 297ms/step - loss: 0.0024\n",
            "Epoch 68/100\n",
            "38/38 [==============================] - 11s 300ms/step - loss: 0.0024\n",
            "Epoch 69/100\n",
            "38/38 [==============================] - 11s 300ms/step - loss: 0.0021\n",
            "Epoch 70/100\n",
            "38/38 [==============================] - 11s 301ms/step - loss: 0.0022\n",
            "Epoch 71/100\n",
            "38/38 [==============================] - 11s 294ms/step - loss: 0.0023\n",
            "Epoch 72/100\n",
            "38/38 [==============================] - 11s 295ms/step - loss: 0.0023\n",
            "Epoch 73/100\n",
            "38/38 [==============================] - 11s 300ms/step - loss: 0.0023\n",
            "Epoch 74/100\n",
            "38/38 [==============================] - 11s 301ms/step - loss: 0.0022\n",
            "Epoch 75/100\n",
            "38/38 [==============================] - 11s 295ms/step - loss: 0.0021\n",
            "Epoch 76/100\n",
            "38/38 [==============================] - 11s 299ms/step - loss: 0.0022\n",
            "Epoch 77/100\n",
            "38/38 [==============================] - 12s 304ms/step - loss: 0.0021\n",
            "Epoch 78/100\n",
            "38/38 [==============================] - 11s 297ms/step - loss: 0.0021\n",
            "Epoch 79/100\n",
            "38/38 [==============================] - 11s 294ms/step - loss: 0.0023\n",
            "Epoch 80/100\n",
            "38/38 [==============================] - 11s 301ms/step - loss: 0.0021\n",
            "Epoch 81/100\n",
            "38/38 [==============================] - 11s 297ms/step - loss: 0.0019\n",
            "Epoch 82/100\n",
            "38/38 [==============================] - 11s 294ms/step - loss: 0.0019\n",
            "Epoch 83/100\n",
            "38/38 [==============================] - 11s 299ms/step - loss: 0.0021\n",
            "Epoch 84/100\n",
            "38/38 [==============================] - 11s 294ms/step - loss: 0.0019\n",
            "Epoch 85/100\n",
            "38/38 [==============================] - 11s 297ms/step - loss: 0.0021\n",
            "Epoch 86/100\n",
            "38/38 [==============================] - 11s 301ms/step - loss: 0.0022\n",
            "Epoch 87/100\n",
            "38/38 [==============================] - 11s 295ms/step - loss: 0.0019\n",
            "Epoch 88/100\n",
            "38/38 [==============================] - 12s 303ms/step - loss: 0.0020\n",
            "Epoch 89/100\n",
            "38/38 [==============================] - 11s 300ms/step - loss: 0.0020\n",
            "Epoch 90/100\n",
            "38/38 [==============================] - 11s 293ms/step - loss: 0.0020\n",
            "Epoch 91/100\n",
            "38/38 [==============================] - 11s 297ms/step - loss: 0.0019\n",
            "Epoch 92/100\n",
            "38/38 [==============================] - 11s 298ms/step - loss: 0.0019\n",
            "Epoch 93/100\n",
            "38/38 [==============================] - 11s 299ms/step - loss: 0.0019\n",
            "Epoch 94/100\n",
            "38/38 [==============================] - 11s 297ms/step - loss: 0.0019\n",
            "Epoch 95/100\n",
            "38/38 [==============================] - 11s 302ms/step - loss: 0.0019\n",
            "Epoch 96/100\n",
            "38/38 [==============================] - 11s 299ms/step - loss: 0.0018\n",
            "Epoch 97/100\n",
            "38/38 [==============================] - 11s 294ms/step - loss: 0.0019\n",
            "Epoch 98/100\n",
            "38/38 [==============================] - 11s 299ms/step - loss: 0.0018\n",
            "Epoch 99/100\n",
            "38/38 [==============================] - 12s 304ms/step - loss: 0.0018\n",
            "Epoch 100/100\n",
            "38/38 [==============================] - 11s 299ms/step - loss: 0.0021\n"
          ],
          "name": "stdout"
        }
      ]
    },
    {
      "cell_type": "code",
      "metadata": {
        "id": "cDZkZX3Cvada",
        "colab_type": "code",
        "colab": {}
      },
      "source": [
        ""
      ],
      "execution_count": 0,
      "outputs": []
    },
    {
      "cell_type": "code",
      "metadata": {
        "id": "KtyfvdJ6OOC4",
        "colab_type": "code",
        "colab": {}
      },
      "source": [
        "fb_testing_complete_data = pd.read_csv(\"/content/fb_test.csv\")\n",
        "fb_testing_processed = fb_testing_complete_data[['Open']].values\n",
        "\n",
        "\n"
      ],
      "execution_count": 0,
      "outputs": []
    },
    {
      "cell_type": "code",
      "metadata": {
        "id": "XrKzx5LKlwdL",
        "colab_type": "code",
        "colab": {}
      },
      "source": [
        "fb_all_data = pd.concat((fb_complete_data['Open'], fb_testing_complete_data['Open']), axis=0)"
      ],
      "execution_count": 0,
      "outputs": []
    },
    {
      "cell_type": "code",
      "metadata": {
        "id": "RpJLZ4hlmB0O",
        "colab_type": "code",
        "outputId": "3a5a3413-e076-4cc3-8424-0db21ea2fa4a",
        "colab": {
          "base_uri": "https://localhost:8080/",
          "height": 34
        }
      },
      "source": [
        "test_inputs = fb_all_data [len(fb_all_data ) - len(fb_testing_complete_data) - 60:].values\n",
        "print(test_inputs.shape)"
      ],
      "execution_count": 20,
      "outputs": [
        {
          "output_type": "stream",
          "text": [
            "(80,)\n"
          ],
          "name": "stdout"
        }
      ]
    },
    {
      "cell_type": "code",
      "metadata": {
        "id": "vHZ_--5NotN9",
        "colab_type": "code",
        "outputId": "777f01a8-91db-4860-eede-f86a7b36881d",
        "colab": {
          "base_uri": "https://localhost:8080/",
          "height": 34
        }
      },
      "source": [
        "test_inputs = test_inputs.reshape(-1,1)\n",
        "test_inputs = scaler.transform(test_inputs)\n",
        "print(test_inputs.shape)"
      ],
      "execution_count": 21,
      "outputs": [
        {
          "output_type": "stream",
          "text": [
            "(80, 1)\n"
          ],
          "name": "stdout"
        }
      ]
    },
    {
      "cell_type": "code",
      "metadata": {
        "id": "KCYxBZqMouy2",
        "colab_type": "code",
        "colab": {}
      },
      "source": [
        "fb_test_features = []\n",
        "for i in range(60, 80):\n",
        "    fb_test_features.append(test_inputs[i-60:i, 0])"
      ],
      "execution_count": 0,
      "outputs": []
    },
    {
      "cell_type": "code",
      "metadata": {
        "id": "6CdxXBF-pmKd",
        "colab_type": "code",
        "outputId": "5853c88d-1b2c-4896-e701-c667af3e644d",
        "colab": {
          "base_uri": "https://localhost:8080/",
          "height": 34
        }
      },
      "source": [
        "X_test = np.array(fb_test_features)\n",
        "print(X_test.shape)"
      ],
      "execution_count": 23,
      "outputs": [
        {
          "output_type": "stream",
          "text": [
            "(20, 60)\n"
          ],
          "name": "stdout"
        }
      ]
    },
    {
      "cell_type": "code",
      "metadata": {
        "id": "1PgsXE8dptw4",
        "colab_type": "code",
        "outputId": "ddec4fbe-506e-4ba1-b43f-305ae3a7b930",
        "colab": {
          "base_uri": "https://localhost:8080/",
          "height": 34
        }
      },
      "source": [
        "X_test = np.reshape(X_test, (X_test.shape[0], X_test.shape[1], 1))\n",
        "print(X_test.shape)"
      ],
      "execution_count": 24,
      "outputs": [
        {
          "output_type": "stream",
          "text": [
            "(20, 60, 1)\n"
          ],
          "name": "stdout"
        }
      ]
    },
    {
      "cell_type": "code",
      "metadata": {
        "id": "jPbYX-TZp900",
        "colab_type": "code",
        "outputId": "3c0ab1ce-0fe3-47b6-c1d9-544a571b21f3",
        "colab": {
          "base_uri": "https://localhost:8080/",
          "height": 34
        }
      },
      "source": [
        "y_pred =  model.predict(X_test)\n",
        "print(y_pred.shape)"
      ],
      "execution_count": 25,
      "outputs": [
        {
          "output_type": "stream",
          "text": [
            "(20, 1)\n"
          ],
          "name": "stdout"
        }
      ]
    },
    {
      "cell_type": "code",
      "metadata": {
        "id": "YqejpICmqEeh",
        "colab_type": "code",
        "colab": {}
      },
      "source": [
        "y_pred = scaler.inverse_transform(y_pred)"
      ],
      "execution_count": 0,
      "outputs": []
    },
    {
      "cell_type": "code",
      "metadata": {
        "id": "kZQBlwZtqIKC",
        "colab_type": "code",
        "outputId": "3e7eb22b-0c07-42af-b0f9-81a415b5f992",
        "colab": {
          "base_uri": "https://localhost:8080/",
          "height": 404
        }
      },
      "source": [
        "plt.figure(figsize=(8,6))\n",
        "plt.plot(fb_testing_processed, color='red', label='Actual Facenook Stock Price')\n",
        "plt.plot(y_pred , color='green', label='Predicted Face Stock Price')\n",
        "plt.title('Facebook Stock Prices')\n",
        "plt.xlabel('Date')\n",
        "plt.ylabel('Stock Price')\n",
        "plt.legend()\n",
        "plt.show()"
      ],
      "execution_count": 27,
      "outputs": [
        {
          "output_type": "display_data",
          "data": {
            "image/png": "[encoded data removed]",
            "text/plain": [
              "<Figure size 576x432 with 1 Axes>"
            ]
          },
          "metadata": {
            "tags": [],
            "needs_background": "light"
          }
        }
      ]
    },
    {
      "cell_type": "code",
      "metadata": {
        "id": "VxqsNVfrzMlH",
        "colab_type": "code",
        "colab": {}
      },
      "source": [
        ""
      ],
      "execution_count": 0,
      "outputs": []
    }
  ]
}