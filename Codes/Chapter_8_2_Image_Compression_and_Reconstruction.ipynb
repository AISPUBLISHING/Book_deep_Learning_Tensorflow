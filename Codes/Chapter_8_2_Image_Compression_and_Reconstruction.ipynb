{
  "nbformat": 4,
  "nbformat_minor": 0,
  "metadata": {
    "colab": {
      "name": "Chapter 8.2 - Image Compression and Reconstruction.ipynb",
      "provenance": [],
      "collapsed_sections": []
    },
    "kernelspec": {
      "name": "python3",
      "display_name": "Python 3"
    }
  },
  "cells": [
    {
      "cell_type": "code",
      "metadata": {
        "id": "sF7cjh6gDWpi",
        "colab_type": "code",
        "colab": {}
      },
      "source": [
        "import pandas as pd\n",
        "import numpy as np\n",
        "import re\n",
        "\n",
        "\n",
        "from numpy import array\n",
        "from tensorflow.keras.preprocessing.text import one_hot\n",
        "\n",
        "from tensorflow.keras.models import Sequential\n",
        "from tensorflow.keras.layers import Activation, LSTM, Dropout, Dense, Flatten, Input,  Embedding, Conv1D, Input\n",
        "from tensorflow.keras.models import Model\n",
        "from sklearn.model_selection import train_test_split\n",
        "from tensorflow.keras import regularizers\n",
        "from sklearn.metrics import recall_score, classification_report, auc, roc_curve, accuracy_score"
      ],
      "execution_count": 0,
      "outputs": []
    },
    {
      "cell_type": "code",
      "metadata": {
        "id": "yOY7ApDYDv1X",
        "colab_type": "code",
        "outputId": "e48172d9-4e41-4e71-d1a8-5f8fc5597b13",
        "colab": {
          "base_uri": "https://localhost:8080/",
          "height": 68
        }
      },
      "source": [
        "from keras.datasets import mnist\n",
        "import numpy as np\n",
        "(train_images, _), (test_images, _) = mnist.load_data()\n",
        "print (train_images.shape)\n",
        "print (test_images.shape)"
      ],
      "execution_count": 2,
      "outputs": [
        {
          "output_type": "stream",
          "text": [
            "Using TensorFlow backend.\n"
          ],
          "name": "stderr"
        },
        {
          "output_type": "stream",
          "text": [
            "(60000, 28, 28)\n",
            "(10000, 28, 28)\n"
          ],
          "name": "stdout"
        }
      ]
    },
    {
      "cell_type": "code",
      "metadata": {
        "id": "9wHCkuITEYq1",
        "colab_type": "code",
        "outputId": "073b73fb-12f3-4eda-8460-8a5374b46de5",
        "colab": {
          "base_uri": "https://localhost:8080/",
          "height": 51
        }
      },
      "source": [
        "train_images = train_images.astype('float32') / 255.\n",
        "test_images = test_images.astype('float32') / 255.\n",
        "\n",
        "train_images = train_images.reshape((len(train_images), np.prod(train_images.shape[1:])))\n",
        "\n",
        "test_images = test_images.reshape((len(test_images), np.prod(test_images.shape[1:])))\n",
        "\n",
        "print (train_images.shape)\n",
        "print (test_images.shape)"
      ],
      "execution_count": 3,
      "outputs": [
        {
          "output_type": "stream",
          "text": [
            "(60000, 784)\n",
            "(10000, 784)\n"
          ],
          "name": "stdout"
        }
      ]
    },
    {
      "cell_type": "code",
      "metadata": {
        "id": "plNO6ERRIzFE",
        "colab_type": "code",
        "colab": {
          "base_uri": "https://localhost:8080/",
          "height": 255
        },
        "outputId": "389e8d7c-9883-415e-ad36-8fbc62f822ba"
      },
      "source": [
        "\n",
        "from keras.layers import Input, Dense\n",
        "from keras.models import Model\n",
        "\n",
        "\n",
        "encoding_dim = 32  \n",
        "\n",
        "# the input layer with 784 features\n",
        "input_layer = Input(shape=(784,))\n",
        "# the only hidden layer or the encoded layer with 32 dimensions\n",
        "encoder_layer1 = Dense(encoding_dim, activation='relu')(input_layer)\n",
        "# the decoded layer with again 784 features\n",
        "decoder_layer1 = Dense(784, activation='sigmoid')(encoder_layer1)\n",
        "\n",
        "# this model maps an input to its reconstruction\n",
        "autoencoder = Model(input_layer, decoder_layer1)\n",
        "autoencoder.summary() "
      ],
      "execution_count": 4,
      "outputs": [
        {
          "output_type": "stream",
          "text": [
            "Model: \"model_1\"\n",
            "_________________________________________________________________\n",
            "Layer (type)                 Output Shape              Param #   \n",
            "=================================================================\n",
            "input_1 (InputLayer)         (None, 784)               0         \n",
            "_________________________________________________________________\n",
            "dense_1 (Dense)              (None, 32)                25120     \n",
            "_________________________________________________________________\n",
            "dense_2 (Dense)              (None, 784)               25872     \n",
            "=================================================================\n",
            "Total params: 50,992\n",
            "Trainable params: 50,992\n",
            "Non-trainable params: 0\n",
            "_________________________________________________________________\n"
          ],
          "name": "stdout"
        }
      ]
    },
    {
      "cell_type": "code",
      "metadata": {
        "id": "N-zdNCimLSK0",
        "colab_type": "code",
        "colab": {}
      },
      "source": [
        "encoder = Model(input_layer, encoder_layer1)\n",
        "encoded_input = Input(shape=(encoding_dim,))\n",
        "decoder_layer = autoencoder.layers[-1]\n",
        "decoder = Model(encoded_input, decoder_layer(encoded_input))\n",
        "\n"
      ],
      "execution_count": 0,
      "outputs": []
    },
    {
      "cell_type": "code",
      "metadata": {
        "id": "ExDae0iTJyp1",
        "colab_type": "code",
        "colab": {}
      },
      "source": [
        "autoencoder.compile(optimizer='adadelta', loss='binary_crossentropy')"
      ],
      "execution_count": 0,
      "outputs": []
    },
    {
      "cell_type": "code",
      "metadata": {
        "id": "mfCjnKz_J7ri",
        "colab_type": "code",
        "outputId": "ab7f8879-4b00-48bc-90c9-ca956ce06459",
        "colab": {
          "base_uri": "https://localhost:8080/",
          "height": 1000
        }
      },
      "source": [
        "epochs = 60\n",
        "batch_size = 256\n",
        "\n",
        "\n",
        "autoencoder.fit(train_images, train_images,\n",
        "                epochs=epochs,\n",
        "                batch_size=batch_size,\n",
        "                shuffle=True,\n",
        "                validation_data=(test_images, test_images))"
      ],
      "execution_count": 7,
      "outputs": [
        {
          "output_type": "stream",
          "text": [
            "Train on 60000 samples, validate on 10000 samples\n",
            "Epoch 1/60\n",
            "60000/60000 [==============================] - 2s 41us/step - loss: 0.3573 - val_loss: 0.2718\n",
            "Epoch 2/60\n",
            "60000/60000 [==============================] - 2s 37us/step - loss: 0.2657 - val_loss: 0.2562\n",
            "Epoch 3/60\n",
            "60000/60000 [==============================] - 2s 37us/step - loss: 0.2453 - val_loss: 0.2319\n",
            "Epoch 4/60\n",
            "60000/60000 [==============================] - 2s 37us/step - loss: 0.2235 - val_loss: 0.2134\n",
            "Epoch 5/60\n",
            "60000/60000 [==============================] - 2s 36us/step - loss: 0.2083 - val_loss: 0.2008\n",
            "Epoch 6/60\n",
            "60000/60000 [==============================] - 2s 37us/step - loss: 0.1973 - val_loss: 0.1911\n",
            "Epoch 7/60\n",
            "60000/60000 [==============================] - 2s 36us/step - loss: 0.1884 - val_loss: 0.1831\n",
            "Epoch 8/60\n",
            "60000/60000 [==============================] - 2s 36us/step - loss: 0.1812 - val_loss: 0.1767\n",
            "Epoch 9/60\n",
            "60000/60000 [==============================] - 2s 36us/step - loss: 0.1753 - val_loss: 0.1712\n",
            "Epoch 10/60\n",
            "60000/60000 [==============================] - 2s 36us/step - loss: 0.1703 - val_loss: 0.1667\n",
            "Epoch 11/60\n",
            "60000/60000 [==============================] - 2s 37us/step - loss: 0.1659 - val_loss: 0.1626\n",
            "Epoch 12/60\n",
            "60000/60000 [==============================] - 2s 37us/step - loss: 0.1620 - val_loss: 0.1589\n",
            "Epoch 13/60\n",
            "60000/60000 [==============================] - 2s 37us/step - loss: 0.1585 - val_loss: 0.1554\n",
            "Epoch 14/60\n",
            "60000/60000 [==============================] - 2s 36us/step - loss: 0.1551 - val_loss: 0.1522\n",
            "Epoch 15/60\n",
            "60000/60000 [==============================] - 2s 37us/step - loss: 0.1520 - val_loss: 0.1492\n",
            "Epoch 16/60\n",
            "60000/60000 [==============================] - 2s 37us/step - loss: 0.1490 - val_loss: 0.1462\n",
            "Epoch 17/60\n",
            "60000/60000 [==============================] - 2s 37us/step - loss: 0.1461 - val_loss: 0.1434\n",
            "Epoch 18/60\n",
            "60000/60000 [==============================] - 2s 36us/step - loss: 0.1435 - val_loss: 0.1409\n",
            "Epoch 19/60\n",
            "60000/60000 [==============================] - 2s 36us/step - loss: 0.1409 - val_loss: 0.1384\n",
            "Epoch 20/60\n",
            "60000/60000 [==============================] - 2s 37us/step - loss: 0.1386 - val_loss: 0.1360\n",
            "Epoch 21/60\n",
            "60000/60000 [==============================] - 2s 37us/step - loss: 0.1363 - val_loss: 0.1338\n",
            "Epoch 22/60\n",
            "60000/60000 [==============================] - 2s 38us/step - loss: 0.1342 - val_loss: 0.1318\n",
            "Epoch 23/60\n",
            "60000/60000 [==============================] - 2s 39us/step - loss: 0.1322 - val_loss: 0.1299\n",
            "Epoch 24/60\n",
            "60000/60000 [==============================] - 2s 39us/step - loss: 0.1303 - val_loss: 0.1280\n",
            "Epoch 25/60\n",
            "60000/60000 [==============================] - 2s 39us/step - loss: 0.1285 - val_loss: 0.1261\n",
            "Epoch 26/60\n",
            "60000/60000 [==============================] - 2s 36us/step - loss: 0.1267 - val_loss: 0.1244\n",
            "Epoch 27/60\n",
            "60000/60000 [==============================] - 2s 36us/step - loss: 0.1250 - val_loss: 0.1227\n",
            "Epoch 28/60\n",
            "60000/60000 [==============================] - 2s 37us/step - loss: 0.1235 - val_loss: 0.1212\n",
            "Epoch 29/60\n",
            "60000/60000 [==============================] - 2s 37us/step - loss: 0.1219 - val_loss: 0.1197\n",
            "Epoch 30/60\n",
            "60000/60000 [==============================] - 2s 37us/step - loss: 0.1205 - val_loss: 0.1183\n",
            "Epoch 31/60\n",
            "60000/60000 [==============================] - 2s 36us/step - loss: 0.1192 - val_loss: 0.1170\n",
            "Epoch 32/60\n",
            "60000/60000 [==============================] - 2s 37us/step - loss: 0.1179 - val_loss: 0.1157\n",
            "Epoch 33/60\n",
            "60000/60000 [==============================] - 2s 37us/step - loss: 0.1167 - val_loss: 0.1145\n",
            "Epoch 34/60\n",
            "60000/60000 [==============================] - 2s 37us/step - loss: 0.1156 - val_loss: 0.1134\n",
            "Epoch 35/60\n",
            "60000/60000 [==============================] - 2s 37us/step - loss: 0.1146 - val_loss: 0.1125\n",
            "Epoch 36/60\n",
            "60000/60000 [==============================] - 2s 37us/step - loss: 0.1136 - val_loss: 0.1115\n",
            "Epoch 37/60\n",
            "60000/60000 [==============================] - 2s 36us/step - loss: 0.1127 - val_loss: 0.1107\n",
            "Epoch 38/60\n",
            "60000/60000 [==============================] - 2s 37us/step - loss: 0.1119 - val_loss: 0.1099\n",
            "Epoch 39/60\n",
            "60000/60000 [==============================] - 2s 37us/step - loss: 0.1111 - val_loss: 0.1091\n",
            "Epoch 40/60\n",
            "60000/60000 [==============================] - 2s 36us/step - loss: 0.1104 - val_loss: 0.1084\n",
            "Epoch 41/60\n",
            "60000/60000 [==============================] - 2s 37us/step - loss: 0.1097 - val_loss: 0.1078\n",
            "Epoch 42/60\n",
            "60000/60000 [==============================] - 2s 36us/step - loss: 0.1091 - val_loss: 0.1072\n",
            "Epoch 43/60\n",
            "60000/60000 [==============================] - 2s 36us/step - loss: 0.1085 - val_loss: 0.1066\n",
            "Epoch 44/60\n",
            "60000/60000 [==============================] - 2s 37us/step - loss: 0.1080 - val_loss: 0.1061\n",
            "Epoch 45/60\n",
            "60000/60000 [==============================] - 2s 36us/step - loss: 0.1075 - val_loss: 0.1056\n",
            "Epoch 46/60\n",
            "60000/60000 [==============================] - 2s 37us/step - loss: 0.1070 - val_loss: 0.1051\n",
            "Epoch 47/60\n",
            "60000/60000 [==============================] - 2s 36us/step - loss: 0.1066 - val_loss: 0.1047\n",
            "Epoch 48/60\n",
            "60000/60000 [==============================] - 2s 36us/step - loss: 0.1062 - val_loss: 0.1043\n",
            "Epoch 49/60\n",
            "60000/60000 [==============================] - 2s 37us/step - loss: 0.1058 - val_loss: 0.1039\n",
            "Epoch 50/60\n",
            "60000/60000 [==============================] - 2s 36us/step - loss: 0.1054 - val_loss: 0.1035\n",
            "Epoch 51/60\n",
            "60000/60000 [==============================] - 2s 37us/step - loss: 0.1050 - val_loss: 0.1032\n",
            "Epoch 52/60\n",
            "60000/60000 [==============================] - 2s 37us/step - loss: 0.1047 - val_loss: 0.1028\n",
            "Epoch 53/60\n",
            "60000/60000 [==============================] - 2s 37us/step - loss: 0.1043 - val_loss: 0.1025\n",
            "Epoch 54/60\n",
            "60000/60000 [==============================] - 2s 36us/step - loss: 0.1040 - val_loss: 0.1022\n",
            "Epoch 55/60\n",
            "60000/60000 [==============================] - 2s 36us/step - loss: 0.1037 - val_loss: 0.1019\n",
            "Epoch 56/60\n",
            "60000/60000 [==============================] - 2s 37us/step - loss: 0.1035 - val_loss: 0.1017\n",
            "Epoch 57/60\n",
            "60000/60000 [==============================] - 2s 37us/step - loss: 0.1032 - val_loss: 0.1014\n",
            "Epoch 58/60\n",
            "60000/60000 [==============================] - 2s 37us/step - loss: 0.1029 - val_loss: 0.1011\n",
            "Epoch 59/60\n",
            "60000/60000 [==============================] - 2s 37us/step - loss: 0.1027 - val_loss: 0.1009\n",
            "Epoch 60/60\n",
            "60000/60000 [==============================] - 2s 37us/step - loss: 0.1025 - val_loss: 0.1007\n"
          ],
          "name": "stdout"
        },
        {
          "output_type": "execute_result",
          "data": {
            "text/plain": [
              "<keras.callbacks.callbacks.History at 0x7f53c34c9828>"
            ]
          },
          "metadata": {
            "tags": []
          },
          "execution_count": 7
        }
      ]
    },
    {
      "cell_type": "code",
      "metadata": {
        "id": "Fquskgl7KIgP",
        "colab_type": "code",
        "colab": {
          "base_uri": "https://localhost:8080/",
          "height": 34
        },
        "outputId": "c81a57f6-6d65-473f-d33f-3dc5ea8f3ea0"
      },
      "source": [
        "encoded_imgs = encoder.predict(test_images)\n",
        "print(encoded_imgs.shape)"
      ],
      "execution_count": 11,
      "outputs": [
        {
          "output_type": "stream",
          "text": [
            "(10000, 32)\n"
          ],
          "name": "stdout"
        }
      ]
    },
    {
      "cell_type": "code",
      "metadata": {
        "id": "VH9IDc4cV6Qm",
        "colab_type": "code",
        "colab": {}
      },
      "source": [
        "decoded_imgs = decoder.predict(encoded_imgs)"
      ],
      "execution_count": 0,
      "outputs": []
    },
    {
      "cell_type": "code",
      "metadata": {
        "id": "PnZw3oKxMMzC",
        "colab_type": "code",
        "outputId": "233eb5c5-c847-4768-a5c4-d5bf426e0932",
        "colab": {
          "base_uri": "https://localhost:8080/",
          "height": 252
        }
      },
      "source": [
        "\n",
        "import matplotlib.pyplot as plt\n",
        "\n",
        "n = 5  # how many digits we will display\n",
        "plt.figure(figsize=(20, 4))\n",
        "for i in range(n):\n",
        "    # original images\n",
        "    ax = plt.subplot(2, n, i + 1)\n",
        "    plt.imshow(test_images[i].reshape(28, 28))\n",
        "    plt.gray()\n",
        "    ax.get_xaxis().set_visible(False)\n",
        "    ax.get_yaxis().set_visible(False)\n",
        "\n",
        "    # reconstructed images\n",
        "    ax = plt.subplot(2, n, i + 1 + n)\n",
        "    plt.imshow(decoded_imgs[i].reshape(28, 28))\n",
        "    plt.gray()\n",
        "    ax.get_xaxis().set_visible(False)\n",
        "    ax.get_yaxis().set_visible(False)\n",
        "plt.show()"
      ],
      "execution_count": 9,
      "outputs": [
        {
          "output_type": "display_data",
          "data": {
            "image/png": "[encoded data removed]",
            "text/plain": [
              "<Figure size 1440x288 with 10 Axes>"
            ]
          },
          "metadata": {
            "tags": [],
            "needs_background": "light"
          }
        }
      ]
    },
    {
      "cell_type": "code",
      "metadata": {
        "id": "c7UBc5iiMW4z",
        "colab_type": "code",
        "colab": {}
      },
      "source": [
        ""
      ],
      "execution_count": 0,
      "outputs": []
    }
  ]
}