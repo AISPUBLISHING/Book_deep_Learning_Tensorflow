{
 "cells": [
  {
   "cell_type": "code",
   "execution_count": 1,
   "metadata": {},
   "outputs": [],
   "source": [
    "# from sklearn.datasets import make_regression\n",
    "# import matplotlib.pyplot as plt\n",
    "# import numpy as np\n",
    "\n",
    "# X, y= make_regression(n_samples=100, n_features=1, noise=1.0, bias=50)\n",
    "# y = y.reshape(y.shape[0],1)\n",
    "\n",
    "\n",
    "# -*- coding: utf-8 -*-\n",
    "\"\"\"\n",
    "Created on Fri Apr 10 15:47:40 2020\n",
    "\n",
    "@author: usman\n",
    "\"\"\"\n",
    "\n",
    "from sklearn.datasets import make_regression\n",
    "import matplotlib.pyplot as plt\n",
    "import numpy as np\n",
    "\n",
    "X, y= make_regression(n_samples=100, n_features=1, noise=1.0, bias=50)\n",
    "\n",
    "y = y.reshape(y.shape[0],1)\n",
    "\n"
   ]
  },
  {
   "cell_type": "code",
   "execution_count": 2,
   "metadata": {},
   "outputs": [
    {
     "name": "stdout",
     "output_type": "stream",
     "text": [
      "(100, 1)\n",
      "(100, 1)\n"
     ]
    }
   ],
   "source": [
    "print(X.shape)\n",
    "print(y.shape)"
   ]
  },
  {
   "cell_type": "code",
   "execution_count": 3,
   "metadata": {},
   "outputs": [],
   "source": [
    "def define_parameters(n_weights):\n",
    "    a = np.random.randn( n_weights, 1)\n",
    "    b = np.random.randn()\n",
    "    return a, b"
   ]
  },
  {
   "cell_type": "code",
   "execution_count": 4,
   "metadata": {},
   "outputs": [],
   "source": [
    "def predictions(a, b , X):\n",
    "    z = np.dot(X,a) + b\n",
    "    return z"
   ]
  },
  {
   "cell_type": "code",
   "execution_count": 5,
   "metadata": {},
   "outputs": [],
   "source": [
    "def find_cost(z,y):\n",
    "    m = y.shape[0]\n",
    "    total_cost = (1/m)* np.sum(np.square(z - y))\n",
    "    return total_cost"
   ]
  },
  {
   "cell_type": "code",
   "execution_count": 6,
   "metadata": {},
   "outputs": [],
   "source": [
    "def find_derivatives(X, y, z):\n",
    "    m = y.shape[0]\n",
    "    dz = (1/m)*(z-y)\n",
    "    da = np.dot(X.T, dz)\n",
    "    db = np.sum(dz)\n",
    "    \n",
    "    return da, db"
   ]
  },
  {
   "cell_type": "code",
   "execution_count": 7,
   "metadata": {},
   "outputs": [],
   "source": [
    "def update_parameters(a, b, da, db, lr):\n",
    "    a = a - lr * da\n",
    "    b = b - lr * db\n",
    "    \n",
    "    return a, b"
   ]
  },
  {
   "cell_type": "code",
   "execution_count": 8,
   "metadata": {},
   "outputs": [],
   "source": [
    "def linear_regression1(X, y, lr, epochs):\n",
    "    error_list = []\n",
    "    lenw = X.shape[1]\n",
    "    a,b = define_parameters(lenw)\n",
    "    \n",
    "    for i in range(epochs):\n",
    "        z = predictions(a, b, X)\n",
    "        cost = find_cost(z,y)\n",
    "        error_list.append(cost)\n",
    "        da, db = find_derivatives(X, y, z)\n",
    "        a, b = update_parameters(a, b, da, db, lr)\n",
    "        if i % 50 == 0 :\n",
    "            print(cost)\n",
    "            \n",
    "    return a, b, error_list"
   ]
  },
  {
   "cell_type": "code",
   "execution_count": 9,
   "metadata": {},
   "outputs": [
    {
     "name": "stdout",
     "output_type": "stream",
     "text": [
      "9282.17583757603\n",
      "3242.0708640209937\n",
      "1162.1976483010899\n",
      "426.0264214645784\n",
      "159.22230445995402\n",
      "60.6331026449886\n",
      "23.64090989050089\n",
      "9.597514978442227\n",
      "4.219410056934621\n",
      "2.1465454161485016\n",
      "1.3438901950665991\n",
      "1.032048989545961\n",
      "0.9106071387032943\n",
      "0.8632338258173294\n",
      "0.8447319726561406\n",
      "0.8374999391771194\n",
      "0.8346714043908366\n",
      "0.8335646724634752\n",
      "0.8331315112089186\n",
      "0.8329619426407782\n"
     ]
    }
   ],
   "source": [
    "lr = 0.01\n",
    "epochs = 1000\n",
    "a, b, error_list = linear_regression1(X,y,lr,epochs)"
   ]
  },
  {
   "cell_type": "code",
   "execution_count": 10,
   "metadata": {},
   "outputs": [
    {
     "data": {
      "text/plain": [
       "[<matplotlib.lines.Line2D at 0x23a5e601d48>]"
      ]
     },
     "execution_count": 10,
     "metadata": {},
     "output_type": "execute_result"
    },
    {
     "data": {
      "image/png": "[encoded data removed]",
      "text/plain": [
       "<Figure size 432x288 with 1 Axes>"
      ]
     },
     "metadata": {
      "needs_background": "light"
     },
     "output_type": "display_data"
    }
   ],
   "source": [
    "plt.plot(error_list)"
   ]
  },
  {
   "cell_type": "code",
   "execution_count": 11,
   "metadata": {},
   "outputs": [
    {
     "name": "stdout",
     "output_type": "stream",
     "text": [
      "(1, 1)\n"
     ]
    }
   ],
   "source": [
    "print(a.shape)"
   ]
  },
  {
   "cell_type": "markdown",
   "metadata": {},
   "source": [
    "## Exercise 2.1\n",
    "\n",
    "### Quesion 1\n",
    "Which function is used at the last step to find the total error in case of logistic regression:\n",
    "    \n",
    "1. Mean Absolute Error\n",
    "2. Sigmoid Function\n",
    "3. Mean Squared Error\n",
    "4. None of the above\n",
    "\n",
    "Answer: 2\n",
    "\n",
    "\n",
    "### Quesion 2\n",
    "The number of weights + bias should be:\n",
    "    \n",
    "1. Equal to the number of input feature in the data\n",
    "2. More than the number of input features\n",
    "3. Less than the number of input features\n",
    "4. One more than the number of input features\n",
    "\n",
    "Answer: 4\n",
    "\n",
    "\n",
    "### Quesion 3\n",
    "\n",
    "The purpose of gradient descent is to:\n",
    "    \n",
    "1. Minimize weights\n",
    "2. Minimize bias\n",
    "3. Maxmimize cost\n",
    "4. Minimize cost\n",
    "\n",
    "Answer: 4"
   ]
  },
  {
   "cell_type": "markdown",
   "metadata": {},
   "source": [
    "## Exercise 2.2\n",
    "Using the following dataset, apply logistic regression function to classify diabetic and non-diabetic patients. Print the accuracy as well. You can take help from section 2.2. of Chapter 2."
   ]
  },
  {
   "cell_type": "code",
   "execution_count": 12,
   "metadata": {},
   "outputs": [
    {
     "data": {
      "text/html": [
       "<div>\n",
       "<style scoped>\n",
       "    .dataframe tbody tr th:only-of-type {\n",
       "        vertical-align: middle;\n",
       "    }\n",
       "\n",
       "    .dataframe tbody tr th {\n",
       "        vertical-align: top;\n",
       "    }\n",
       "\n",
       "    .dataframe thead th {\n",
       "        text-align: right;\n",
       "    }\n",
       "</style>\n",
       "<table border=\"1\" class=\"dataframe\">\n",
       "  <thead>\n",
       "    <tr style=\"text-align: right;\">\n",
       "      <th></th>\n",
       "      <th>Pregnancies</th>\n",
       "      <th>Glucose</th>\n",
       "      <th>BloodPressure</th>\n",
       "      <th>SkinThickness</th>\n",
       "      <th>Insulin</th>\n",
       "      <th>BMI</th>\n",
       "      <th>DiabetesPedigreeFunction</th>\n",
       "      <th>Age</th>\n",
       "      <th>Outcome</th>\n",
       "    </tr>\n",
       "  </thead>\n",
       "  <tbody>\n",
       "    <tr>\n",
       "      <td>0</td>\n",
       "      <td>6</td>\n",
       "      <td>148</td>\n",
       "      <td>72</td>\n",
       "      <td>35</td>\n",
       "      <td>0</td>\n",
       "      <td>33.6</td>\n",
       "      <td>0.627</td>\n",
       "      <td>50</td>\n",
       "      <td>1</td>\n",
       "    </tr>\n",
       "    <tr>\n",
       "      <td>1</td>\n",
       "      <td>1</td>\n",
       "      <td>85</td>\n",
       "      <td>66</td>\n",
       "      <td>29</td>\n",
       "      <td>0</td>\n",
       "      <td>26.6</td>\n",
       "      <td>0.351</td>\n",
       "      <td>31</td>\n",
       "      <td>0</td>\n",
       "    </tr>\n",
       "    <tr>\n",
       "      <td>2</td>\n",
       "      <td>8</td>\n",
       "      <td>183</td>\n",
       "      <td>64</td>\n",
       "      <td>0</td>\n",
       "      <td>0</td>\n",
       "      <td>23.3</td>\n",
       "      <td>0.672</td>\n",
       "      <td>32</td>\n",
       "      <td>1</td>\n",
       "    </tr>\n",
       "    <tr>\n",
       "      <td>3</td>\n",
       "      <td>1</td>\n",
       "      <td>89</td>\n",
       "      <td>66</td>\n",
       "      <td>23</td>\n",
       "      <td>94</td>\n",
       "      <td>28.1</td>\n",
       "      <td>0.167</td>\n",
       "      <td>21</td>\n",
       "      <td>0</td>\n",
       "    </tr>\n",
       "    <tr>\n",
       "      <td>4</td>\n",
       "      <td>0</td>\n",
       "      <td>137</td>\n",
       "      <td>40</td>\n",
       "      <td>35</td>\n",
       "      <td>168</td>\n",
       "      <td>43.1</td>\n",
       "      <td>2.288</td>\n",
       "      <td>33</td>\n",
       "      <td>1</td>\n",
       "    </tr>\n",
       "  </tbody>\n",
       "</table>\n",
       "</div>"
      ],
      "text/plain": [
       "   Pregnancies  Glucose  BloodPressure  SkinThickness  Insulin   BMI  \\\n",
       "0            6      148             72             35        0  33.6   \n",
       "1            1       85             66             29        0  26.6   \n",
       "2            8      183             64              0        0  23.3   \n",
       "3            1       89             66             23       94  28.1   \n",
       "4            0      137             40             35      168  43.1   \n",
       "\n",
       "   DiabetesPedigreeFunction  Age  Outcome  \n",
       "0                     0.627   50        1  \n",
       "1                     0.351   31        0  \n",
       "2                     0.672   32        1  \n",
       "3                     0.167   21        0  \n",
       "4                     2.288   33        1  "
      ]
     },
     "execution_count": 12,
     "metadata": {},
     "output_type": "execute_result"
    }
   ],
   "source": [
    "import pandas as pd\n",
    "import numpy as np\n",
    "\n",
    "dataset = pd.read_csv(\"https://raw.githubusercontent.com/npradaschnor/Pima-Indians-Diabetes-Dataset/master/diabetes.csv\")\n",
    "dataset.head()"
   ]
  },
  {
   "cell_type": "code",
   "execution_count": 13,
   "metadata": {},
   "outputs": [
    {
     "name": "stdout",
     "output_type": "stream",
     "text": [
      "0.3554324800298612\n",
      "0.3515433684651984\n",
      "0.3518977951250044\n",
      "0.3514219146925864\n",
      "0.35110083488707833\n",
      "0.35191140756194994\n",
      "0.35117636783496275\n",
      "0.3519679104628781\n",
      "0.35116585690452023\n",
      "0.3518435760327881\n",
      "0.35108438458320623\n",
      "0.3517329493478301\n",
      "0.3509724304452667\n",
      "0.35161981183263746\n",
      "0.35084070706373566\n",
      "0.3514647992136542\n",
      "0.35067886562556466\n",
      "0.3512432753612532\n",
      "0.3504437520984275\n",
      "0.3510797882809258\n"
     ]
    }
   ],
   "source": [
    "X = dataset.drop(['Outcome'], axis=1).values\n",
    "\n",
    "y = dataset['Outcome'].values\n",
    "\n",
    "y = y.reshape(y.shape[0],1)\n",
    "\n",
    "def define_parameters(n_weights):\n",
    "    w = np.random.randn( n_weights, 1)\n",
    "    b = np.random.randn()\n",
    "    \n",
    "    return w, b\n",
    "\n",
    "def sigmoid(x):\n",
    "    return 1/(1+np.exp(-x))\n",
    "\n",
    "def sigmoid_der(x):\n",
    "    return sigmoid(x)*(1-sigmoid(x))\n",
    "\n",
    "def predictions(w, b, X):\n",
    "    XW = np.dot(X,w) + b\n",
    "    z = sigmoid(XW)\n",
    "    return z\n",
    "\n",
    "def find_cost(z,y):\n",
    "    m = y.shape[0]\n",
    "    total_cost = (1/m) * np.sum(np.square(z - y))\n",
    "    return total_cost\n",
    "\n",
    "def find_derivatives(X,y,z):\n",
    "    m = y.shape[0]\n",
    "    dcost_dpred = (1/m)*(z-y)\n",
    "    dpred_dz = sigmoid_der(z)\n",
    "    z_delta = dcost_dpred * dpred_dz\n",
    "    dz_dw = X.T\n",
    "    dw = np.dot( dz_dw , z_delta)\n",
    "    db = np.sum(z_delta)\n",
    "    \n",
    "    return dw, db\n",
    "\n",
    "\n",
    "def update_weights(w,b,dw,db,lr):\n",
    "    w = w - lr * dw\n",
    "    b = b - lr * db\n",
    "    \n",
    "    return w, b\n",
    "\n",
    "def multi_linear_regression(X, y, lr, epochs):\n",
    "    error_list = []\n",
    "    lenw = X.shape[1]\n",
    "    w,b = define_parameters(lenw)\n",
    "    for i in range(epochs):\n",
    "        z = predictions(w, b, X)\n",
    "        cost = find_cost(z, y)\n",
    "        error_list.append(cost)\n",
    "        dw, db = find_derivatives (X,y,z)\n",
    "        w, b = update_weights(w, b, dw, db,  lr )\n",
    "        if i % 50 == 0 :\n",
    "            print(cost)\n",
    "\n",
    "            \n",
    "    return w, b, error_list\n",
    "\n",
    "\n",
    "lr = 0.05\n",
    "epochs = 1000\n",
    "w, b, error_list = multi_linear_regression(X,y,lr,epochs)\n"
   ]
  },
  {
   "cell_type": "code",
   "execution_count": 14,
   "metadata": {},
   "outputs": [
    {
     "name": "stdout",
     "output_type": "stream",
     "text": [
      "Accuracy: 34.89583333333333\n"
     ]
    }
   ],
   "source": [
    "z = predictions(w, b, X)\n",
    "\n",
    "y_pred = []\n",
    "for i in z:\n",
    "    if i > 5.0:\n",
    "        y_pred.append(1)\n",
    "    else:\n",
    "        y_pred.append(0)\n",
    "    \n",
    "y_true = sum(y.tolist() , [])   \n",
    "\n",
    "correct = 0\n",
    "for i in y_true :\n",
    "    if y[i] == y_pred[i]:\n",
    "        correct = correct + 1\n",
    "\n",
    "print(\"Accuracy: \" + str(correct/len(y_true) * 100))"
   ]
  },
  {
   "cell_type": "code",
   "execution_count": null,
   "metadata": {},
   "outputs": [],
   "source": []
  }
 ],
 "metadata": {
  "kernelspec": {
   "display_name": "Python 3",
   "language": "python",
   "name": "python3"
  },
  "language_info": {
   "codemirror_mode": {
    "name": "ipython",
    "version": 3
   },
   "file_extension": ".py",
   "mimetype": "text/x-python",
   "name": "python",
   "nbconvert_exporter": "python",
   "pygments_lexer": "ipython3",
   "version": "3.8.5"
  }
 },
 "nbformat": 4,
 "nbformat_minor": 2
}
