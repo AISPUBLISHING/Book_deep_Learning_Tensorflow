{
  "nbformat": 4,
  "nbformat_minor": 0,
  "metadata": {
    "colab": {
      "name": "Chapter 4 - Introduction to TensorFlow 2.0ipynb",
      "provenance": [],
      "collapsed_sections": []
    },
    "kernelspec": {
      "name": "python3",
      "display_name": "Python 3"
    },
    "accelerator": "GPU"
  },
  "cells": [
    {
      "cell_type": "markdown",
      "metadata": {
        "id": "lnLD23CSv-D_",
        "colab_type": "text"
      },
      "source": [
        "#Chapter 4 - Introduction to TensorFlow 2.0"
      ]
    },
    {
      "cell_type": "markdown",
      "metadata": {
        "id": "MY7AWYujzLgj",
        "colab_type": "text"
      },
      "source": [
        "### 4.2 Neural Network in TensorFlow for Classification - Single Output"
      ]
    },
    {
      "cell_type": "markdown",
      "metadata": {
        "id": "CNrJE7cizmt1",
        "colab_type": "text"
      },
      "source": [
        "#### Importing Required Libraries"
      ]
    },
    {
      "cell_type": "code",
      "metadata": {
        "id": "NaZyNoyl0Uu1",
        "colab_type": "code",
        "colab": {
          "base_uri": "https://localhost:8080/",
          "height": 612
        },
        "outputId": "36c4b6c9-eeeb-4bb9-f8da-b250d6b3dacf"
      },
      "source": [
        "pip install --upgrade tensorflow"
      ],
      "execution_count": 1,
      "outputs": [
        {
          "output_type": "stream",
          "text": [
            "Requirement already up-to-date: tensorflow in /usr/local/lib/python3.6/dist-packages (2.1.0)\n",
            "Requirement already satisfied, skipping upgrade: tensorboard<2.2.0,>=2.1.0 in /usr/local/lib/python3.6/dist-packages (from tensorflow) (2.1.1)\n",
            "Requirement already satisfied, skipping upgrade: scipy==1.4.1; python_version >= \"3\" in /usr/local/lib/python3.6/dist-packages (from tensorflow) (1.4.1)\n",
            "Requirement already satisfied, skipping upgrade: tensorflow-estimator<2.2.0,>=2.1.0rc0 in /usr/local/lib/python3.6/dist-packages (from tensorflow) (2.1.0)\n",
            "Requirement already satisfied, skipping upgrade: keras-applications>=1.0.8 in /usr/local/lib/python3.6/dist-packages (from tensorflow) (1.0.8)\n",
            "Requirement already satisfied, skipping upgrade: absl-py>=0.7.0 in /usr/local/lib/python3.6/dist-packages (from tensorflow) (0.9.0)\n",
            "Requirement already satisfied, skipping upgrade: gast==0.2.2 in /usr/local/lib/python3.6/dist-packages (from tensorflow) (0.2.2)\n",
            "Requirement already satisfied, skipping upgrade: keras-preprocessing>=1.1.0 in /usr/local/lib/python3.6/dist-packages (from tensorflow) (1.1.0)\n",
            "Requirement already satisfied, skipping upgrade: google-pasta>=0.1.6 in /usr/local/lib/python3.6/dist-packages (from tensorflow) (0.2.0)\n",
            "Requirement already satisfied, skipping upgrade: astor>=0.6.0 in /usr/local/lib/python3.6/dist-packages (from tensorflow) (0.8.1)\n",
            "Requirement already satisfied, skipping upgrade: six>=1.12.0 in /usr/local/lib/python3.6/dist-packages (from tensorflow) (1.12.0)\n",
            "Requirement already satisfied, skipping upgrade: wheel>=0.26; python_version >= \"3\" in /usr/local/lib/python3.6/dist-packages (from tensorflow) (0.34.2)\n",
            "Requirement already satisfied, skipping upgrade: wrapt>=1.11.1 in /usr/local/lib/python3.6/dist-packages (from tensorflow) (1.12.1)\n",
            "Requirement already satisfied, skipping upgrade: grpcio>=1.8.6 in /usr/local/lib/python3.6/dist-packages (from tensorflow) (1.24.3)\n",
            "Requirement already satisfied, skipping upgrade: opt-einsum>=2.3.2 in /usr/local/lib/python3.6/dist-packages (from tensorflow) (3.2.0)\n",
            "Requirement already satisfied, skipping upgrade: protobuf>=3.8.0 in /usr/local/lib/python3.6/dist-packages (from tensorflow) (3.10.0)\n",
            "Requirement already satisfied, skipping upgrade: numpy<2.0,>=1.16.0 in /usr/local/lib/python3.6/dist-packages (from tensorflow) (1.18.2)\n",
            "Requirement already satisfied, skipping upgrade: termcolor>=1.1.0 in /usr/local/lib/python3.6/dist-packages (from tensorflow) (1.1.0)\n",
            "Requirement already satisfied, skipping upgrade: requests<3,>=2.21.0 in /usr/local/lib/python3.6/dist-packages (from tensorboard<2.2.0,>=2.1.0->tensorflow) (2.21.0)\n",
            "Requirement already satisfied, skipping upgrade: werkzeug>=0.11.15 in /usr/local/lib/python3.6/dist-packages (from tensorboard<2.2.0,>=2.1.0->tensorflow) (1.0.0)\n",
            "Requirement already satisfied, skipping upgrade: setuptools>=41.0.0 in /usr/local/lib/python3.6/dist-packages (from tensorboard<2.2.0,>=2.1.0->tensorflow) (46.0.0)\n",
            "Requirement already satisfied, skipping upgrade: markdown>=2.6.8 in /usr/local/lib/python3.6/dist-packages (from tensorboard<2.2.0,>=2.1.0->tensorflow) (3.2.1)\n",
            "Requirement already satisfied, skipping upgrade: google-auth<2,>=1.6.3 in /usr/local/lib/python3.6/dist-packages (from tensorboard<2.2.0,>=2.1.0->tensorflow) (1.7.2)\n",
            "Requirement already satisfied, skipping upgrade: google-auth-oauthlib<0.5,>=0.4.1 in /usr/local/lib/python3.6/dist-packages (from tensorboard<2.2.0,>=2.1.0->tensorflow) (0.4.1)\n",
            "Requirement already satisfied, skipping upgrade: h5py in /usr/local/lib/python3.6/dist-packages (from keras-applications>=1.0.8->tensorflow) (2.8.0)\n",
            "Requirement already satisfied, skipping upgrade: chardet<3.1.0,>=3.0.2 in /usr/local/lib/python3.6/dist-packages (from requests<3,>=2.21.0->tensorboard<2.2.0,>=2.1.0->tensorflow) (3.0.4)\n",
            "Requirement already satisfied, skipping upgrade: certifi>=2017.4.17 in /usr/local/lib/python3.6/dist-packages (from requests<3,>=2.21.0->tensorboard<2.2.0,>=2.1.0->tensorflow) (2019.11.28)\n",
            "Requirement already satisfied, skipping upgrade: idna<2.9,>=2.5 in /usr/local/lib/python3.6/dist-packages (from requests<3,>=2.21.0->tensorboard<2.2.0,>=2.1.0->tensorflow) (2.8)\n",
            "Requirement already satisfied, skipping upgrade: urllib3<1.25,>=1.21.1 in /usr/local/lib/python3.6/dist-packages (from requests<3,>=2.21.0->tensorboard<2.2.0,>=2.1.0->tensorflow) (1.24.3)\n",
            "Requirement already satisfied, skipping upgrade: pyasn1-modules>=0.2.1 in /usr/local/lib/python3.6/dist-packages (from google-auth<2,>=1.6.3->tensorboard<2.2.0,>=2.1.0->tensorflow) (0.2.8)\n",
            "Requirement already satisfied, skipping upgrade: rsa<4.1,>=3.1.4 in /usr/local/lib/python3.6/dist-packages (from google-auth<2,>=1.6.3->tensorboard<2.2.0,>=2.1.0->tensorflow) (4.0)\n",
            "Requirement already satisfied, skipping upgrade: cachetools<3.2,>=2.0.0 in /usr/local/lib/python3.6/dist-packages (from google-auth<2,>=1.6.3->tensorboard<2.2.0,>=2.1.0->tensorflow) (3.1.1)\n",
            "Requirement already satisfied, skipping upgrade: requests-oauthlib>=0.7.0 in /usr/local/lib/python3.6/dist-packages (from google-auth-oauthlib<0.5,>=0.4.1->tensorboard<2.2.0,>=2.1.0->tensorflow) (1.3.0)\n",
            "Requirement already satisfied, skipping upgrade: pyasn1<0.5.0,>=0.4.6 in /usr/local/lib/python3.6/dist-packages (from pyasn1-modules>=0.2.1->google-auth<2,>=1.6.3->tensorboard<2.2.0,>=2.1.0->tensorflow) (0.4.8)\n",
            "Requirement already satisfied, skipping upgrade: oauthlib>=3.0.0 in /usr/local/lib/python3.6/dist-packages (from requests-oauthlib>=0.7.0->google-auth-oauthlib<0.5,>=0.4.1->tensorboard<2.2.0,>=2.1.0->tensorflow) (3.1.0)\n"
          ],
          "name": "stdout"
        }
      ]
    },
    {
      "cell_type": "code",
      "metadata": {
        "id": "Bz-enUl10VRe",
        "colab_type": "code",
        "colab": {
          "base_uri": "https://localhost:8080/",
          "height": 34
        },
        "outputId": "a896df7b-9c0f-4d06-eaba-82b6730aa08d"
      },
      "source": [
        "import tensorflow as tf\n",
        "print(tf.__version__)"
      ],
      "execution_count": 2,
      "outputs": [
        {
          "output_type": "stream",
          "text": [
            "2.1.0\n"
          ],
          "name": "stdout"
        }
      ]
    },
    {
      "cell_type": "code",
      "metadata": {
        "id": "1E665jv004r0",
        "colab_type": "code",
        "colab": {}
      },
      "source": [
        "import seaborn as sns\n",
        "import pandas as pd\n",
        "import numpy as np\n",
        "\n",
        "from tensorflow.keras.layers import Dense, Dropout, Activation\n",
        "from tensorflow.keras.models import Model, Sequential\n",
        "from tensorflow.keras.optimizers import Adam"
      ],
      "execution_count": 0,
      "outputs": []
    },
    {
      "cell_type": "code",
      "metadata": {
        "id": "fUC9jXJm149T",
        "colab_type": "code",
        "colab": {}
      },
      "source": [
        "banknote_data = pd.read_csv(\"https://raw.githubusercontent.com/AbhiRoy96/Banknote-Authentication-UCI-Dataset/master/bank_notes.csv\")"
      ],
      "execution_count": 0,
      "outputs": []
    },
    {
      "cell_type": "code",
      "metadata": {
        "id": "H0ljeOdK2JR2",
        "colab_type": "code",
        "colab": {
          "base_uri": "https://localhost:8080/",
          "height": 204
        },
        "outputId": "2d53fb61-5bef-4748-9bb1-aeba15af9318"
      },
      "source": [
        "banknote_data.head()"
      ],
      "execution_count": 5,
      "outputs": [
        {
          "output_type": "execute_result",
          "data": {
            "text/html": [
              "<div>\n",
              "<style scoped>\n",
              "    .dataframe tbody tr th:only-of-type {\n",
              "        vertical-align: middle;\n",
              "    }\n",
              "\n",
              "    .dataframe tbody tr th {\n",
              "        vertical-align: top;\n",
              "    }\n",
              "\n",
              "    .dataframe thead th {\n",
              "        text-align: right;\n",
              "    }\n",
              "</style>\n",
              "<table border=\"1\" class=\"dataframe\">\n",
              "  <thead>\n",
              "    <tr style=\"text-align: right;\">\n",
              "      <th></th>\n",
              "      <th>variance</th>\n",
              "      <th>skewness</th>\n",
              "      <th>curtosis</th>\n",
              "      <th>entropy</th>\n",
              "      <th>Target</th>\n",
              "    </tr>\n",
              "  </thead>\n",
              "  <tbody>\n",
              "    <tr>\n",
              "      <th>0</th>\n",
              "      <td>3.62160</td>\n",
              "      <td>8.6661</td>\n",
              "      <td>-2.8073</td>\n",
              "      <td>-0.44699</td>\n",
              "      <td>0</td>\n",
              "    </tr>\n",
              "    <tr>\n",
              "      <th>1</th>\n",
              "      <td>4.54590</td>\n",
              "      <td>8.1674</td>\n",
              "      <td>-2.4586</td>\n",
              "      <td>-1.46210</td>\n",
              "      <td>0</td>\n",
              "    </tr>\n",
              "    <tr>\n",
              "      <th>2</th>\n",
              "      <td>3.86600</td>\n",
              "      <td>-2.6383</td>\n",
              "      <td>1.9242</td>\n",
              "      <td>0.10645</td>\n",
              "      <td>0</td>\n",
              "    </tr>\n",
              "    <tr>\n",
              "      <th>3</th>\n",
              "      <td>3.45660</td>\n",
              "      <td>9.5228</td>\n",
              "      <td>-4.0112</td>\n",
              "      <td>-3.59440</td>\n",
              "      <td>0</td>\n",
              "    </tr>\n",
              "    <tr>\n",
              "      <th>4</th>\n",
              "      <td>0.32924</td>\n",
              "      <td>-4.4552</td>\n",
              "      <td>4.5718</td>\n",
              "      <td>-0.98880</td>\n",
              "      <td>0</td>\n",
              "    </tr>\n",
              "  </tbody>\n",
              "</table>\n",
              "</div>"
            ],
            "text/plain": [
              "   variance  skewness  curtosis  entropy  Target\n",
              "0   3.62160    8.6661   -2.8073 -0.44699       0\n",
              "1   4.54590    8.1674   -2.4586 -1.46210       0\n",
              "2   3.86600   -2.6383    1.9242  0.10645       0\n",
              "3   3.45660    9.5228   -4.0112 -3.59440       0\n",
              "4   0.32924   -4.4552    4.5718 -0.98880       0"
            ]
          },
          "metadata": {
            "tags": []
          },
          "execution_count": 5
        }
      ]
    },
    {
      "cell_type": "code",
      "metadata": {
        "id": "CxGvJN-K3WRw",
        "colab_type": "code",
        "colab": {
          "base_uri": "https://localhost:8080/",
          "height": 34
        },
        "outputId": "bdb5e703-612d-44c2-c36e-336a16b8bb28"
      },
      "source": [
        "banknote_data.shape"
      ],
      "execution_count": 6,
      "outputs": [
        {
          "output_type": "execute_result",
          "data": {
            "text/plain": [
              "(1372, 5)"
            ]
          },
          "metadata": {
            "tags": []
          },
          "execution_count": 6
        }
      ]
    },
    {
      "cell_type": "code",
      "metadata": {
        "id": "13cY06qf2K5R",
        "colab_type": "code",
        "colab": {
          "base_uri": "https://localhost:8080/",
          "height": 300
        },
        "outputId": "a58b7773-65b6-4c6b-ffd6-fefd11a7ec82"
      },
      "source": [
        "sns.countplot(x='Target', data=banknote_data)"
      ],
      "execution_count": 7,
      "outputs": [
        {
          "output_type": "execute_result",
          "data": {
            "text/plain": [
              "<matplotlib.axes._subplots.AxesSubplot at 0x7fd395f02320>"
            ]
          },
          "metadata": {
            "tags": []
          },
          "execution_count": 7
        },
        {
          "output_type": "display_data",
          "data": {
            "image/png": "[encoded data removed]",
            "text/plain": [
              "<Figure size 432x288 with 1 Axes>"
            ]
          },
          "metadata": {
            "tags": []
          }
        }
      ]
    },
    {
      "cell_type": "code",
      "metadata": {
        "id": "4m2akCzF3O27",
        "colab_type": "code",
        "colab": {
          "base_uri": "https://localhost:8080/",
          "height": 51
        },
        "outputId": "f20808a1-7094-4ef1-9054-3f8fbb0a481c"
      },
      "source": [
        "X = banknote_data.drop(['Target'], axis=1).values\n",
        "y = banknote_data[['Target']].values\n",
        "\n",
        "print(X.shape)\n",
        "print(y.shape)"
      ],
      "execution_count": 8,
      "outputs": [
        {
          "output_type": "stream",
          "text": [
            "(1372, 4)\n",
            "(1372, 1)\n"
          ],
          "name": "stdout"
        }
      ]
    },
    {
      "cell_type": "code",
      "metadata": {
        "id": "iWGLXhAp3uWK",
        "colab_type": "code",
        "colab": {}
      },
      "source": [
        "from sklearn.model_selection import train_test_split\n",
        "X_train, X_test, y_train, y_test = train_test_split(X, y, test_size=0.20, random_state=42)"
      ],
      "execution_count": 0,
      "outputs": []
    },
    {
      "cell_type": "code",
      "metadata": {
        "id": "gcvfrAki4Mco",
        "colab_type": "code",
        "colab": {}
      },
      "source": [
        "from sklearn.preprocessing import StandardScaler\n",
        "sc = StandardScaler()\n",
        "X_train = sc.fit_transform(X_train)\n",
        "X_test = sc.transform(X_test)"
      ],
      "execution_count": 0,
      "outputs": []
    },
    {
      "cell_type": "code",
      "metadata": {
        "id": "j0A27E414OeS",
        "colab_type": "code",
        "colab": {}
      },
      "source": [
        "def create_model(learning_rate, dropout_rate):\n",
        "\n",
        "    model = Sequential()\n",
        "    model.add(Dense(12, input_dim=X_train.shape[1],  activation='relu'))\n",
        "    model.add(Dropout(dropout_rate))\n",
        "    model.add(Dense(6,  activation='relu'))\n",
        "    model.add(Dropout(dropout_rate))\n",
        "    model.add(Dense(1, activation='sigmoid'))\n",
        "\n",
        "    adam = Adam(lr=learning_rate)\n",
        "    model.compile(loss='binary_crossentropy', optimizer=adam, metrics=['accuracy'])\n",
        "    return model"
      ],
      "execution_count": 0,
      "outputs": []
    },
    {
      "cell_type": "code",
      "metadata": {
        "id": "kK6metzC6bjn",
        "colab_type": "code",
        "colab": {}
      },
      "source": [
        "dropout_rate = 0.1\n",
        "epochs = 20\n",
        "batch_size = 4\n",
        "learn_rate = 0.001"
      ],
      "execution_count": 0,
      "outputs": []
    },
    {
      "cell_type": "code",
      "metadata": {
        "id": "cexqZUMH4_pt",
        "colab_type": "code",
        "colab": {}
      },
      "source": [
        "model = create_model(learn_rate, dropout_rate)"
      ],
      "execution_count": 0,
      "outputs": []
    },
    {
      "cell_type": "code",
      "metadata": {
        "id": "85BmLBSn6N-c",
        "colab_type": "code",
        "colab": {
          "base_uri": "https://localhost:8080/",
          "height": 644
        },
        "outputId": "ca0005e3-ca91-42ee-f5ed-272c23ff2704"
      },
      "source": [
        "from tensorflow.keras.utils import plot_model\n",
        "plot_model(model, to_file='model_plot1.png', show_shapes=True, show_layer_names=True)"
      ],
      "execution_count": 14,
      "outputs": [
        {
          "output_type": "execute_result",
          "data": {
            "image/png": "[encoded data removed]",
            "text/plain": [
              "<IPython.core.display.Image object>"
            ]
          },
          "metadata": {
            "tags": []
          },
          "execution_count": 14
        }
      ]
    },
    {
      "cell_type": "code",
      "metadata": {
        "id": "hsxFTR8D6PMn",
        "colab_type": "code",
        "colab": {
          "base_uri": "https://localhost:8080/",
          "height": 714
        },
        "outputId": "455df492-3f16-4d98-fbe4-b89d47cb2dc9"
      },
      "source": [
        "model_history = model.fit(X_train, y_train, batch_size=batch_size, epochs=epochs, validation_split=0.2, verbose=1)"
      ],
      "execution_count": 15,
      "outputs": [
        {
          "output_type": "stream",
          "text": [
            "Train on 877 samples, validate on 220 samples\n",
            "Epoch 1/20\n",
            "877/877 [==============================] - 2s 2ms/sample - loss: 0.5551 - accuracy: 0.7263 - val_loss: 0.4209 - val_accuracy: 0.8955\n",
            "Epoch 2/20\n",
            "877/877 [==============================] - 1s 1ms/sample - loss: 0.3482 - accuracy: 0.8997 - val_loss: 0.2274 - val_accuracy: 0.9591\n",
            "Epoch 3/20\n",
            "877/877 [==============================] - 1s 1ms/sample - loss: 0.2157 - accuracy: 0.9384 - val_loss: 0.1165 - val_accuracy: 0.9773\n",
            "Epoch 4/20\n",
            "877/877 [==============================] - 1s 1ms/sample - loss: 0.1440 - accuracy: 0.9487 - val_loss: 0.0664 - val_accuracy: 0.9864\n",
            "Epoch 5/20\n",
            "877/877 [==============================] - 1s 1ms/sample - loss: 0.0912 - accuracy: 0.9681 - val_loss: 0.0418 - val_accuracy: 0.9955\n",
            "Epoch 6/20\n",
            "877/877 [==============================] - 1s 1ms/sample - loss: 0.0733 - accuracy: 0.9738 - val_loss: 0.0313 - val_accuracy: 0.9955\n",
            "Epoch 7/20\n",
            "877/877 [==============================] - 1s 1ms/sample - loss: 0.0660 - accuracy: 0.9783 - val_loss: 0.0233 - val_accuracy: 0.9955\n",
            "Epoch 8/20\n",
            "877/877 [==============================] - 1s 1ms/sample - loss: 0.0544 - accuracy: 0.9840 - val_loss: 0.0176 - val_accuracy: 0.9955\n",
            "Epoch 9/20\n",
            "877/877 [==============================] - 1s 1ms/sample - loss: 0.0398 - accuracy: 0.9920 - val_loss: 0.0150 - val_accuracy: 0.9955\n",
            "Epoch 10/20\n",
            "877/877 [==============================] - 1s 1ms/sample - loss: 0.0392 - accuracy: 0.9886 - val_loss: 0.0124 - val_accuracy: 0.9955\n",
            "Epoch 11/20\n",
            "877/877 [==============================] - 1s 1ms/sample - loss: 0.0378 - accuracy: 0.9920 - val_loss: 0.0119 - val_accuracy: 0.9955\n",
            "Epoch 12/20\n",
            "877/877 [==============================] - 1s 1ms/sample - loss: 0.0279 - accuracy: 0.9954 - val_loss: 0.0089 - val_accuracy: 0.9955\n",
            "Epoch 13/20\n",
            "877/877 [==============================] - 1s 1ms/sample - loss: 0.0295 - accuracy: 0.9932 - val_loss: 0.0073 - val_accuracy: 1.0000\n",
            "Epoch 14/20\n",
            "877/877 [==============================] - 1s 1ms/sample - loss: 0.0341 - accuracy: 0.9886 - val_loss: 0.0077 - val_accuracy: 0.9955\n",
            "Epoch 15/20\n",
            "877/877 [==============================] - 1s 1ms/sample - loss: 0.0230 - accuracy: 0.9943 - val_loss: 0.0067 - val_accuracy: 1.0000\n",
            "Epoch 16/20\n",
            "877/877 [==============================] - 1s 1ms/sample - loss: 0.0209 - accuracy: 0.9954 - val_loss: 0.0051 - val_accuracy: 1.0000\n",
            "Epoch 17/20\n",
            "877/877 [==============================] - 1s 1ms/sample - loss: 0.0204 - accuracy: 0.9977 - val_loss: 0.0040 - val_accuracy: 1.0000\n",
            "Epoch 18/20\n",
            "877/877 [==============================] - 1s 1ms/sample - loss: 0.0136 - accuracy: 0.9977 - val_loss: 0.0040 - val_accuracy: 1.0000\n",
            "Epoch 19/20\n",
            "877/877 [==============================] - 1s 1ms/sample - loss: 0.0234 - accuracy: 0.9954 - val_loss: 0.0047 - val_accuracy: 1.0000\n",
            "Epoch 20/20\n",
            "877/877 [==============================] - 1s 1ms/sample - loss: 0.0176 - accuracy: 0.9943 - val_loss: 0.0030 - val_accuracy: 1.0000\n"
          ],
          "name": "stdout"
        }
      ]
    },
    {
      "cell_type": "code",
      "metadata": {
        "id": "JwTYVbf08l3Q",
        "colab_type": "code",
        "colab": {
          "base_uri": "https://localhost:8080/",
          "height": 68
        },
        "outputId": "0b52b48a-b33c-434f-b6b6-dde16b5ff0e5"
      },
      "source": [
        "accuracies = model.evaluate(X_test, y_test, verbose=1)\n",
        "\n",
        "print(\"Test Score:\", accuracies[0])\n",
        "print(\"Test Accuracy:\", accuracies[1])"
      ],
      "execution_count": 16,
      "outputs": [
        {
          "output_type": "stream",
          "text": [
            "275/275 [==============================] - 0s 374us/sample - loss: 0.0040 - accuracy: 1.0000\n",
            "Test Score: 0.00397354013286531\n",
            "Test Accuracy: 1.0\n"
          ],
          "name": "stdout"
        }
      ]
    },
    {
      "cell_type": "code",
      "metadata": {
        "id": "ZGEb6abt_vtw",
        "colab_type": "code",
        "colab": {
          "base_uri": "https://localhost:8080/",
          "height": 34
        },
        "outputId": "1d94c18d-6919-4ccc-e521-cc9c64d131cd"
      },
      "source": [
        "history_dict = model_history.history\n",
        "print(history_dict.keys())"
      ],
      "execution_count": 17,
      "outputs": [
        {
          "output_type": "stream",
          "text": [
            "dict_keys(['loss', 'accuracy', 'val_loss', 'val_accuracy'])\n"
          ],
          "name": "stdout"
        }
      ]
    },
    {
      "cell_type": "code",
      "metadata": {
        "id": "UxYmjCGn87f5",
        "colab_type": "code",
        "colab": {
          "base_uri": "https://localhost:8080/",
          "height": 282
        },
        "outputId": "052dee7b-ae29-4619-bd2f-9948b32b1edb"
      },
      "source": [
        "import matplotlib.pyplot as plt\n",
        "\n",
        "plt.plot(model_history.history['accuracy'], label = 'accuracy')\n",
        "plt.plot(model_history.history['val_accuracy'], label = 'val_accuracy')\n",
        "plt.legend(['train','test'], loc='lower left')\n"
      ],
      "execution_count": 18,
      "outputs": [
        {
          "output_type": "execute_result",
          "data": {
            "text/plain": [
              "<matplotlib.legend.Legend at 0x7fd36e74dc88>"
            ]
          },
          "metadata": {
            "tags": []
          },
          "execution_count": 18
        },
        {
          "output_type": "display_data",
          "data": {
            "image/png": "[encoded data removed]",
            "text/plain": [
              "<Figure size 432x288 with 1 Axes>"
            ]
          },
          "metadata": {
            "tags": []
          }
        }
      ]
    },
    {
      "cell_type": "code",
      "metadata": {
        "id": "xVHWv4aKOa0P",
        "colab_type": "code",
        "colab": {
          "base_uri": "https://localhost:8080/",
          "height": 282
        },
        "outputId": "825384e7-9ccf-47e2-b041-08a926f9e77b"
      },
      "source": [
        "\n",
        "plt.plot(model_history.history['loss'], label = 'loss')\n",
        "plt.plot(model_history.history['val_loss'], label = 'val_loss')\n",
        "plt.legend(['train','test'], loc='upper left')"
      ],
      "execution_count": 19,
      "outputs": [
        {
          "output_type": "execute_result",
          "data": {
            "text/plain": [
              "<matplotlib.legend.Legend at 0x7fd36e706a20>"
            ]
          },
          "metadata": {
            "tags": []
          },
          "execution_count": 19
        },
        {
          "output_type": "display_data",
          "data": {
            "image/png": "[encoded data removed]",
            "text/plain": [
              "<Figure size 432x288 with 1 Axes>"
            ]
          },
          "metadata": {
            "tags": []
          }
        }
      ]
    },
    {
      "cell_type": "markdown",
      "metadata": {
        "id": "QWh0n6gS95Ys",
        "colab_type": "text"
      },
      "source": [
        "### 4.3 Neural Network in TensorFlow for Classification - Muliple Outputs"
      ]
    },
    {
      "cell_type": "code",
      "metadata": {
        "id": "orG-jcA6Bhj0",
        "colab_type": "code",
        "colab": {}
      },
      "source": [
        "import seaborn as sns\n",
        "import pandas as pd\n",
        "import numpy as np\n",
        "\n",
        "from tensorflow.keras.layers import Dense, Dropout, Activation\n",
        "from tensorflow.keras.models import Model, Sequential\n",
        "from tensorflow.keras.optimizers import Adam"
      ],
      "execution_count": 0,
      "outputs": []
    },
    {
      "cell_type": "code",
      "metadata": {
        "id": "ViuKC4KcKogY",
        "colab_type": "code",
        "colab": {
          "base_uri": "https://localhost:8080/",
          "height": 204
        },
        "outputId": "998c7b2c-3845-467d-c705-d430875c3490"
      },
      "source": [
        "iris_data = sns.load_dataset('iris')\n",
        "iris_data.head()"
      ],
      "execution_count": 21,
      "outputs": [
        {
          "output_type": "execute_result",
          "data": {
            "text/html": [
              "<div>\n",
              "<style scoped>\n",
              "    .dataframe tbody tr th:only-of-type {\n",
              "        vertical-align: middle;\n",
              "    }\n",
              "\n",
              "    .dataframe tbody tr th {\n",
              "        vertical-align: top;\n",
              "    }\n",
              "\n",
              "    .dataframe thead th {\n",
              "        text-align: right;\n",
              "    }\n",
              "</style>\n",
              "<table border=\"1\" class=\"dataframe\">\n",
              "  <thead>\n",
              "    <tr style=\"text-align: right;\">\n",
              "      <th></th>\n",
              "      <th>sepal_length</th>\n",
              "      <th>sepal_width</th>\n",
              "      <th>petal_length</th>\n",
              "      <th>petal_width</th>\n",
              "      <th>species</th>\n",
              "    </tr>\n",
              "  </thead>\n",
              "  <tbody>\n",
              "    <tr>\n",
              "      <th>0</th>\n",
              "      <td>5.1</td>\n",
              "      <td>3.5</td>\n",
              "      <td>1.4</td>\n",
              "      <td>0.2</td>\n",
              "      <td>setosa</td>\n",
              "    </tr>\n",
              "    <tr>\n",
              "      <th>1</th>\n",
              "      <td>4.9</td>\n",
              "      <td>3.0</td>\n",
              "      <td>1.4</td>\n",
              "      <td>0.2</td>\n",
              "      <td>setosa</td>\n",
              "    </tr>\n",
              "    <tr>\n",
              "      <th>2</th>\n",
              "      <td>4.7</td>\n",
              "      <td>3.2</td>\n",
              "      <td>1.3</td>\n",
              "      <td>0.2</td>\n",
              "      <td>setosa</td>\n",
              "    </tr>\n",
              "    <tr>\n",
              "      <th>3</th>\n",
              "      <td>4.6</td>\n",
              "      <td>3.1</td>\n",
              "      <td>1.5</td>\n",
              "      <td>0.2</td>\n",
              "      <td>setosa</td>\n",
              "    </tr>\n",
              "    <tr>\n",
              "      <th>4</th>\n",
              "      <td>5.0</td>\n",
              "      <td>3.6</td>\n",
              "      <td>1.4</td>\n",
              "      <td>0.2</td>\n",
              "      <td>setosa</td>\n",
              "    </tr>\n",
              "  </tbody>\n",
              "</table>\n",
              "</div>"
            ],
            "text/plain": [
              "   sepal_length  sepal_width  petal_length  petal_width species\n",
              "0           5.1          3.5           1.4          0.2  setosa\n",
              "1           4.9          3.0           1.4          0.2  setosa\n",
              "2           4.7          3.2           1.3          0.2  setosa\n",
              "3           4.6          3.1           1.5          0.2  setosa\n",
              "4           5.0          3.6           1.4          0.2  setosa"
            ]
          },
          "metadata": {
            "tags": []
          },
          "execution_count": 21
        }
      ]
    },
    {
      "cell_type": "code",
      "metadata": {
        "id": "pcsglFh9K5QS",
        "colab_type": "code",
        "colab": {
          "base_uri": "https://localhost:8080/",
          "height": 204
        },
        "outputId": "89749223-b6c1-4dd7-d513-0094277606f4"
      },
      "source": [
        "X = iris_data.drop(['species'], axis=1)\n",
        "y = pd.get_dummies(iris_data.species, prefix='output')\n",
        "X.head()"
      ],
      "execution_count": 22,
      "outputs": [
        {
          "output_type": "execute_result",
          "data": {
            "text/html": [
              "<div>\n",
              "<style scoped>\n",
              "    .dataframe tbody tr th:only-of-type {\n",
              "        vertical-align: middle;\n",
              "    }\n",
              "\n",
              "    .dataframe tbody tr th {\n",
              "        vertical-align: top;\n",
              "    }\n",
              "\n",
              "    .dataframe thead th {\n",
              "        text-align: right;\n",
              "    }\n",
              "</style>\n",
              "<table border=\"1\" class=\"dataframe\">\n",
              "  <thead>\n",
              "    <tr style=\"text-align: right;\">\n",
              "      <th></th>\n",
              "      <th>sepal_length</th>\n",
              "      <th>sepal_width</th>\n",
              "      <th>petal_length</th>\n",
              "      <th>petal_width</th>\n",
              "    </tr>\n",
              "  </thead>\n",
              "  <tbody>\n",
              "    <tr>\n",
              "      <th>0</th>\n",
              "      <td>5.1</td>\n",
              "      <td>3.5</td>\n",
              "      <td>1.4</td>\n",
              "      <td>0.2</td>\n",
              "    </tr>\n",
              "    <tr>\n",
              "      <th>1</th>\n",
              "      <td>4.9</td>\n",
              "      <td>3.0</td>\n",
              "      <td>1.4</td>\n",
              "      <td>0.2</td>\n",
              "    </tr>\n",
              "    <tr>\n",
              "      <th>2</th>\n",
              "      <td>4.7</td>\n",
              "      <td>3.2</td>\n",
              "      <td>1.3</td>\n",
              "      <td>0.2</td>\n",
              "    </tr>\n",
              "    <tr>\n",
              "      <th>3</th>\n",
              "      <td>4.6</td>\n",
              "      <td>3.1</td>\n",
              "      <td>1.5</td>\n",
              "      <td>0.2</td>\n",
              "    </tr>\n",
              "    <tr>\n",
              "      <th>4</th>\n",
              "      <td>5.0</td>\n",
              "      <td>3.6</td>\n",
              "      <td>1.4</td>\n",
              "      <td>0.2</td>\n",
              "    </tr>\n",
              "  </tbody>\n",
              "</table>\n",
              "</div>"
            ],
            "text/plain": [
              "   sepal_length  sepal_width  petal_length  petal_width\n",
              "0           5.1          3.5           1.4          0.2\n",
              "1           4.9          3.0           1.4          0.2\n",
              "2           4.7          3.2           1.3          0.2\n",
              "3           4.6          3.1           1.5          0.2\n",
              "4           5.0          3.6           1.4          0.2"
            ]
          },
          "metadata": {
            "tags": []
          },
          "execution_count": 22
        }
      ]
    },
    {
      "cell_type": "code",
      "metadata": {
        "id": "VBz-sL0zLAZ1",
        "colab_type": "code",
        "colab": {
          "base_uri": "https://localhost:8080/",
          "height": 204
        },
        "outputId": "96345b88-c2d2-4691-9f49-e1fc48693064"
      },
      "source": [
        "y.head()"
      ],
      "execution_count": 23,
      "outputs": [
        {
          "output_type": "execute_result",
          "data": {
            "text/html": [
              "<div>\n",
              "<style scoped>\n",
              "    .dataframe tbody tr th:only-of-type {\n",
              "        vertical-align: middle;\n",
              "    }\n",
              "\n",
              "    .dataframe tbody tr th {\n",
              "        vertical-align: top;\n",
              "    }\n",
              "\n",
              "    .dataframe thead th {\n",
              "        text-align: right;\n",
              "    }\n",
              "</style>\n",
              "<table border=\"1\" class=\"dataframe\">\n",
              "  <thead>\n",
              "    <tr style=\"text-align: right;\">\n",
              "      <th></th>\n",
              "      <th>output_setosa</th>\n",
              "      <th>output_versicolor</th>\n",
              "      <th>output_virginica</th>\n",
              "    </tr>\n",
              "  </thead>\n",
              "  <tbody>\n",
              "    <tr>\n",
              "      <th>0</th>\n",
              "      <td>1</td>\n",
              "      <td>0</td>\n",
              "      <td>0</td>\n",
              "    </tr>\n",
              "    <tr>\n",
              "      <th>1</th>\n",
              "      <td>1</td>\n",
              "      <td>0</td>\n",
              "      <td>0</td>\n",
              "    </tr>\n",
              "    <tr>\n",
              "      <th>2</th>\n",
              "      <td>1</td>\n",
              "      <td>0</td>\n",
              "      <td>0</td>\n",
              "    </tr>\n",
              "    <tr>\n",
              "      <th>3</th>\n",
              "      <td>1</td>\n",
              "      <td>0</td>\n",
              "      <td>0</td>\n",
              "    </tr>\n",
              "    <tr>\n",
              "      <th>4</th>\n",
              "      <td>1</td>\n",
              "      <td>0</td>\n",
              "      <td>0</td>\n",
              "    </tr>\n",
              "  </tbody>\n",
              "</table>\n",
              "</div>"
            ],
            "text/plain": [
              "   output_setosa  output_versicolor  output_virginica\n",
              "0              1                  0                 0\n",
              "1              1                  0                 0\n",
              "2              1                  0                 0\n",
              "3              1                  0                 0\n",
              "4              1                  0                 0"
            ]
          },
          "metadata": {
            "tags": []
          },
          "execution_count": 23
        }
      ]
    },
    {
      "cell_type": "code",
      "metadata": {
        "id": "TjCZbXD-LE2c",
        "colab_type": "code",
        "colab": {}
      },
      "source": [
        "X = X.values\n",
        "y = y.values"
      ],
      "execution_count": 0,
      "outputs": []
    },
    {
      "cell_type": "code",
      "metadata": {
        "id": "ZYFvetGxLG9t",
        "colab_type": "code",
        "colab": {}
      },
      "source": [
        "from sklearn.model_selection import train_test_split\n",
        "X_train, X_test, y_train, y_test = train_test_split(X, y, test_size=0.20, random_state=42)"
      ],
      "execution_count": 0,
      "outputs": []
    },
    {
      "cell_type": "code",
      "metadata": {
        "id": "Oq3FmLFwLKDJ",
        "colab_type": "code",
        "colab": {}
      },
      "source": [
        "from sklearn.preprocessing import StandardScaler\n",
        "sc = StandardScaler()\n",
        "X_train = sc.fit_transform(X_train)\n",
        "X_test = sc.transform(X_test)"
      ],
      "execution_count": 0,
      "outputs": []
    },
    {
      "cell_type": "code",
      "metadata": {
        "id": "QwQr9VZuLMiD",
        "colab_type": "code",
        "colab": {}
      },
      "source": [
        "def create_model_multiple_outs(learning_rate, dropout_rate):\n",
        "\n",
        "    model = Sequential()\n",
        "    model.add(Dense(12, input_dim=X_train.shape[1],  activation='relu'))\n",
        "    model.add(Dropout(dropout_rate))\n",
        "    model.add(Dense(6,  activation='relu'))\n",
        "    model.add(Dropout(dropout_rate))\n",
        "    model.add(Dense(y_train.shape[1], activation='softmax'))\n",
        "\n",
        "    adam = Adam(lr=learning_rate)\n",
        "    model.compile(loss='categorical_crossentropy', optimizer=adam, metrics=['accuracy'])\n",
        "    return model"
      ],
      "execution_count": 0,
      "outputs": []
    },
    {
      "cell_type": "code",
      "metadata": {
        "id": "YEVl-N9gLeIB",
        "colab_type": "code",
        "colab": {}
      },
      "source": [
        "dropout_rate = 0.1\n",
        "epochs = 50\n",
        "batch_size = 1\n",
        "learn_rate = 0.001"
      ],
      "execution_count": 0,
      "outputs": []
    },
    {
      "cell_type": "code",
      "metadata": {
        "id": "aHAuCL8RLfB_",
        "colab_type": "code",
        "colab": {
          "base_uri": "https://localhost:8080/",
          "height": 644
        },
        "outputId": "99aee1e7-902f-493d-fe4c-e8065fd28609"
      },
      "source": [
        "model = create_model_multiple_outs(learn_rate, dropout_rate)\n",
        "from tensorflow.keras.utils import plot_model\n",
        "plot_model(model, to_file='model_plot1.png', show_shapes=True, show_layer_names=True)"
      ],
      "execution_count": 29,
      "outputs": [
        {
          "output_type": "execute_result",
          "data": {
            "image/png": "[encoded data removed]",
            "text/plain": [
              "<IPython.core.display.Image object>"
            ]
          },
          "metadata": {
            "tags": []
          },
          "execution_count": 29
        }
      ]
    },
    {
      "cell_type": "code",
      "metadata": {
        "id": "K72VZ1cGLs9Q",
        "colab_type": "code",
        "colab": {
          "base_uri": "https://localhost:8080/",
          "height": 1000
        },
        "outputId": "c3edad44-3762-47ac-b4ce-b5f020708f54"
      },
      "source": [
        "model_history = model.fit(X_train, y_train, batch_size=batch_size, epochs=epochs, validation_split=0.2, verbose=1)"
      ],
      "execution_count": 30,
      "outputs": [
        {
          "output_type": "stream",
          "text": [
            "Train on 96 samples, validate on 24 samples\n",
            "Epoch 1/50\n",
            "96/96 [==============================] - 1s 8ms/sample - loss: 1.3624 - accuracy: 0.1875 - val_loss: 1.1886 - val_accuracy: 0.3333\n",
            "Epoch 2/50\n",
            "96/96 [==============================] - 0s 4ms/sample - loss: 1.0811 - accuracy: 0.4062 - val_loss: 0.9926 - val_accuracy: 0.4583\n",
            "Epoch 3/50\n",
            "96/96 [==============================] - 0s 5ms/sample - loss: 0.8822 - accuracy: 0.5833 - val_loss: 0.8020 - val_accuracy: 0.9167\n",
            "Epoch 4/50\n",
            "96/96 [==============================] - 0s 4ms/sample - loss: 0.6905 - accuracy: 0.6875 - val_loss: 0.6391 - val_accuracy: 0.8750\n",
            "Epoch 5/50\n",
            "96/96 [==============================] - 0s 4ms/sample - loss: 0.6038 - accuracy: 0.6875 - val_loss: 0.5482 - val_accuracy: 0.8333\n",
            "Epoch 6/50\n",
            "96/96 [==============================] - 0s 4ms/sample - loss: 0.5842 - accuracy: 0.7188 - val_loss: 0.4914 - val_accuracy: 0.8750\n",
            "Epoch 7/50\n",
            "96/96 [==============================] - 0s 4ms/sample - loss: 0.4806 - accuracy: 0.7812 - val_loss: 0.4456 - val_accuracy: 0.8750\n",
            "Epoch 8/50\n",
            "96/96 [==============================] - 0s 4ms/sample - loss: 0.4886 - accuracy: 0.7188 - val_loss: 0.4126 - val_accuracy: 0.9167\n",
            "Epoch 9/50\n",
            "96/96 [==============================] - 0s 4ms/sample - loss: 0.4675 - accuracy: 0.7604 - val_loss: 0.3975 - val_accuracy: 0.9167\n",
            "Epoch 10/50\n",
            "96/96 [==============================] - 0s 4ms/sample - loss: 0.3791 - accuracy: 0.8125 - val_loss: 0.3796 - val_accuracy: 0.9167\n",
            "Epoch 11/50\n",
            "96/96 [==============================] - 0s 4ms/sample - loss: 0.3962 - accuracy: 0.8333 - val_loss: 0.3584 - val_accuracy: 0.9167\n",
            "Epoch 12/50\n",
            "96/96 [==============================] - 0s 4ms/sample - loss: 0.3570 - accuracy: 0.8438 - val_loss: 0.3325 - val_accuracy: 0.9167\n",
            "Epoch 13/50\n",
            "96/96 [==============================] - 0s 4ms/sample - loss: 0.3707 - accuracy: 0.8125 - val_loss: 0.3038 - val_accuracy: 0.9167\n",
            "Epoch 14/50\n",
            "96/96 [==============================] - 0s 4ms/sample - loss: 0.3772 - accuracy: 0.8438 - val_loss: 0.2981 - val_accuracy: 0.9167\n",
            "Epoch 15/50\n",
            "96/96 [==============================] - 0s 4ms/sample - loss: 0.3416 - accuracy: 0.8542 - val_loss: 0.2847 - val_accuracy: 0.9167\n",
            "Epoch 16/50\n",
            "96/96 [==============================] - 0s 4ms/sample - loss: 0.3291 - accuracy: 0.8854 - val_loss: 0.2785 - val_accuracy: 0.9167\n",
            "Epoch 17/50\n",
            "96/96 [==============================] - 0s 4ms/sample - loss: 0.2984 - accuracy: 0.8854 - val_loss: 0.2666 - val_accuracy: 0.9167\n",
            "Epoch 18/50\n",
            "96/96 [==============================] - 0s 4ms/sample - loss: 0.2974 - accuracy: 0.8854 - val_loss: 0.2541 - val_accuracy: 0.9167\n",
            "Epoch 19/50\n",
            "96/96 [==============================] - 0s 4ms/sample - loss: 0.2951 - accuracy: 0.8542 - val_loss: 0.2598 - val_accuracy: 0.9167\n",
            "Epoch 20/50\n",
            "96/96 [==============================] - 0s 4ms/sample - loss: 0.3103 - accuracy: 0.8646 - val_loss: 0.2478 - val_accuracy: 0.9167\n",
            "Epoch 21/50\n",
            "96/96 [==============================] - 0s 4ms/sample - loss: 0.2579 - accuracy: 0.8854 - val_loss: 0.2482 - val_accuracy: 0.9167\n",
            "Epoch 22/50\n",
            "96/96 [==============================] - 0s 4ms/sample - loss: 0.2329 - accuracy: 0.9271 - val_loss: 0.2417 - val_accuracy: 0.9167\n",
            "Epoch 23/50\n",
            "96/96 [==============================] - 0s 4ms/sample - loss: 0.2610 - accuracy: 0.8646 - val_loss: 0.2160 - val_accuracy: 0.9167\n",
            "Epoch 24/50\n",
            "96/96 [==============================] - 0s 4ms/sample - loss: 0.2811 - accuracy: 0.8646 - val_loss: 0.2297 - val_accuracy: 0.9583\n",
            "Epoch 25/50\n",
            "96/96 [==============================] - 0s 4ms/sample - loss: 0.2584 - accuracy: 0.8438 - val_loss: 0.2077 - val_accuracy: 0.9167\n",
            "Epoch 26/50\n",
            "96/96 [==============================] - 0s 4ms/sample - loss: 0.2736 - accuracy: 0.8646 - val_loss: 0.2048 - val_accuracy: 0.9583\n",
            "Epoch 27/50\n",
            "96/96 [==============================] - 0s 4ms/sample - loss: 0.2875 - accuracy: 0.8854 - val_loss: 0.1863 - val_accuracy: 0.9583\n",
            "Epoch 28/50\n",
            "96/96 [==============================] - 0s 4ms/sample - loss: 0.2533 - accuracy: 0.8854 - val_loss: 0.1685 - val_accuracy: 0.9167\n",
            "Epoch 29/50\n",
            "96/96 [==============================] - 0s 4ms/sample - loss: 0.2419 - accuracy: 0.9062 - val_loss: 0.1726 - val_accuracy: 0.9583\n",
            "Epoch 30/50\n",
            "96/96 [==============================] - 0s 4ms/sample - loss: 0.2136 - accuracy: 0.9271 - val_loss: 0.1621 - val_accuracy: 0.9583\n",
            "Epoch 31/50\n",
            "96/96 [==============================] - 0s 4ms/sample - loss: 0.2481 - accuracy: 0.8854 - val_loss: 0.1547 - val_accuracy: 0.9583\n",
            "Epoch 32/50\n",
            "96/96 [==============================] - 0s 4ms/sample - loss: 0.1842 - accuracy: 0.9479 - val_loss: 0.1644 - val_accuracy: 0.9583\n",
            "Epoch 33/50\n",
            "96/96 [==============================] - 0s 4ms/sample - loss: 0.1805 - accuracy: 0.9375 - val_loss: 0.1575 - val_accuracy: 0.9583\n",
            "Epoch 34/50\n",
            "96/96 [==============================] - 0s 5ms/sample - loss: 0.1743 - accuracy: 0.9375 - val_loss: 0.1388 - val_accuracy: 0.9583\n",
            "Epoch 35/50\n",
            "96/96 [==============================] - 0s 4ms/sample - loss: 0.2010 - accuracy: 0.9062 - val_loss: 0.1565 - val_accuracy: 0.9583\n",
            "Epoch 36/50\n",
            "96/96 [==============================] - 0s 4ms/sample - loss: 0.1593 - accuracy: 0.9375 - val_loss: 0.1381 - val_accuracy: 0.9583\n",
            "Epoch 37/50\n",
            "96/96 [==============================] - 0s 4ms/sample - loss: 0.2125 - accuracy: 0.9062 - val_loss: 0.1453 - val_accuracy: 0.9583\n",
            "Epoch 38/50\n",
            "96/96 [==============================] - 0s 4ms/sample - loss: 0.1577 - accuracy: 0.9479 - val_loss: 0.1387 - val_accuracy: 0.9583\n",
            "Epoch 39/50\n",
            "96/96 [==============================] - 0s 4ms/sample - loss: 0.1984 - accuracy: 0.9167 - val_loss: 0.1205 - val_accuracy: 0.9583\n",
            "Epoch 40/50\n",
            "96/96 [==============================] - 0s 4ms/sample - loss: 0.1779 - accuracy: 0.9062 - val_loss: 0.1174 - val_accuracy: 0.9583\n",
            "Epoch 41/50\n",
            "96/96 [==============================] - 0s 4ms/sample - loss: 0.1848 - accuracy: 0.8958 - val_loss: 0.1131 - val_accuracy: 0.9583\n",
            "Epoch 42/50\n",
            "96/96 [==============================] - 0s 4ms/sample - loss: 0.1901 - accuracy: 0.9271 - val_loss: 0.1333 - val_accuracy: 0.9583\n",
            "Epoch 43/50\n",
            "96/96 [==============================] - 0s 4ms/sample - loss: 0.1945 - accuracy: 0.8750 - val_loss: 0.1348 - val_accuracy: 0.9583\n",
            "Epoch 44/50\n",
            "96/96 [==============================] - 0s 4ms/sample - loss: 0.1777 - accuracy: 0.9062 - val_loss: 0.1231 - val_accuracy: 0.9583\n",
            "Epoch 45/50\n",
            "96/96 [==============================] - 0s 4ms/sample - loss: 0.1804 - accuracy: 0.9375 - val_loss: 0.1126 - val_accuracy: 0.9583\n",
            "Epoch 46/50\n",
            "96/96 [==============================] - 0s 4ms/sample - loss: 0.1591 - accuracy: 0.9479 - val_loss: 0.0994 - val_accuracy: 0.9583\n",
            "Epoch 47/50\n",
            "96/96 [==============================] - 0s 4ms/sample - loss: 0.1393 - accuracy: 0.9583 - val_loss: 0.1094 - val_accuracy: 0.9583\n",
            "Epoch 48/50\n",
            "96/96 [==============================] - 0s 4ms/sample - loss: 0.1692 - accuracy: 0.9375 - val_loss: 0.1017 - val_accuracy: 0.9583\n",
            "Epoch 49/50\n",
            "96/96 [==============================] - 0s 4ms/sample - loss: 0.1428 - accuracy: 0.9375 - val_loss: 0.1001 - val_accuracy: 0.9583\n",
            "Epoch 50/50\n",
            "96/96 [==============================] - 0s 4ms/sample - loss: 0.1248 - accuracy: 0.9792 - val_loss: 0.1081 - val_accuracy: 0.9583\n"
          ],
          "name": "stdout"
        }
      ]
    },
    {
      "cell_type": "code",
      "metadata": {
        "id": "-EBwwjr5LxQc",
        "colab_type": "code",
        "colab": {
          "base_uri": "https://localhost:8080/",
          "height": 68
        },
        "outputId": "5c314fb5-e8a1-4fa1-d001-1fed21773d59"
      },
      "source": [
        "accuracies = model.evaluate(X_test, y_test, verbose=1)\n",
        "\n",
        "print(\"Test Score:\", accuracies[0])\n",
        "print(\"Test Accuracy:\", accuracies[1])"
      ],
      "execution_count": 31,
      "outputs": [
        {
          "output_type": "stream",
          "text": [
            "\r30/30 [==============================] - 0s 3ms/sample - loss: 0.0560 - accuracy: 1.0000\n",
            "Test Score: 0.0560462586581707\n",
            "Test Accuracy: 1.0\n"
          ],
          "name": "stdout"
        }
      ]
    },
    {
      "cell_type": "code",
      "metadata": {
        "id": "TMAJbXcTO3Es",
        "colab_type": "code",
        "colab": {
          "base_uri": "https://localhost:8080/",
          "height": 282
        },
        "outputId": "6bffb2f3-c259-4056-c1eb-b52fc7e7ac88"
      },
      "source": [
        "import matplotlib.pyplot as plt\n",
        "\n",
        "plt.plot(model_history.history['accuracy'], label = 'accuracy')\n",
        "plt.plot(model_history.history['val_accuracy'], label = 'val_accuracy')\n",
        "plt.legend(['train','test'], loc='lower left')"
      ],
      "execution_count": 32,
      "outputs": [
        {
          "output_type": "execute_result",
          "data": {
            "text/plain": [
              "<matplotlib.legend.Legend at 0x7fd36e62f470>"
            ]
          },
          "metadata": {
            "tags": []
          },
          "execution_count": 32
        },
        {
          "output_type": "display_data",
          "data": {
            "image/png": "[encoded data removed]",
            "text/plain": [
              "<Figure size 432x288 with 1 Axes>"
            ]
          },
          "metadata": {
            "tags": []
          }
        }
      ]
    },
    {
      "cell_type": "code",
      "metadata": {
        "id": "mbg5-Kf_L2PM",
        "colab_type": "code",
        "colab": {
          "base_uri": "https://localhost:8080/",
          "height": 282
        },
        "outputId": "79169ebe-d6a8-4a6b-9019-6f299f45c1e8"
      },
      "source": [
        "import matplotlib.pyplot as plt\n",
        "\n",
        "plt.plot(model_history.history['loss'], label = 'loss')\n",
        "plt.plot(model_history.history['val_loss'], label = 'val_loss')\n",
        "plt.legend(['train','test'], loc='upper left')"
      ],
      "execution_count": 33,
      "outputs": [
        {
          "output_type": "execute_result",
          "data": {
            "text/plain": [
              "<matplotlib.legend.Legend at 0x7fd38024e048>"
            ]
          },
          "metadata": {
            "tags": []
          },
          "execution_count": 33
        },
        {
          "output_type": "display_data",
          "data": {
            "image/png": "[encoded data removed]",
            "text/plain": [
              "<Figure size 432x288 with 1 Axes>"
            ]
          },
          "metadata": {
            "tags": []
          }
        }
      ]
    },
    {
      "cell_type": "markdown",
      "metadata": {
        "id": "U7ObOO64PiHh",
        "colab_type": "text"
      },
      "source": [
        "### 4.4 Neural Network in TensorFlow for Regression "
      ]
    },
    {
      "cell_type": "code",
      "metadata": {
        "id": "y6U_6mABQJpH",
        "colab_type": "code",
        "colab": {}
      },
      "source": [
        "import seaborn as sns\n",
        "import pandas as pd\n",
        "import numpy as np\n",
        "\n",
        "from tensorflow.keras.layers import Dense, Dropout, Activation\n",
        "from tensorflow.keras.models import Model, Sequential\n",
        "from tensorflow.keras.optimizers import Adam"
      ],
      "execution_count": 0,
      "outputs": []
    },
    {
      "cell_type": "code",
      "metadata": {
        "id": "aWbzl3utR4Rh",
        "colab_type": "code",
        "colab": {}
      },
      "source": [
        "wine_quality = pd.read_csv(\"https://raw.githubusercontent.com/shrikant-temburwar/Wine-Quality-Dataset/master/winequality-white.csv\", sep=';')"
      ],
      "execution_count": 0,
      "outputs": []
    },
    {
      "cell_type": "code",
      "metadata": {
        "id": "YZ-RKs_RR-R7",
        "colab_type": "code",
        "colab": {
          "base_uri": "https://localhost:8080/",
          "height": 204
        },
        "outputId": "2256cbf3-50d0-4898-e794-11251444adc4"
      },
      "source": [
        "wine_quality.head()"
      ],
      "execution_count": 37,
      "outputs": [
        {
          "output_type": "execute_result",
          "data": {
            "text/html": [
              "<div>\n",
              "<style scoped>\n",
              "    .dataframe tbody tr th:only-of-type {\n",
              "        vertical-align: middle;\n",
              "    }\n",
              "\n",
              "    .dataframe tbody tr th {\n",
              "        vertical-align: top;\n",
              "    }\n",
              "\n",
              "    .dataframe thead th {\n",
              "        text-align: right;\n",
              "    }\n",
              "</style>\n",
              "<table border=\"1\" class=\"dataframe\">\n",
              "  <thead>\n",
              "    <tr style=\"text-align: right;\">\n",
              "      <th></th>\n",
              "      <th>fixed acidity</th>\n",
              "      <th>volatile acidity</th>\n",
              "      <th>citric acid</th>\n",
              "      <th>residual sugar</th>\n",
              "      <th>chlorides</th>\n",
              "      <th>free sulfur dioxide</th>\n",
              "      <th>total sulfur dioxide</th>\n",
              "      <th>density</th>\n",
              "      <th>pH</th>\n",
              "      <th>sulphates</th>\n",
              "      <th>alcohol</th>\n",
              "      <th>quality</th>\n",
              "    </tr>\n",
              "  </thead>\n",
              "  <tbody>\n",
              "    <tr>\n",
              "      <th>0</th>\n",
              "      <td>7.0</td>\n",
              "      <td>0.27</td>\n",
              "      <td>0.36</td>\n",
              "      <td>20.7</td>\n",
              "      <td>0.045</td>\n",
              "      <td>45.0</td>\n",
              "      <td>170.0</td>\n",
              "      <td>1.0010</td>\n",
              "      <td>3.00</td>\n",
              "      <td>0.45</td>\n",
              "      <td>8.8</td>\n",
              "      <td>6</td>\n",
              "    </tr>\n",
              "    <tr>\n",
              "      <th>1</th>\n",
              "      <td>6.3</td>\n",
              "      <td>0.30</td>\n",
              "      <td>0.34</td>\n",
              "      <td>1.6</td>\n",
              "      <td>0.049</td>\n",
              "      <td>14.0</td>\n",
              "      <td>132.0</td>\n",
              "      <td>0.9940</td>\n",
              "      <td>3.30</td>\n",
              "      <td>0.49</td>\n",
              "      <td>9.5</td>\n",
              "      <td>6</td>\n",
              "    </tr>\n",
              "    <tr>\n",
              "      <th>2</th>\n",
              "      <td>8.1</td>\n",
              "      <td>0.28</td>\n",
              "      <td>0.40</td>\n",
              "      <td>6.9</td>\n",
              "      <td>0.050</td>\n",
              "      <td>30.0</td>\n",
              "      <td>97.0</td>\n",
              "      <td>0.9951</td>\n",
              "      <td>3.26</td>\n",
              "      <td>0.44</td>\n",
              "      <td>10.1</td>\n",
              "      <td>6</td>\n",
              "    </tr>\n",
              "    <tr>\n",
              "      <th>3</th>\n",
              "      <td>7.2</td>\n",
              "      <td>0.23</td>\n",
              "      <td>0.32</td>\n",
              "      <td>8.5</td>\n",
              "      <td>0.058</td>\n",
              "      <td>47.0</td>\n",
              "      <td>186.0</td>\n",
              "      <td>0.9956</td>\n",
              "      <td>3.19</td>\n",
              "      <td>0.40</td>\n",
              "      <td>9.9</td>\n",
              "      <td>6</td>\n",
              "    </tr>\n",
              "    <tr>\n",
              "      <th>4</th>\n",
              "      <td>7.2</td>\n",
              "      <td>0.23</td>\n",
              "      <td>0.32</td>\n",
              "      <td>8.5</td>\n",
              "      <td>0.058</td>\n",
              "      <td>47.0</td>\n",
              "      <td>186.0</td>\n",
              "      <td>0.9956</td>\n",
              "      <td>3.19</td>\n",
              "      <td>0.40</td>\n",
              "      <td>9.9</td>\n",
              "      <td>6</td>\n",
              "    </tr>\n",
              "  </tbody>\n",
              "</table>\n",
              "</div>"
            ],
            "text/plain": [
              "   fixed acidity  volatile acidity  citric acid  ...  sulphates  alcohol  quality\n",
              "0            7.0              0.27         0.36  ...       0.45      8.8        6\n",
              "1            6.3              0.30         0.34  ...       0.49      9.5        6\n",
              "2            8.1              0.28         0.40  ...       0.44     10.1        6\n",
              "3            7.2              0.23         0.32  ...       0.40      9.9        6\n",
              "4            7.2              0.23         0.32  ...       0.40      9.9        6\n",
              "\n",
              "[5 rows x 12 columns]"
            ]
          },
          "metadata": {
            "tags": []
          },
          "execution_count": 37
        }
      ]
    },
    {
      "cell_type": "code",
      "metadata": {
        "id": "bby6YZIKSspe",
        "colab_type": "code",
        "colab": {}
      },
      "source": [
        "X = wine_quality.drop(['quality'], axis=1).values\n",
        "y = wine_quality[['quality']].values"
      ],
      "execution_count": 0,
      "outputs": []
    },
    {
      "cell_type": "code",
      "metadata": {
        "id": "6EPSAf1DTMGb",
        "colab_type": "code",
        "colab": {}
      },
      "source": [
        "from sklearn.model_selection import train_test_split\n",
        "X_train, X_test, y_train, y_test = train_test_split(X, y, test_size=0.20, random_state=42)"
      ],
      "execution_count": 0,
      "outputs": []
    },
    {
      "cell_type": "code",
      "metadata": {
        "id": "lGI-zV39TQ8M",
        "colab_type": "code",
        "colab": {}
      },
      "source": [
        "from sklearn.preprocessing import StandardScaler\n",
        "sc = StandardScaler()\n",
        "X_train = sc.fit_transform(X_train)\n",
        "X_test = sc.transform(X_test)"
      ],
      "execution_count": 0,
      "outputs": []
    },
    {
      "cell_type": "code",
      "metadata": {
        "id": "KLuGEcCyTT8D",
        "colab_type": "code",
        "colab": {}
      },
      "source": [
        "def create_model_regression(learning_rate, dropout_rate):\n",
        "\n",
        "    model = Sequential()\n",
        "    model.add(Dense(100, input_dim=X_train.shape[1],  activation='relu'))\n",
        "    model.add(Dropout(dropout_rate))\n",
        "    model.add(Dense(50,  activation='relu'))\n",
        "    model.add(Dropout(dropout_rate))\n",
        "    model.add(Dense(25,  activation='relu'))\n",
        "    model.add(Dropout(dropout_rate))\n",
        "    model.add(Dense(1))\n",
        "\n",
        "    adam = Adam(lr=learning_rate)\n",
        "    model.compile(loss='mean_squared_error', optimizer=adam, metrics=['mae'])\n",
        "    return model"
      ],
      "execution_count": 0,
      "outputs": []
    },
    {
      "cell_type": "code",
      "metadata": {
        "id": "uI7djuWnUOW_",
        "colab_type": "code",
        "colab": {}
      },
      "source": [
        "dropout_rate = 0.1\n",
        "epochs = 50\n",
        "batch_size = 1\n",
        "learn_rate = 0.001"
      ],
      "execution_count": 0,
      "outputs": []
    },
    {
      "cell_type": "code",
      "metadata": {
        "id": "MVonwQVrURSU",
        "colab_type": "code",
        "colab": {
          "base_uri": "https://localhost:8080/",
          "height": 865
        },
        "outputId": "54200451-d1e4-4aaf-c419-7f5fe3fda7da"
      },
      "source": [
        "model = create_model_regression(learn_rate, dropout_rate)\n",
        "from tensorflow.keras.utils import plot_model\n",
        "plot_model(model, to_file='model_plot1.png', show_shapes=True, show_layer_names=True)"
      ],
      "execution_count": 48,
      "outputs": [
        {
          "output_type": "execute_result",
          "data": {
            "image/png": "[encoded data removed]",
            "text/plain": [
              "<IPython.core.display.Image object>"
            ]
          },
          "metadata": {
            "tags": []
          },
          "execution_count": 48
        }
      ]
    },
    {
      "cell_type": "code",
      "metadata": {
        "id": "pYlXB4zKUVr-",
        "colab_type": "code",
        "colab": {
          "base_uri": "https://localhost:8080/",
          "height": 1000
        },
        "outputId": "9bf5c161-1e4f-4a39-cf1b-ae041d87b3d3"
      },
      "source": [
        "model_history = model.fit(X_train, y_train, batch_size=batch_size, epochs=epochs, validation_split=0.2, verbose=1)"
      ],
      "execution_count": 49,
      "outputs": [
        {
          "output_type": "stream",
          "text": [
            "Train on 3134 samples, validate on 784 samples\n",
            "Epoch 1/50\n",
            "3134/3134 [==============================] - 11s 4ms/sample - loss: 2.4518 - mae: 1.1747 - val_loss: 1.1983 - val_mae: 0.8978\n",
            "Epoch 2/50\n",
            "3134/3134 [==============================] - 11s 3ms/sample - loss: 1.0767 - mae: 0.8182 - val_loss: 0.6705 - val_mae: 0.6335\n",
            "Epoch 3/50\n",
            "3134/3134 [==============================] - 11s 4ms/sample - loss: 0.9546 - mae: 0.7678 - val_loss: 0.8133 - val_mae: 0.7067\n",
            "Epoch 4/50\n",
            "3134/3134 [==============================] - 11s 3ms/sample - loss: 0.8194 - mae: 0.7123 - val_loss: 0.5951 - val_mae: 0.5881\n",
            "Epoch 5/50\n",
            "3134/3134 [==============================] - 11s 3ms/sample - loss: 0.7811 - mae: 0.6961 - val_loss: 0.5355 - val_mae: 0.5622\n",
            "Epoch 6/50\n",
            "3134/3134 [==============================] - 11s 3ms/sample - loss: 0.7174 - mae: 0.6638 - val_loss: 0.5474 - val_mae: 0.5618\n",
            "Epoch 7/50\n",
            "3134/3134 [==============================] - 11s 4ms/sample - loss: 0.6809 - mae: 0.6454 - val_loss: 0.5787 - val_mae: 0.5784\n",
            "Epoch 8/50\n",
            "3134/3134 [==============================] - 11s 3ms/sample - loss: 0.6776 - mae: 0.6479 - val_loss: 0.5279 - val_mae: 0.5594\n",
            "Epoch 9/50\n",
            "3134/3134 [==============================] - 11s 3ms/sample - loss: 0.6673 - mae: 0.6368 - val_loss: 0.5173 - val_mae: 0.5565\n",
            "Epoch 10/50\n",
            "3134/3134 [==============================] - 11s 3ms/sample - loss: 0.6385 - mae: 0.6211 - val_loss: 0.5440 - val_mae: 0.5648\n",
            "Epoch 11/50\n",
            "3134/3134 [==============================] - 11s 4ms/sample - loss: 0.6155 - mae: 0.6121 - val_loss: 0.4987 - val_mae: 0.5423\n",
            "Epoch 12/50\n",
            "3134/3134 [==============================] - 11s 4ms/sample - loss: 0.5985 - mae: 0.6042 - val_loss: 0.4905 - val_mae: 0.5401\n",
            "Epoch 13/50\n",
            "3134/3134 [==============================] - 11s 4ms/sample - loss: 0.5808 - mae: 0.5922 - val_loss: 0.4952 - val_mae: 0.5436\n",
            "Epoch 14/50\n",
            "3134/3134 [==============================] - 11s 4ms/sample - loss: 0.5643 - mae: 0.5881 - val_loss: 0.5266 - val_mae: 0.5526\n",
            "Epoch 15/50\n",
            "3134/3134 [==============================] - 11s 4ms/sample - loss: 0.5518 - mae: 0.5822 - val_loss: 0.4829 - val_mae: 0.5403\n",
            "Epoch 16/50\n",
            "3134/3134 [==============================] - 11s 4ms/sample - loss: 0.5379 - mae: 0.5732 - val_loss: 0.4823 - val_mae: 0.5430\n",
            "Epoch 17/50\n",
            "3134/3134 [==============================] - 11s 4ms/sample - loss: 0.5301 - mae: 0.5685 - val_loss: 0.4854 - val_mae: 0.5409\n",
            "Epoch 18/50\n",
            "3134/3134 [==============================] - 11s 4ms/sample - loss: 0.5181 - mae: 0.5608 - val_loss: 0.5027 - val_mae: 0.5470\n",
            "Epoch 19/50\n",
            "3134/3134 [==============================] - 11s 3ms/sample - loss: 0.5100 - mae: 0.5584 - val_loss: 0.4936 - val_mae: 0.5439\n",
            "Epoch 20/50\n",
            "3134/3134 [==============================] - 11s 4ms/sample - loss: 0.4901 - mae: 0.5457 - val_loss: 0.4894 - val_mae: 0.5362\n",
            "Epoch 21/50\n",
            "3134/3134 [==============================] - 11s 3ms/sample - loss: 0.4912 - mae: 0.5487 - val_loss: 0.4988 - val_mae: 0.5385\n",
            "Epoch 22/50\n",
            "3134/3134 [==============================] - 11s 4ms/sample - loss: 0.4609 - mae: 0.5272 - val_loss: 0.5076 - val_mae: 0.5445\n",
            "Epoch 23/50\n",
            "3134/3134 [==============================] - 11s 4ms/sample - loss: 0.4611 - mae: 0.5272 - val_loss: 0.5324 - val_mae: 0.5618\n",
            "Epoch 24/50\n",
            "3134/3134 [==============================] - 11s 4ms/sample - loss: 0.4505 - mae: 0.5237 - val_loss: 0.4926 - val_mae: 0.5355\n",
            "Epoch 25/50\n",
            "3134/3134 [==============================] - 11s 3ms/sample - loss: 0.4452 - mae: 0.5230 - val_loss: 0.4693 - val_mae: 0.5250\n",
            "Epoch 26/50\n",
            "3134/3134 [==============================] - 11s 4ms/sample - loss: 0.4479 - mae: 0.5252 - val_loss: 0.4822 - val_mae: 0.5270\n",
            "Epoch 27/50\n",
            "3134/3134 [==============================] - 11s 4ms/sample - loss: 0.4321 - mae: 0.5104 - val_loss: 0.4766 - val_mae: 0.5256\n",
            "Epoch 28/50\n",
            "3134/3134 [==============================] - 11s 3ms/sample - loss: 0.4217 - mae: 0.4998 - val_loss: 0.4911 - val_mae: 0.5367\n",
            "Epoch 29/50\n",
            "3134/3134 [==============================] - 11s 3ms/sample - loss: 0.4097 - mae: 0.4919 - val_loss: 0.4912 - val_mae: 0.5379\n",
            "Epoch 30/50\n",
            "3134/3134 [==============================] - 11s 3ms/sample - loss: 0.4120 - mae: 0.5000 - val_loss: 0.4847 - val_mae: 0.5236\n",
            "Epoch 31/50\n",
            "3134/3134 [==============================] - 11s 4ms/sample - loss: 0.4049 - mae: 0.4980 - val_loss: 0.4906 - val_mae: 0.5356\n",
            "Epoch 32/50\n",
            "3134/3134 [==============================] - 11s 4ms/sample - loss: 0.4090 - mae: 0.4936 - val_loss: 0.4888 - val_mae: 0.5357\n",
            "Epoch 33/50\n",
            "3134/3134 [==============================] - 11s 4ms/sample - loss: 0.4026 - mae: 0.4922 - val_loss: 0.5023 - val_mae: 0.5392\n",
            "Epoch 34/50\n",
            "3134/3134 [==============================] - 11s 4ms/sample - loss: 0.3741 - mae: 0.4696 - val_loss: 0.4893 - val_mae: 0.5289\n",
            "Epoch 35/50\n",
            "3134/3134 [==============================] - 11s 3ms/sample - loss: 0.3741 - mae: 0.4728 - val_loss: 0.4798 - val_mae: 0.5265\n",
            "Epoch 36/50\n",
            "3134/3134 [==============================] - 11s 3ms/sample - loss: 0.3793 - mae: 0.4752 - val_loss: 0.4717 - val_mae: 0.5212\n",
            "Epoch 37/50\n",
            "3134/3134 [==============================] - 11s 4ms/sample - loss: 0.3821 - mae: 0.4762 - val_loss: 0.4683 - val_mae: 0.5237\n",
            "Epoch 38/50\n",
            "3134/3134 [==============================] - 11s 3ms/sample - loss: 0.3642 - mae: 0.4623 - val_loss: 0.4736 - val_mae: 0.5220\n",
            "Epoch 39/50\n",
            "3134/3134 [==============================] - 12s 4ms/sample - loss: 0.3654 - mae: 0.4686 - val_loss: 0.4516 - val_mae: 0.5108\n",
            "Epoch 40/50\n",
            "3134/3134 [==============================] - 11s 4ms/sample - loss: 0.3695 - mae: 0.4643 - val_loss: 0.4671 - val_mae: 0.5171\n",
            "Epoch 41/50\n",
            "3134/3134 [==============================] - 11s 4ms/sample - loss: 0.3486 - mae: 0.4543 - val_loss: 0.4871 - val_mae: 0.5329\n",
            "Epoch 42/50\n",
            "3134/3134 [==============================] - 11s 3ms/sample - loss: 0.3463 - mae: 0.4545 - val_loss: 0.4960 - val_mae: 0.5372\n",
            "Epoch 43/50\n",
            "3134/3134 [==============================] - 11s 3ms/sample - loss: 0.3423 - mae: 0.4498 - val_loss: 0.4646 - val_mae: 0.5099\n",
            "Epoch 44/50\n",
            "3134/3134 [==============================] - 11s 3ms/sample - loss: 0.3433 - mae: 0.4508 - val_loss: 0.4735 - val_mae: 0.5176\n",
            "Epoch 45/50\n",
            "3134/3134 [==============================] - 10s 3ms/sample - loss: 0.3416 - mae: 0.4475 - val_loss: 0.4684 - val_mae: 0.5139\n",
            "Epoch 46/50\n",
            "3134/3134 [==============================] - 10s 3ms/sample - loss: 0.3382 - mae: 0.4462 - val_loss: 0.4777 - val_mae: 0.5140\n",
            "Epoch 47/50\n",
            "3134/3134 [==============================] - 11s 3ms/sample - loss: 0.3407 - mae: 0.4439 - val_loss: 0.4795 - val_mae: 0.5140\n",
            "Epoch 48/50\n",
            "3134/3134 [==============================] - 11s 3ms/sample - loss: 0.3276 - mae: 0.4421 - val_loss: 0.4620 - val_mae: 0.5104\n",
            "Epoch 49/50\n",
            "3134/3134 [==============================] - 11s 4ms/sample - loss: 0.3359 - mae: 0.4404 - val_loss: 0.4764 - val_mae: 0.5217\n",
            "Epoch 50/50\n",
            "3134/3134 [==============================] - 10s 3ms/sample - loss: 0.3334 - mae: 0.4392 - val_loss: 0.4758 - val_mae: 0.5196\n"
          ],
          "name": "stdout"
        }
      ]
    },
    {
      "cell_type": "code",
      "metadata": {
        "id": "ziumzDbgUZ9N",
        "colab_type": "code",
        "colab": {
          "base_uri": "https://localhost:8080/",
          "height": 68
        },
        "outputId": "127c0e8f-3eac-4376-a745-937aee8f7614"
      },
      "source": [
        "accuracies = model.evaluate(X_test, y_test, verbose=1)\n",
        "\n",
        "print(\"Test Score:\", accuracies[0])\n",
        "print(\"Test Accuracy:\", accuracies[1])"
      ],
      "execution_count": 50,
      "outputs": [
        {
          "output_type": "stream",
          "text": [
            "980/980 [==============================] - 0s 169us/sample - loss: 0.5045 - mae: 0.5312\n",
            "Test Score: 0.5045385690367952\n",
            "Test Accuracy: 0.53124046\n"
          ],
          "name": "stdout"
        }
      ]
    },
    {
      "cell_type": "code",
      "metadata": {
        "id": "FqzP6-JYXLBp",
        "colab_type": "code",
        "colab": {
          "base_uri": "https://localhost:8080/",
          "height": 283
        },
        "outputId": "84c6ffaa-66bd-471f-933d-4aed75700edf"
      },
      "source": [
        "import matplotlib.pyplot as plt\n",
        "\n",
        "plt.plot(model_history.history['mae'], label = 'mae')\n",
        "plt.plot(model_history.history['val_mae'], label = 'val_mae')\n",
        "plt.legend(['train','test'], loc='lower left')"
      ],
      "execution_count": 52,
      "outputs": [
        {
          "output_type": "execute_result",
          "data": {
            "text/plain": [
              "<matplotlib.legend.Legend at 0x7fd35502f2b0>"
            ]
          },
          "metadata": {
            "tags": []
          },
          "execution_count": 52
        },
        {
          "output_type": "display_data",
          "data": {
            "image/png": "[encoded data removed]",
            "text/plain": [
              "<Figure size 432x288 with 1 Axes>"
            ]
          },
          "metadata": {
            "tags": []
          }
        }
      ]
    },
    {
      "cell_type": "markdown",
      "metadata": {
        "id": "tTdBNaZHY2ZL",
        "colab_type": "text"
      },
      "source": [
        "### Exercise 4.1"
      ]
    },
    {
      "cell_type": "markdown",
      "metadata": {
        "id": "lglMJEViY5YD",
        "colab_type": "text"
      },
      "source": [
        "#### Question 1:\n",
        "\n",
        "Which of the following loss functions can be used for regression problems:\n",
        "\n",
        "1. Binary Cross Entropy\n",
        "2. Categorical Cross Entropy\n",
        "3. Log Likelihood\n",
        "4. None of the Above\n",
        "\n",
        "Answer (4)\n",
        "\n",
        "\n",
        "#### Question 2:\n",
        "\n",
        "We say that a model is overfitting when:\n",
        "\n",
        "1. Results on test set are better than train set\n",
        "2. Results on both test and train set are similar\n",
        "3. Results on training set are better than results on test set\n",
        "4. None of the above\n",
        "\n",
        "Answer (3)\n",
        "\n",
        "#### Question 3:\n",
        "\n",
        "The number of neurons in the output layer depends upon:\n",
        "\n",
        "1. The type of problem\n",
        "2. The number of possible  outputs\n",
        "3. The activation function\n",
        "4. The loss function\n",
        "\n",
        "Answer (2)"
      ]
    },
    {
      "cell_type": "markdown",
      "metadata": {
        "id": "-36gHlAJYvfE",
        "colab_type": "text"
      },
      "source": [
        "### Exercise 4.2"
      ]
    },
    {
      "cell_type": "code",
      "metadata": {
        "id": "3zxMFsqaXTcg",
        "colab_type": "code",
        "colab": {
          "base_uri": "https://localhost:8080/",
          "height": 204
        },
        "outputId": "638faeaa-9129-4d43-9de4-af37a90af2d9"
      },
      "source": [
        "import seaborn as sns\n",
        "import pandas as pd\n",
        "import numpy as np\n",
        "\n",
        "from tensorflow.keras.layers import Dense, Dropout, Activation\n",
        "from tensorflow.keras.models import Model, Sequential\n",
        "from tensorflow.keras.optimizers import Adam\n",
        "\n",
        "diamond_data = sns.load_dataset('diamonds')\n",
        "\n",
        "diamond_data .head()"
      ],
      "execution_count": 71,
      "outputs": [
        {
          "output_type": "execute_result",
          "data": {
            "text/html": [
              "<div>\n",
              "<style scoped>\n",
              "    .dataframe tbody tr th:only-of-type {\n",
              "        vertical-align: middle;\n",
              "    }\n",
              "\n",
              "    .dataframe tbody tr th {\n",
              "        vertical-align: top;\n",
              "    }\n",
              "\n",
              "    .dataframe thead th {\n",
              "        text-align: right;\n",
              "    }\n",
              "</style>\n",
              "<table border=\"1\" class=\"dataframe\">\n",
              "  <thead>\n",
              "    <tr style=\"text-align: right;\">\n",
              "      <th></th>\n",
              "      <th>carat</th>\n",
              "      <th>cut</th>\n",
              "      <th>color</th>\n",
              "      <th>clarity</th>\n",
              "      <th>depth</th>\n",
              "      <th>table</th>\n",
              "      <th>price</th>\n",
              "      <th>x</th>\n",
              "      <th>y</th>\n",
              "      <th>z</th>\n",
              "    </tr>\n",
              "  </thead>\n",
              "  <tbody>\n",
              "    <tr>\n",
              "      <th>0</th>\n",
              "      <td>0.23</td>\n",
              "      <td>Ideal</td>\n",
              "      <td>E</td>\n",
              "      <td>SI2</td>\n",
              "      <td>61.5</td>\n",
              "      <td>55.0</td>\n",
              "      <td>326</td>\n",
              "      <td>3.95</td>\n",
              "      <td>3.98</td>\n",
              "      <td>2.43</td>\n",
              "    </tr>\n",
              "    <tr>\n",
              "      <th>1</th>\n",
              "      <td>0.21</td>\n",
              "      <td>Premium</td>\n",
              "      <td>E</td>\n",
              "      <td>SI1</td>\n",
              "      <td>59.8</td>\n",
              "      <td>61.0</td>\n",
              "      <td>326</td>\n",
              "      <td>3.89</td>\n",
              "      <td>3.84</td>\n",
              "      <td>2.31</td>\n",
              "    </tr>\n",
              "    <tr>\n",
              "      <th>2</th>\n",
              "      <td>0.23</td>\n",
              "      <td>Good</td>\n",
              "      <td>E</td>\n",
              "      <td>VS1</td>\n",
              "      <td>56.9</td>\n",
              "      <td>65.0</td>\n",
              "      <td>327</td>\n",
              "      <td>4.05</td>\n",
              "      <td>4.07</td>\n",
              "      <td>2.31</td>\n",
              "    </tr>\n",
              "    <tr>\n",
              "      <th>3</th>\n",
              "      <td>0.29</td>\n",
              "      <td>Premium</td>\n",
              "      <td>I</td>\n",
              "      <td>VS2</td>\n",
              "      <td>62.4</td>\n",
              "      <td>58.0</td>\n",
              "      <td>334</td>\n",
              "      <td>4.20</td>\n",
              "      <td>4.23</td>\n",
              "      <td>2.63</td>\n",
              "    </tr>\n",
              "    <tr>\n",
              "      <th>4</th>\n",
              "      <td>0.31</td>\n",
              "      <td>Good</td>\n",
              "      <td>J</td>\n",
              "      <td>SI2</td>\n",
              "      <td>63.3</td>\n",
              "      <td>58.0</td>\n",
              "      <td>335</td>\n",
              "      <td>4.34</td>\n",
              "      <td>4.35</td>\n",
              "      <td>2.75</td>\n",
              "    </tr>\n",
              "  </tbody>\n",
              "</table>\n",
              "</div>"
            ],
            "text/plain": [
              "   carat      cut color clarity  depth  table  price     x     y     z\n",
              "0   0.23    Ideal     E     SI2   61.5   55.0    326  3.95  3.98  2.43\n",
              "1   0.21  Premium     E     SI1   59.8   61.0    326  3.89  3.84  2.31\n",
              "2   0.23     Good     E     VS1   56.9   65.0    327  4.05  4.07  2.31\n",
              "3   0.29  Premium     I     VS2   62.4   58.0    334  4.20  4.23  2.63\n",
              "4   0.31     Good     J     SI2   63.3   58.0    335  4.34  4.35  2.75"
            ]
          },
          "metadata": {
            "tags": []
          },
          "execution_count": 71
        }
      ]
    },
    {
      "cell_type": "markdown",
      "metadata": {
        "id": "ov6P7Y5_Yizt",
        "colab_type": "text"
      },
      "source": [
        "From the diamond dataset above, predict the price of diamond using all the other features. \n",
        "Tip: Use one-hot encoding to convert categorical variables into numerical variables."
      ]
    },
    {
      "cell_type": "code",
      "metadata": {
        "id": "e-y-pO8dYyUY",
        "colab_type": "code",
        "colab": {
          "base_uri": "https://localhost:8080/",
          "height": 765
        },
        "outputId": "fe1286a0-e887-4c9f-a5ee-685bf3ba391a"
      },
      "source": [
        "diamond_data.shape\n",
        "categorical_data = diamond_data.drop(['cut','color', 'clarity'], axis=1)\n",
        "\n",
        "cut_1hot = pd.get_dummies(diamond_data.cut).iloc[:,1:]\n",
        "color_1hot = pd.get_dummies(diamond_data.color).iloc[:,1:]\n",
        "clarity_1hot = pd.get_dummies(diamond_data.clarity).iloc[:,1:]\n",
        "\n",
        "diamond_data = pd.concat([categorical_data,cut_1hot, color_1hot,clarity_1hot], axis=1)\n",
        "\n",
        "X = diamond_data.drop(['price'], axis=1).values\n",
        "\n",
        "y = diamond_data['price'].values\n",
        "\n",
        "from sklearn.model_selection import train_test_split\n",
        "\n",
        "X_train, X_test, y_train, y_test = train_test_split(X, y, test_size=0.2, random_state=40)\n",
        "\n",
        "from sklearn.preprocessing import StandardScaler\n",
        "\n",
        "sc = StandardScaler()\n",
        "X_train = sc.fit_transform(X_train)\n",
        "X_test = sc.transform(X_test)\n",
        "\n",
        "\n",
        "def create_model(learning_rate, dropout_rate):\n",
        "\n",
        "    model = Sequential()\n",
        "    model.add(Dense(100, input_dim=X_train.shape[1],  activation='relu'))\n",
        "    model.add(Dropout(dropout_rate))\n",
        "    model.add(Dense(50,  activation='relu'))\n",
        "    model.add(Dropout(dropout_rate))\n",
        "    model.add(Dense(25,  activation='relu'))\n",
        "    model.add(Dropout(dropout_rate))\n",
        "    model.add(Dense(1))\n",
        "\n",
        "    adam = Adam(lr=learning_rate)\n",
        "    model.compile(loss='mean_squared_error', optimizer=adam, metrics=['mae'])\n",
        "    return model\n",
        "\n",
        "  \n",
        "dropout_rate = 0.1\n",
        "epochs = 20\n",
        "batch_size = 4\n",
        "learn_rate = 0.001\n",
        "\n",
        "model = create_model(learn_rate, dropout_rate)\n",
        "\n",
        "model_history = model.fit(X_train, y_train, batch_size=batch_size, epochs=epochs, validation_split=0.2, verbose=1)\n",
        "\n",
        "accuracies = model.evaluate(X_test, y_test, verbose=1)\n",
        "\n",
        "print(\"Test Score:\", accuracies[0])\n",
        "print(\"Test MAE:\", accuracies[1])"
      ],
      "execution_count": 72,
      "outputs": [
        {
          "output_type": "stream",
          "text": [
            "Train on 34521 samples, validate on 8631 samples\n",
            "Epoch 1/20\n",
            "34521/34521 [==============================] - 39s 1ms/sample - loss: 2284695.5054 - mae: 747.4974 - val_loss: 2096866.7675 - val_mae: 462.8856\n",
            "Epoch 2/20\n",
            "34521/34521 [==============================] - 38s 1ms/sample - loss: 1030681.7564 - mae: 555.9938 - val_loss: 2252981.0494 - val_mae: 435.2428\n",
            "Epoch 3/20\n",
            "34521/34521 [==============================] - 38s 1ms/sample - loss: 945063.9646 - mae: 539.1994 - val_loss: 2743844.2677 - val_mae: 403.4655\n",
            "Epoch 4/20\n",
            "34521/34521 [==============================] - 38s 1ms/sample - loss: 926084.1948 - mae: 531.4434 - val_loss: 3352591.9939 - val_mae: 410.1997\n",
            "Epoch 5/20\n",
            "34521/34521 [==============================] - 38s 1ms/sample - loss: 893698.9366 - mae: 522.5873 - val_loss: 3640072.1163 - val_mae: 402.7003\n",
            "Epoch 6/20\n",
            "34521/34521 [==============================] - 38s 1ms/sample - loss: 884912.2597 - mae: 523.2234 - val_loss: 3888763.9429 - val_mae: 385.7899\n",
            "Epoch 7/20\n",
            "34521/34521 [==============================] - 38s 1ms/sample - loss: 840847.1439 - mae: 510.7119 - val_loss: 4435554.2659 - val_mae: 391.8569\n",
            "Epoch 8/20\n",
            "34521/34521 [==============================] - 37s 1ms/sample - loss: 842244.1754 - mae: 512.1592 - val_loss: 4773833.8776 - val_mae: 382.6823\n",
            "Epoch 9/20\n",
            "34521/34521 [==============================] - 38s 1ms/sample - loss: 825832.5483 - mae: 504.7894 - val_loss: 5429250.1586 - val_mae: 382.9208\n",
            "Epoch 10/20\n",
            "34521/34521 [==============================] - 37s 1ms/sample - loss: 800692.7143 - mae: 499.7450 - val_loss: 5699015.9073 - val_mae: 391.5934\n",
            "Epoch 11/20\n",
            "34521/34521 [==============================] - 37s 1ms/sample - loss: 836830.5891 - mae: 507.3622 - val_loss: 6012855.6570 - val_mae: 394.2674\n",
            "Epoch 12/20\n",
            "34521/34521 [==============================] - 37s 1ms/sample - loss: 804654.8793 - mae: 502.1246 - val_loss: 6154062.7494 - val_mae: 395.8735\n",
            "Epoch 13/20\n",
            "34521/34521 [==============================] - 38s 1ms/sample - loss: 811620.4535 - mae: 502.8324 - val_loss: 6597102.0802 - val_mae: 386.6119\n",
            "Epoch 14/20\n",
            "34521/34521 [==============================] - 38s 1ms/sample - loss: 790526.3140 - mae: 495.5672 - val_loss: 6986705.5653 - val_mae: 381.5183\n",
            "Epoch 15/20\n",
            "34521/34521 [==============================] - 37s 1ms/sample - loss: 785626.7654 - mae: 494.6659 - val_loss: 7693479.0190 - val_mae: 388.3380\n",
            "Epoch 16/20\n",
            "34521/34521 [==============================] - 37s 1ms/sample - loss: 794990.0446 - mae: 498.9641 - val_loss: 7317061.2368 - val_mae: 393.2520\n",
            "Epoch 17/20\n",
            "34521/34521 [==============================] - 37s 1ms/sample - loss: 787651.1766 - mae: 495.6787 - val_loss: 7756706.7258 - val_mae: 409.1848\n",
            "Epoch 18/20\n",
            "34521/34521 [==============================] - 37s 1ms/sample - loss: 783641.0964 - mae: 495.5427 - val_loss: 8237666.8326 - val_mae: 387.8877\n",
            "Epoch 19/20\n",
            "34521/34521 [==============================] - 36s 1ms/sample - loss: 788990.8748 - mae: 496.6116 - val_loss: 8959722.2003 - val_mae: 385.1210\n",
            "Epoch 20/20\n",
            "34521/34521 [==============================] - 37s 1ms/sample - loss: 792961.6562 - mae: 496.1516 - val_loss: 8197317.7412 - val_mae: 393.8549\n",
            "10788/10788 [==============================] - 1s 77us/sample - loss: 429582.1661 - mae: 354.8167\n",
            "Test Score: 429582.1661278736\n",
            "Test MAE: 354.81668\n"
          ],
          "name": "stdout"
        }
      ]
    },
    {
      "cell_type": "code",
      "metadata": {
        "id": "R8mZS3Xfa4CB",
        "colab_type": "code",
        "colab": {}
      },
      "source": [
        ""
      ],
      "execution_count": 0,
      "outputs": []
    }
  ]
}