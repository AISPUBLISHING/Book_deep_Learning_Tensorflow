{
 "cells": [
  {
   "cell_type": "markdown",
   "metadata": {},
   "source": [
    "## Section 2.1.2"
   ]
  },
  {
   "cell_type": "code",
   "execution_count": 1,
   "metadata": {},
   "outputs": [],
   "source": [
    "# -*- coding: utf-8 -*-\n",
    "\"\"\"\n",
    "Created on Fri Apr 10 15:47:40 2020\n",
    "\n",
    "@author: usman\n",
    "\"\"\"\n",
    "\n",
    "from sklearn.datasets import make_regression\n",
    "import matplotlib.pyplot as plt\n",
    "import numpy as np\n",
    "\n",
    "X, y= make_regression(n_samples=100, n_features=3, noise=1.0, bias=50)\n",
    "\n",
    "y = y.reshape(y.shape[0],1)\n"
   ]
  },
  {
   "cell_type": "code",
   "execution_count": 2,
   "metadata": {},
   "outputs": [
    {
     "name": "stdout",
     "output_type": "stream",
     "text": [
      "(100, 3)\n",
      "(100, 1)\n"
     ]
    }
   ],
   "source": [
    "print(X.shape)  \n",
    "print(y.shape)  "
   ]
  },
  {
   "cell_type": "code",
   "execution_count": 3,
   "metadata": {},
   "outputs": [],
   "source": [
    "def define_parameters(n_weights):  \n",
    "    a = np.random.randn( n_weights, 1)  \n",
    "    b = np.random.randn()  \n",
    "    return a, b  "
   ]
  },
  {
   "cell_type": "code",
   "execution_count": 4,
   "metadata": {},
   "outputs": [],
   "source": [
    "def predictions(a, b , X):  \n",
    "    z = np.dot(X,a) + b  \n",
    "    return z  "
   ]
  },
  {
   "cell_type": "code",
   "execution_count": 5,
   "metadata": {},
   "outputs": [],
   "source": [
    "def find_cost(z,y):  \n",
    "    m = y.shape[0]  \n",
    "    total_cost = (1/m) * np.sum(np.square(z - y))  \n",
    "    return total_cost  "
   ]
  },
  {
   "cell_type": "code",
   "execution_count": 6,
   "metadata": {},
   "outputs": [],
   "source": [
    "def find_derivatives(X,y,z):  \n",
    "    m = y.shape[0]  \n",
    "    dz = (1/m)*(z-y)  \n",
    "    dw = np.dot(X.T, dz)  \n",
    "    db = np.sum(dz)  \n",
    "      \n",
    "    return dw, db  "
   ]
  },
  {
   "cell_type": "code",
   "execution_count": 7,
   "metadata": {},
   "outputs": [],
   "source": [
    "def update_parameters(a, b, da, db, lr):  \n",
    "    a = a - lr * da  \n",
    "    b = b - lr * db  \n",
    "  \n",
    "    return a, b  "
   ]
  },
  {
   "cell_type": "code",
   "execution_count": 8,
   "metadata": {},
   "outputs": [],
   "source": [
    "\n",
    "def linear_regressionm(X, y, lr, epochs):  \n",
    "    error_list = []  \n",
    "    lenw = X.shape[1]  \n",
    "    a,b = define_parameters(lenw)  \n",
    "  \n",
    "    for i in range(epochs):  \n",
    "        z = predictions(a, b, X)  \n",
    "        cost = find_cost(z,y)  \n",
    "        error_list.append(cost)  \n",
    "        da, db = find_derivatives(X, y, z)  \n",
    "        a, b = update_parameters(a, b, da, db, lr)  \n",
    "        if i % 50 == 0 :  \n",
    "            print(cost)  \n",
    "  \n",
    "    return error_list  "
   ]
  },
  {
   "cell_type": "code",
   "execution_count": 10,
   "metadata": {},
   "outputs": [
    {
     "name": "stdout",
     "output_type": "stream",
     "text": [
      "17461.950003132533\n",
      "7260.946268081211\n",
      "3055.4766569221965\n",
      "1298.8832803638159\n",
      "557.003170156412\n",
      "240.763790365987\n",
      "104.92221790851863\n",
      "46.20062160956383\n",
      "20.684353482630986\n",
      "9.549659058573715\n",
      "4.673923869777418\n",
      "2.5328977556727743\n",
      "1.5905870791890133\n",
      "1.1750889440530479\n",
      "0.9916065992015999\n",
      "0.9104832693268997\n",
      "0.8745809096388025\n",
      "0.8586791757353913\n",
      "0.8516315267106046\n",
      "0.848506390322606\n"
     ]
    }
   ],
   "source": [
    "lr = 0.01  \n",
    "epochs = 1000  \n",
    "error_list = linear_regressionm(X,y,lr,epochs)  \n"
   ]
  },
  {
   "cell_type": "code",
   "execution_count": 11,
   "metadata": {},
   "outputs": [
    {
     "data": {
      "text/plain": [
       "[<matplotlib.lines.Line2D at 0x2a7a7fac160>]"
      ]
     },
     "execution_count": 11,
     "metadata": {},
     "output_type": "execute_result"
    },
    {
     "data": {
      "image/png": "[encoded data removed]",
      "text/plain": [
       "<Figure size 432x288 with 1 Axes>"
      ]
     },
     "metadata": {
      "needs_background": "light"
     },
     "output_type": "display_data"
    }
   ],
   "source": [
    "plt.plot(error_list)"
   ]
  },
  {
   "cell_type": "code",
   "execution_count": null,
   "metadata": {},
   "outputs": [],
   "source": []
  }
 ],
 "metadata": {
  "kernelspec": {
   "display_name": "Python 3",
   "language": "python",
   "name": "python3"
  },
  "language_info": {
   "codemirror_mode": {
    "name": "ipython",
    "version": 3
   },
   "file_extension": ".py",
   "mimetype": "text/x-python",
   "name": "python",
   "nbconvert_exporter": "python",
   "pygments_lexer": "ipython3",
   "version": "3.8.5"
  }
 },
 "nbformat": 4,
 "nbformat_minor": 2
}
